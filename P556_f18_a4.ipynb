{
 "cells": [
  {
   "cell_type": "markdown",
   "metadata": {
    "colab_type": "text",
    "id": "Pklo4QPedGll"
   },
   "source": [
    "# CSCI-P556, Fall 2018\n",
    "# Assignment 4"
   ]
  },
  {
   "cell_type": "markdown",
   "metadata": {
    "colab_type": "text",
    "id": "5mXtO-XLcycH"
   },
   "source": [
    "We will be using the the following data sets in this assignment:\n",
    "\n",
    "\n",
    "\n",
    "*   [Ionosphere](https://archive.ics.uci.edu/ml/datasets/ionosphere)\n",
    "*   [Car Evaluation](https://archive.ics.uci.edu/ml/datasets/car+evaluation)\n",
    "*   [Credit Approval](https://archive.ics.uci.edu/ml/datasets/Credit+Approval)\n",
    "\n",
    "Download them to the same folder as this .ipynb file. Take a look at the 'Data Set Descriptions' links in the above links.\n"
   ]
  },
  {
   "cell_type": "markdown",
   "metadata": {
    "colab_type": "text",
    "id": "7ZnETDTlbpKW"
   },
   "source": [
    "## Problem 1: K-Fold Cross Validation [10 points]\n",
    "\n",
    "Implement k- fold cross validation and select k = 5 to create 5 training and 5 test data sets from each data\n",
    "set and save these 30 files. You will use these data sets for model comparison and parameter selection."
   ]
  },
  {
   "cell_type": "code",
   "execution_count": 1,
   "metadata": {
    "colab": {},
    "colab_type": "code",
    "id": "vCnP8jphbmWN"
   },
   "outputs": [],
   "source": [
    "# Code for problem 1 goes here\n",
    "import pandas as pd\n",
    "import numpy as np\n",
    "import random\n",
    "from sklearn import preprocessing\n",
    "import matplotlib.pyplot as plt\n",
    "from collections import Counter\n",
    "import math"
   ]
  },
  {
   "cell_type": "code",
   "execution_count": 2,
   "metadata": {},
   "outputs": [],
   "source": [
    "#Reference1 - https://machinelearningmastery.com/implement-resampling-methods-scratch-python/\n",
    "#Reference2- Discussed with classmates(Bhavna)"
   ]
  },
  {
   "cell_type": "code",
   "execution_count": 3,
   "metadata": {},
   "outputs": [],
   "source": [
    "def fold_data_split(fold_data,filename):\n",
    "    for i in range(len(fold_data)):\n",
    "            fold_data1 = fold_data.copy()\n",
    "            test_dataset = fold_data1.pop(i)\n",
    "            train_dataset = pd.concat(fold_data1, ignore_index=True)                                             \n",
    "            filename_train = filename+\"_\"+\"train\"+str(i+1)+\".csv\"\n",
    "            filename_test = filename +\"_\"+\"test\"+str(i+1)+\".csv\"\n",
    "            train_dataset.to_csv(filename_train, sep=',', encoding='utf-8', index = False)\n",
    "            test_dataset.to_csv(filename_test, sep=',', encoding='utf-8', index = False)"
   ]
  },
  {
   "cell_type": "markdown",
   "metadata": {},
   "source": [
    "Getting Inoshpere Data"
   ]
  },
  {
   "cell_type": "code",
   "execution_count": 218,
   "metadata": {},
   "outputs": [],
   "source": [
    "#Reading Inosphere Data and diving into 5 folds.\n",
    "inosphere_data = pd.read_table('ionosphere.data', header=None, sep=',')\n",
    "inosphere_data.shape\n",
    "length_dataframe=len(inosphere_data)\n",
    "folds=[]\n",
    "# index= np.arange(0, 351, 1)\n",
    "# def dataset(dataset)\n",
    "for i in range(4):\n",
    "#     print(inosphere_data.shape)\n",
    "    folds.append(inosphere_data.loc[np.random.choice(inosphere_data.index.values, int(length_dataframe/5),replace=False)])\n",
    "    curr_index=folds[i].index\n",
    "    remove_indexes=set(inosphere_data.index).difference(set(curr_index))\n",
    "    inosphere_data=inosphere_data.loc[list(remove_indexes)]"
   ]
  },
  {
   "cell_type": "code",
   "execution_count": 5,
   "metadata": {},
   "outputs": [],
   "source": [
    "pd.DataFrame(folds[0])\n",
    "folds.append(inosphere_data)"
   ]
  },
  {
   "cell_type": "code",
   "execution_count": 6,
   "metadata": {},
   "outputs": [],
   "source": [
    "fold_data_split(folds,'ion')"
   ]
  },
  {
   "cell_type": "code",
   "execution_count": 7,
   "metadata": {},
   "outputs": [],
   "source": [
    "# inosphere_data.loc[np.random.choice(np.arange(0,len(inosphere_data),1), int((len(inosphere_data)+1)/5))]"
   ]
  },
  {
   "cell_type": "code",
   "execution_count": 8,
   "metadata": {},
   "outputs": [],
   "source": [
    "# np.random.choice(np.arange(0,len(inosphere_data),1), int(len(inosphere_data)/5))"
   ]
  },
  {
   "cell_type": "markdown",
   "metadata": {},
   "source": [
    "Getting Credit Data"
   ]
  },
  {
   "cell_type": "code",
   "execution_count": 219,
   "metadata": {},
   "outputs": [],
   "source": [
    "#Reading Credit Data\n",
    "credit_data=pd.read_csv('crx.data', header=None)\n",
    "\n",
    "credit_data = credit_data.replace('?',np.nan)\n",
    "credit_data.dropna(inplace=True)\n",
    "columns = credit_data.dtypes.pipe(lambda x: x[x == 'object']).index\n",
    "\n",
    "for col in columns:\n",
    "    credit_data[col] = pd.factorize(credit_data[col])[0]\n",
    "\n",
    "# credit_data.shape\n",
    "# credit_data"
   ]
  },
  {
   "cell_type": "code",
   "execution_count": 10,
   "metadata": {},
   "outputs": [],
   "source": [
    "# credit_data.values"
   ]
  },
  {
   "cell_type": "code",
   "execution_count": 11,
   "metadata": {},
   "outputs": [],
   "source": [
    "# credit_data1 = get_data(credit_data,list(range(len(credit_data.columns)-1)))\n",
    "##Reference1 - https://machinelearningmastery.com/implement-resampling-methods-scratch-python/\n",
    "#Reference2- Discussed with classmates(Bhavna)\n",
    "dataset_list1 = credit_data.values.tolist()\n",
    "cred_size = math.ceil(len(credit_data)/5)\n",
    "cred_data = []\n",
    "for i in range(5):\n",
    "    cred_fold = []\n",
    "    while len(cred_fold) < cred_size and len(dataset_list1)-1 >= 0 :\n",
    "        index = random.randint(0,len(dataset_list1)-1)\n",
    "        cred_fold.append(dataset_list1.pop(index))\n",
    "    cred_data.append(pd.DataFrame(np.array(cred_fold)))"
   ]
  },
  {
   "cell_type": "code",
   "execution_count": 17,
   "metadata": {},
   "outputs": [],
   "source": [
    "# credit_data.shape\n",
    "# len(credit_dataset[4])\n",
    "# cred_data[1]"
   ]
  },
  {
   "cell_type": "code",
   "execution_count": 13,
   "metadata": {},
   "outputs": [],
   "source": [
    "fold_data_split(cred_data,'credit')"
   ]
  },
  {
   "cell_type": "markdown",
   "metadata": {},
   "source": [
    "Getting Car Data"
   ]
  },
  {
   "cell_type": "code",
   "execution_count": 220,
   "metadata": {},
   "outputs": [],
   "source": [
    "#Reading Car Data and splitting it.\n",
    "car_data=pd.read_csv('car.data', header=None)\n",
    "car_data = car_data.replace('?',np.nan)\n",
    "car_data.dropna(inplace=True)\n",
    "columns = car_data.dtypes.pipe(lambda x: x[x == 'object']).index\n",
    "for col in columns:\n",
    "    car_data[col] = pd.factorize(car_data[col])[0]"
   ]
  },
  {
   "cell_type": "code",
   "execution_count": 168,
   "metadata": {
    "scrolled": true
   },
   "outputs": [],
   "source": [
    "# car_data"
   ]
  },
  {
   "cell_type": "code",
   "execution_count": 172,
   "metadata": {},
   "outputs": [],
   "source": [
    "cardata_list = car_data.values.tolist()\n",
    "car_data1 = []\n",
    "car_size = math.ceil(len(car_data)/5)\n",
    "for i in range(5):\n",
    "    car_fold = []\n",
    "    while len(car_fold) < car_size and len(cardata_list)-1 >= 0 :\n",
    "        index = random.randint(0,len(cardata_list)-1)\n",
    "        car_fold.append(cardata_list.pop(index))\n",
    "    car_data1.append(pd.DataFrame(np.array(car_fold)))\n",
    "# len(car_dataset[4])"
   ]
  },
  {
   "cell_type": "code",
   "execution_count": 173,
   "metadata": {},
   "outputs": [],
   "source": [
    "fold_data_split(car_data1,'car')"
   ]
  },
  {
   "cell_type": "markdown",
   "metadata": {
    "colab_type": "text",
    "id": "QEl0kqIobZ6y"
   },
   "source": [
    "## Problem 2: K-Nearest Neighbors (KNN) [30 points]\n",
    "\n",
    "---\n",
    "\n"
   ]
  },
  {
   "cell_type": "markdown",
   "metadata": {
    "colab_type": "text",
    "id": "34Ak_zYIdwBS"
   },
   "source": [
    "2.1 Implement KNN algorithm with two different distance functions. You can either use an existing distance\n",
    "functions, i.e., Euclidean or design your own."
   ]
  },
  {
   "cell_type": "code",
   "execution_count": 74,
   "metadata": {},
   "outputs": [],
   "source": [
    "#Getting Train and test Data and labels\n",
    "#Referenced from https://machinelearningmastery.com/tutorial-to-implement-k-nearest-neighbors-in-python-from-scratch/ and discussed with Agasthya Teja\n",
    "def knn_data(training,test):\n",
    "    train_data = training.iloc[:, :-1]\n",
    "    train_labels = training.iloc[:,-1]\n",
    "    actual_points = test.iloc[:,-1]\n",
    "    pred_datapoints = test.iloc[:, :-1]\n",
    "    pred_datapoints=np.array(pred_datapoints)\n",
    "#     print(prediction_points)\n",
    "#     print(train_data,train_labels,pred_datapoints,actual_points)\n",
    "    return train_data,train_labels,pred_datapoints,actual_points\n"
   ]
  },
  {
   "cell_type": "code",
   "execution_count": 75,
   "metadata": {},
   "outputs": [],
   "source": [
    "#Defining distance functions\n",
    "def euclidean_distance(train_data,point,k):\n",
    "    distance_euc = np.sqrt(np.sum((train_data - point)**2 , axis=1)) \n",
    "#     print(distance)\n",
    "    return np.argsort(distance_euc)[0:k]\n",
    "\n",
    "def manhattan_distance(train_data,point,k):\n",
    "    distance_man = np.sum(abs(train_data - point) , axis=1)\n",
    "#     print(distance)\n",
    "    return np.argsort(distance_man)[0:k]"
   ]
  },
  {
   "cell_type": "code",
   "execution_count": 76,
   "metadata": {},
   "outputs": [],
   "source": [
    "def knn_predict(train_data,train_labels,pred_datapoints,dist,k):   \n",
    "    pred_labels = []\n",
    "    for eachpoint in pred_datapoints:\n",
    "        if dist==\"Euclidean\":\n",
    "            distances=euclidean_distance(train_data,eachpoint,k)\n",
    "        else:\n",
    "            distances = manhattan_distance(train_data,eachpoint,k)   \n",
    "            \n",
    "        result_distances=[]\n",
    "        for d in distances:\n",
    "            result_distances.append(train_labels[d])\n",
    "        label=Counter(result_distances).most_common(1)\n",
    "        pred_labels.append(label[0][0]) \n",
    "    return pred_labels  "
   ]
  },
  {
   "cell_type": "code",
   "execution_count": 77,
   "metadata": {},
   "outputs": [],
   "source": [
    "# X,y,prediction_points = knn_data(train_ion1,test_ion1)  \n",
    "# knn_predict(prediction_points,\"Euclidean\",3)"
   ]
  },
  {
   "cell_type": "code",
   "execution_count": 78,
   "metadata": {},
   "outputs": [],
   "source": [
    "def calculate_accuracy(pred_labels,actual_labels):\n",
    "#     pred_labels=np.array(pred_labels)\n",
    "#     print(pred_labels)\n",
    "#     print(actual_labels)\n",
    "    accuracy= np.sum(pred_labels == actual_labels)/len(actual_labels)\n",
    "#     print(accuracy)\n",
    "#     test_error = 1-accuracy\n",
    "    return accuracy"
   ]
  },
  {
   "cell_type": "markdown",
   "metadata": {
    "colab_type": "text",
    "id": "FR5wy4ITdt0r"
   },
   "source": [
    "2.2 Use the data sets obtained in problem 1 to determine the optimal k over each data set for KNN algorithm. For 5 different k values, plot the test error for each data set. Total number of figures = 3 (data set number) × 2 (distance function number) = 6. Report the best k and distance function for each data set."
   ]
  },
  {
   "cell_type": "code",
   "execution_count": 99,
   "metadata": {},
   "outputs": [],
   "source": [
    "#Reading ion data\n",
    "train_ion1=pd.read_csv(\"ion_train1.csv\")\n",
    "test_ion1=pd.read_csv(\"ion_test1.csv\")\n",
    "\n",
    "train_ion2=pd.read_csv(\"ion_train2.csv\")\n",
    "test_ion2=pd.read_csv(\"ion_test2.csv\")\n",
    "\n",
    "train_ion3=pd.read_csv(\"ion_train3.csv\")\n",
    "test_ion3=pd.read_csv(\"ion_test3.csv\")\n",
    "\n",
    "train_ion4=pd.read_csv(\"ion_train4.csv\")\n",
    "test_ion4=pd.read_csv(\"ion_test4.csv\")\n",
    "\n",
    "train_ion5=pd.read_csv(\"ion_train5.csv\")\n",
    "test_ion5=pd.read_csv(\"ion_test5.csv\")"
   ]
  },
  {
   "cell_type": "code",
   "execution_count": 151,
   "metadata": {},
   "outputs": [],
   "source": [
    "def save_accuracy(train_dataset, test_dataset):\n",
    "    train_data,train_labels,pred_datapoints,actual_points = knn_data(train_dataset,test_dataset)\n",
    "#     print(train_data)\n",
    "    dist_dict = {}\n",
    "    k_values= [2,3,4,5,6,7,9,10,11,12,13]\n",
    "    dist = [\"Euclidean\",\"Manhattan\"]\n",
    "    for d in dist:\n",
    "        for k in k_values:\n",
    "            predicted_labels = knn_predict(train_data,train_labels,pred_datapoints,dist=d,k=k)\n",
    "            dist_dict[(d,k)] = calculate_accuracy(predicted_labels,actual_points)\n",
    "#     print(dist_dict)\n",
    "    return dist_dict"
   ]
  },
  {
   "cell_type": "code",
   "execution_count": 109,
   "metadata": {},
   "outputs": [
    {
     "data": {
      "text/plain": [
       "(281, 35)"
      ]
     },
     "execution_count": 109,
     "metadata": {},
     "output_type": "execute_result"
    }
   ],
   "source": [
    "train_ion1.shape"
   ]
  },
  {
   "cell_type": "code",
   "execution_count": 110,
   "metadata": {
    "colab": {},
    "colab_type": "code",
    "id": "azjv696HbZec"
   },
   "outputs": [
    {
     "name": "stdout",
     "output_type": "stream",
     "text": [
      "Max distance metric for Inosphere dataset 1 is: ('Manhattan', 2) with Accuracy 0.8714285714285714\n",
      "Max distance metric for Inosphere dataset 2 is: ('Manhattan', 2) with Accuracy 0.9428571428571428\n",
      "Max distance metric for Inosphere dataset 3 is: ('Manhattan', 4) with Accuracy 0.9285714285714286\n",
      "Max distance metric for Inosphere dataset 4 is: ('Manhattan', 9) with Accuracy 0.9142857142857143\n",
      "Max distance metric for Inosphere dataset 5 is: ('Manhattan', 2) with Accuracy 0.9154929577464789\n"
     ]
    }
   ],
   "source": [
    "ion_dict1= save_accuracy(train_ion1,test_ion1)\n",
    "max_dist= max(ion_dict1, key=ion_dict1.get)\n",
    "print(\"Max distance metric for Inosphere dataset 1 is:\", max_dist, \"with Accuracy\", ion_dict1[max_dist])\n",
    "\n",
    "ion_dict2= save_accuracy(train_ion2,test_ion2)\n",
    "max_dist= max(ion_dict2, key=ion_dict2.get)\n",
    "print(\"Max distance metric for Inosphere dataset 2 is:\", max_dist, \"with Accuracy\", ion_dict2[max_dist])\n",
    "\n",
    "ion_dict3= save_accuracy(train_ion3,test_ion3)\n",
    "max_dist= max(ion_dict3, key=ion_dict3.get)\n",
    "print(\"Max distance metric for Inosphere dataset 3 is:\", max_dist, \"with Accuracy\", ion_dict3[max_dist])\n",
    "\n",
    "ion_dict4= save_accuracy(train_ion4,test_ion4)\n",
    "max_dist= max(ion_dict4, key=ion_dict4.get)\n",
    "print(\"Max distance metric for Inosphere dataset 4 is:\", max_dist, \"with Accuracy\", ion_dict4[max_dist])\n",
    "\n",
    "ion_dict5= save_accuracy(train_ion5,test_ion5)\n",
    "max_dist= max(ion_dict5, key=ion_dict5.get)\n",
    "print(\"Max distance metric for Inosphere dataset 5 is:\", max_dist, \"with Accuracy\", ion_dict5[max_dist])\n"
   ]
  },
  {
   "cell_type": "code",
   "execution_count": 405,
   "metadata": {},
   "outputs": [
    {
     "data": {
      "image/png": "[encoded data removed]",
      "text/plain": [
       "<Figure size 432x288 with 1 Axes>"
      ]
     },
     "metadata": {},
     "output_type": "display_data"
    }
   ],
   "source": [
    "euc_error1 = []\n",
    "euc_error2 = []\n",
    "euc_error3 = []\n",
    "euc_error4 = []\n",
    "euc_error5 = []\n",
    "k_values=[]\n",
    "\n",
    "for k,v in ion_dict1.items():\n",
    "    if (k[0]=='Euclidean'):\n",
    "        euc_error1.append(1-v)\n",
    "        k_values.append(k[1])\n",
    "        \n",
    "\n",
    "for k,v in ion_dict2.items():\n",
    "    if (k[0]=='Euclidean'):\n",
    "        euc_error2.append(1-v)\n",
    "        \n",
    "\n",
    "for k,v in ion_dict3.items():\n",
    "    if (k[0]=='Euclidean'):\n",
    "        euc_error3.append(1-v)\n",
    "        \n",
    "\n",
    "for k,v in ion_dict4.items():\n",
    "    if (k[0]=='Euclidean'):\n",
    "        euc_error4.append(1-v)\n",
    "             \n",
    "\n",
    "for k,v in ion_dict5.items():\n",
    "    if (k[0]=='Euclidean'):\n",
    "        euc_error5.append(1-v)\n",
    "              \n",
    "\n",
    "error_list_euc=np.array([euc_error1, euc_error2, euc_error3, euc_error4, euc_error5] )\n",
    "# print(error_list_euc)\n",
    "error_average_euc_ion = np.average(error_list_euc, axis=0)\n",
    "# error_average_euc_ion_folds = np.average(error_list_euc, axis=1)\n",
    "# print(error_average_euc_ion1)\n",
    "# print(list(error_average_euc))\n",
    "# plt.plot(n_list, a_euc_err_avg)\n",
    "# plt.ylabel('accuracy')\n",
    "# plt.xlabel('value of K')\n",
    "# plt.title('Accuracy for Euclidean Distance for Ionospehre Dataset')\n",
    "# plt.show()\n",
    "# objects=tuple(k_values)\n",
    "kpoints=np.arange(len(k_values))\n",
    "test_avg_error=list(error_average_ion_euc)\n",
    "# print(y_pos)\n",
    "# print(performance)\n",
    "plt.bar(kpoints, test_avg_error, align='center', alpha=0.9)\n",
    "plt.xticks(kpoints, objects)\n",
    "plt.ylabel('Error out of 1 as a scale')\n",
    "plt.xlabel('k points')\n",
    "plt.title('Test Error Plot for Euclidean Distance for Inosphere Dataset')\n",
    " \n",
    "plt.show()"
   ]
  },
  {
   "cell_type": "code",
   "execution_count": 145,
   "metadata": {},
   "outputs": [],
   "source": [
    "# k_values=[1,2,3]\n",
    "# object=tuple(k_values)\n",
    "# object"
   ]
  },
  {
   "cell_type": "code",
   "execution_count": 406,
   "metadata": {},
   "outputs": [
    {
     "data": {
      "image/png": "[encoded data removed]",
      "text/plain": [
       "<Figure size 432x288 with 1 Axes>"
      ]
     },
     "metadata": {},
     "output_type": "display_data"
    }
   ],
   "source": [
    "man_error1 = []\n",
    "man_error2 = []\n",
    "man_error3 = []\n",
    "man_error4 = []\n",
    "man_error5 = []\n",
    "k_values=[]\n",
    "\n",
    "for k,v in ion_dict1.items():\n",
    "    if (k[0]=='Manhattan'):\n",
    "        man_error1.append(1-v)\n",
    "        k_values.append(k[1])\n",
    "        \n",
    "\n",
    "for k,v in ion_dict2.items():\n",
    "    if (k[0]=='Manhattan'):\n",
    "        man_error2.append(1-v)\n",
    "        \n",
    "\n",
    "for k,v in ion_dict3.items():\n",
    "    if (k[0]=='Manhattan'):\n",
    "        man_error3.append(1-v)\n",
    "        \n",
    "\n",
    "for k,v in ion_dict4.items():\n",
    "    if (k[0]=='Manhattan'):\n",
    "        man_error4.append(1-v)\n",
    "             \n",
    "\n",
    "for k,v in ion_dict5.items():\n",
    "    if (k[0]=='Manhattan'):\n",
    "        man_error5.append(1-v)\n",
    "              \n",
    "\n",
    "error_list_man=np.array([man_error1, man_error2, man_error3, man_error4, man_error5] )\n",
    "# print(error_list_man)\n",
    "error_average_man_ion = np.average(error_list_man, axis=0)\n",
    "# print(error_average_man_ion)\n",
    "# error_average_man_ion_folds = np.average(error_list_man, axis=1)\n",
    "#Average for each fold - \n",
    "# print(error_average_man_ion_folds)\n",
    "# print(list(error_average_euc))\n",
    "# plt.plot(n_list, a_euc_err_avg)\n",
    "# plt.ylabel('accuracy')\n",
    "# plt.xlabel('value of K')\n",
    "# plt.title('Accuracy for Euclidean Distance for Ionospehre Dataset')\n",
    "# plt.show()\n",
    "# objects=tuple(k_values)\n",
    "kpoints=np.arange(len(k_values))\n",
    "test_avg_error=list(error_average_man)\n",
    "# print(y_pos)\n",
    "# print(performance)\n",
    "plt.bar(kpoints, test_avg_error, align='center', alpha=0.9)\n",
    "plt.xticks(kpoints, objects)\n",
    "plt.ylabel('Error out of 1 as a scale')\n",
    "plt.xlabel('k points')\n",
    "plt.title('Test Error Plot for Manhattan Distance for Inosphere Dataset')\n",
    " \n",
    "plt.show()"
   ]
  },
  {
   "cell_type": "code",
   "execution_count": 175,
   "metadata": {},
   "outputs": [],
   "source": [
    "#Reading car data\n",
    "train_car1=pd.read_csv(\"car_train1.csv\")\n",
    "test_car1=pd.read_csv(\"car_test1.csv\")\n",
    "\n",
    "train_car2=pd.read_csv(\"car_train2.csv\")\n",
    "test_car2=pd.read_csv(\"car_test2.csv\")\n",
    "\n",
    "train_car3=pd.read_csv(\"car_train3.csv\")\n",
    "test_car3=pd.read_csv(\"car_test3.csv\")\n",
    "\n",
    "train_car4=pd.read_csv(\"car_train4.csv\")\n",
    "test_car4=pd.read_csv(\"car_test4.csv\")\n",
    "\n",
    "train_car5=pd.read_csv(\"car_train5.csv\")\n",
    "test_car5=pd.read_csv(\"car_test5.csv\")\n"
   ]
  },
  {
   "cell_type": "code",
   "execution_count": 177,
   "metadata": {},
   "outputs": [],
   "source": [
    "# train_car1\n"
   ]
  },
  {
   "cell_type": "code",
   "execution_count": 178,
   "metadata": {},
   "outputs": [
    {
     "name": "stdout",
     "output_type": "stream",
     "text": [
      "Max distance metric for Car dataset 1 is: ('Euclidean', 7) with Accuracy 0.9682080924855492\n",
      "Max distance metric for Car dataset 2 is: ('Euclidean', 7) with Accuracy 0.9566473988439307\n",
      "Max distance metric for Car dataset 3 is: ('Euclidean', 6) with Accuracy 0.9624277456647399\n",
      "Max distance metric for Car dataset 4 is: ('Euclidean', 7) with Accuracy 0.9479768786127167\n",
      "Max distance metric for Car dataset 5 is: ('Euclidean', 7) with Accuracy 0.9651162790697675\n"
     ]
    }
   ],
   "source": [
    "car_dict1= save_accuracy(train_car1,test_car1)\n",
    "# car_dict1\n",
    "max_dist= max(car_dict1, key=car_dict1.get)\n",
    "print(\"Max distance metric for Car dataset 1 is:\", max_dist, \"with Accuracy\", car_dict1[max_dist])\n",
    "\n",
    "car_dict2= save_accuracy(train_car2,test_car2)\n",
    "max_dist= max(car_dict2, key=car_dict2.get)\n",
    "print(\"Max distance metric for Car dataset 2 is:\", max_dist, \"with Accuracy\", car_dict2[max_dist])\n",
    "\n",
    "car_dict3= save_accuracy(train_car3,test_car3)\n",
    "max_dist= max(car_dict3, key=car_dict3.get)\n",
    "print(\"Max distance metric for Car dataset 3 is:\", max_dist, \"with Accuracy\", car_dict3[max_dist])\n",
    "\n",
    "car_dict4= save_accuracy(train_car4,test_car4)\n",
    "max_dist= max(car_dict4, key=car_dict4.get)\n",
    "print(\"Max distance metric for Car dataset 4 is:\", max_dist, \"with Accuracy\", car_dict4[max_dist])\n",
    "\n",
    "car_dict5= save_accuracy(train_car5,test_car5)\n",
    "max_dist= max(car_dict5, key=car_dict5.get)\n",
    "print(\"Max distance metric for Car dataset 5 is:\", max_dist, \"with Accuracy\", car_dict5[max_dist])\n",
    "\n"
   ]
  },
  {
   "cell_type": "code",
   "execution_count": 407,
   "metadata": {},
   "outputs": [
    {
     "data": {
      "image/png": "[encoded data removed]",
      "text/plain": [
       "<Figure size 432x288 with 1 Axes>"
      ]
     },
     "metadata": {},
     "output_type": "display_data"
    }
   ],
   "source": [
    "car_euc_error1 = []\n",
    "car_euc_error2 = []\n",
    "car_euc_error3 = []\n",
    "car_euc_error4 = []\n",
    "car_euc_error5 = []\n",
    "k_values=[]\n",
    "\n",
    "for k,v in car_dict1.items():\n",
    "    if (k[0]=='Euclidean'):\n",
    "        car_euc_error1.append(1-v)\n",
    "        k_values.append(k[1])\n",
    "        \n",
    "\n",
    "for k,v in car_dict2.items():\n",
    "    if (k[0]=='Euclidean'):\n",
    "        car_euc_error2.append(1-v)\n",
    "        \n",
    "\n",
    "for k,v in car_dict3.items():\n",
    "    if (k[0]=='Euclidean'):\n",
    "        car_euc_error3.append(1-v)\n",
    "        \n",
    "\n",
    "for k,v in car_dict4.items():\n",
    "    if (k[0]=='Euclidean'):\n",
    "        car_euc_error4.append(1-v)\n",
    "             \n",
    "\n",
    "for k,v in car_dict5.items():\n",
    "    if (k[0]=='Euclidean'):\n",
    "        car_euc_error5.append(1-v)\n",
    "              \n",
    "\n",
    "error_list_car=np.array([car_euc_error1, car_euc_error2, car_euc_error3, car_euc_error4, car_euc_error5])\n",
    "error_average_euc_car = np.average(error_list_car, axis=0)\n",
    "# error_average_euc_car_folds = np.average(error_list_car, axis=1)\n",
    "# print(list(error_average_euc))\n",
    "# plt.plot(n_list, a_euc_err_avg)\n",
    "# plt.ylabel('accuracy')\n",
    "# plt.xlabel('value of K')\n",
    "# plt.title('Accuracy for Euclidean Distance for Ionospehre Dataset')\n",
    "# plt.show()\n",
    "# objects=tuple(k_values)\n",
    "kpoints=np.arange(len(k_values))\n",
    "test_avg_error=list(error_average_car_euc)\n",
    "# print(y_pos)\n",
    "# print(performance)\n",
    "plt.bar(kpoints, test_avg_error, align='center', alpha=0.9)\n",
    "plt.xticks(kpoints, objects)\n",
    "plt.ylabel('Error out of 1 as a scale')\n",
    "plt.xlabel('k points')\n",
    "plt.title('Test Error Plot for Euclidean Distance for Car Dataset')\n",
    " \n",
    "plt.show()"
   ]
  },
  {
   "cell_type": "code",
   "execution_count": 408,
   "metadata": {},
   "outputs": [
    {
     "data": {
      "image/png": "[encoded data removed]",
      "text/plain": [
       "<Figure size 432x288 with 1 Axes>"
      ]
     },
     "metadata": {},
     "output_type": "display_data"
    }
   ],
   "source": [
    "car_man_error1 = []\n",
    "car_man_error2 = []\n",
    "car_man_error3 = []\n",
    "car_man_error4 = []\n",
    "car_man_error5 = []\n",
    "k_values=[]\n",
    "\n",
    "for k,v in car_dict1.items():\n",
    "    if (k[0]=='Manhattan'):\n",
    "        car_man_error1.append(1-v)\n",
    "        k_values.append(k[1])\n",
    "        \n",
    "\n",
    "for k,v in car_dict2.items():\n",
    "    if (k[0]=='Manhattan'):\n",
    "        car_man_error2.append(1-v)\n",
    "        \n",
    "\n",
    "for k,v in car_dict3.items():\n",
    "    if (k[0]=='Manhattan'):\n",
    "        car_man_error3.append(1-v)\n",
    "        \n",
    "\n",
    "for k,v in ion_dict4.items():\n",
    "    if (k[0]=='Manhattan'):\n",
    "        car_man_error4.append(1-v)\n",
    "             \n",
    "\n",
    "for k,v in ion_dict5.items():\n",
    "    if (k[0]=='Manhattan'):\n",
    "        car_man_error5.append(1-v)\n",
    "              \n",
    "\n",
    "error_list_car=np.array([car_man_error1, car_man_error2, car_man_error3, car_man_error4, car_man_error5] )\n",
    "error_average_man_car = np.average(error_list_car, axis=0)\n",
    "\n",
    "# print(list(error_average_euc))\n",
    "# plt.plot(n_list, a_euc_err_avg)\n",
    "# plt.ylabel('accuracy')\n",
    "# plt.xlabel('value of K')\n",
    "# plt.title('Accuracy for Euclidean Distance for Ionospehre Dataset')\n",
    "# plt.show()\n",
    "# objects=tuple(k_values)\n",
    "kpoints=np.arange(len(k_values))\n",
    "test_avg_error=list(error_average_car)\n",
    "# print(y_pos)\n",
    "# print(performance)\n",
    "plt.bar(kpoints, test_avg_error, align='center', alpha=1)\n",
    "plt.xticks(kpoints, objects)\n",
    "plt.ylabel('Error out of 1 as a scale')\n",
    "plt.xlabel('k points')\n",
    "plt.title('Test Error Plot for Manhattan Distance for Car Dataset')\n",
    " \n",
    "plt.show()"
   ]
  },
  {
   "cell_type": "markdown",
   "metadata": {},
   "source": [
    "2.2 Use the data sets obtained in problem 1 to determine the optimal k over each data set for KNN algorithm. For 5 different k values, plot the test error for each data set. Total number of figures = 3 (data set number) × 2 (distance function number) = 6. Report the best k and distance function for each data set."
   ]
  },
  {
   "cell_type": "code",
   "execution_count": 197,
   "metadata": {},
   "outputs": [],
   "source": [
    "#Reading credit data\n",
    "train_credit1=pd.read_csv(\"credit_train1.csv\")\n",
    "test_credit1=pd.read_csv(\"credit_test1.csv\")\n",
    "\n",
    "train_credit2=pd.read_csv(\"credit_train2.csv\")\n",
    "test_credit2=pd.read_csv(\"credit_test2.csv\")\n",
    "\n",
    "train_credit3=pd.read_csv(\"credit_train3.csv\")\n",
    "test_credit3=pd.read_csv(\"credit_test3.csv\")\n",
    "\n",
    "train_credit4=pd.read_csv(\"credit_train4.csv\")\n",
    "test_credit4=pd.read_csv(\"credit_test4.csv\")\n",
    "\n",
    "train_credit5=pd.read_csv(\"credit_train5.csv\")\n",
    "test_credit5=pd.read_csv(\"credit_test5.csv\")\n",
    "\n",
    "# train_credit5\n",
    "#stratified k-fold\n",
    "#drop the sample\n",
    "#treat as missing value."
   ]
  },
  {
   "cell_type": "code",
   "execution_count": 196,
   "metadata": {},
   "outputs": [
    {
     "name": "stdout",
     "output_type": "stream",
     "text": [
      "Max distance metric for Credit dataset 1 is: ('Manhattan', 4) with Accuracy 0.8091603053435115\n",
      "Max distance metric for Credit dataset 2 is: ('Manhattan', 3) with Accuracy 0.732824427480916\n",
      "Max distance metric for Credit dataset 3 is: ('Manhattan', 5) with Accuracy 0.7786259541984732\n",
      "Max distance metric for Credit dataset 4 is: ('Manhattan', 13) with Accuracy 0.7633587786259542\n",
      "Max distance metric for Credit dataset 5 is: ('Manhattan', 4) with Accuracy 0.751937984496124\n"
     ]
    }
   ],
   "source": [
    "credit_dict1= save_accuracy(train_credit1,test_credit1)\n",
    "max_dist= max(credit_dict1, key=credit_dict1.get)\n",
    "print(\"Max distance metric for Credit dataset 1 is:\", max_dist, \"with Accuracy\", credit_dict1[max_dist])\n",
    "\n",
    "credit_dict2= save_accuracy(train_credit2,test_credit2)\n",
    "max_dist= max(credit_dict2, key=credit_dict2.get)\n",
    "print(\"Max distance metric for Credit dataset 2 is:\", max_dist, \"with Accuracy\", credit_dict2[max_dist])\n",
    "\n",
    "credit_dict3= save_accuracy(train_credit3,test_credit3)\n",
    "max_dist= max(credit_dict3, key=credit_dict3.get)\n",
    "print(\"Max distance metric for Credit dataset 3 is:\", max_dist, \"with Accuracy\", credit_dict3[max_dist])\n",
    "\n",
    "credit_dict4= save_accuracy(train_credit4,test_credit4)\n",
    "max_dist= max(credit_dict4, key=credit_dict4.get)\n",
    "print(\"Max distance metric for Credit dataset 4 is:\", max_dist, \"with Accuracy\", credit_dict4[max_dist])\n",
    "\n",
    "credit_dict5= save_accuracy(train_credit5,test_credit5)\n",
    "max_dist= max(credit_dict5, key=credit_dict1.get)\n",
    "print(\"Max distance metric for Credit dataset 5 is:\", max_dist, \"with Accuracy\", credit_dict5[max_dist])"
   ]
  },
  {
   "cell_type": "code",
   "execution_count": 410,
   "metadata": {},
   "outputs": [
    {
     "data": {
      "image/png": "[encoded data removed]",
      "text/plain": [
       "<Figure size 432x288 with 1 Axes>"
      ]
     },
     "metadata": {},
     "output_type": "display_data"
    }
   ],
   "source": [
    "credit_euc_error1 = []\n",
    "credit_euc_error2 = []\n",
    "credit_euc_error3 = []\n",
    "credit_euc_error4 = []\n",
    "credit_euc_error5 = []\n",
    "k_values=[]\n",
    "\n",
    "for k,v in credit_dict1.items():\n",
    "    if (k[0]=='Euclidean'):\n",
    "        credit_euc_error1.append(1-v)\n",
    "        k_values.append(k[1])\n",
    "        \n",
    "\n",
    "for k,v in credit_dict2.items():\n",
    "    if (k[0]=='Euclidean'):\n",
    "        credit_euc_error2.append(1-v)\n",
    "        \n",
    "\n",
    "for k,v in credit_dict3.items():\n",
    "    if (k[0]=='Euclidean'):\n",
    "        credit_euc_error3.append(1-v)\n",
    "        \n",
    "\n",
    "for k,v in credit_dict4.items():\n",
    "    if (k[0]=='Euclidean'):\n",
    "        credit_euc_error4.append(1-v)\n",
    "             \n",
    "\n",
    "for k,v in credit_dict5.items():\n",
    "    if (k[0]=='Euclidean'):\n",
    "        credit_euc_error5.append(1-v)\n",
    "              \n",
    "\n",
    "error_list_credit=np.array([credit_euc_error1, credit_euc_error2, credit_euc_error3, credit_euc_error4, credit_euc_error5])\n",
    "error_average_euc_credit = np.average(error_list_credit, axis=0)\n",
    "# error_average_euc_credit = np.average(error_list_car, axis=1)\n",
    "# print(list(error_average_euc))\n",
    "# plt.plot(n_list, a_euc_err_avg)\n",
    "# plt.ylabel('accuracy')\n",
    "# plt.xlabel('value of K')\n",
    "# plt.title('Accuracy for Euclidean Distance for Ionospehre Dataset')\n",
    "# plt.show()\n",
    "# objects=tuple(k_values)\n",
    "kpoints=np.arange(len(k_values))\n",
    "test_avg_error=list(error_average_euc_credit)\n",
    "# print(y_pos)\n",
    "# print(performance)\n",
    "plt.bar(kpoints, test_avg_error, align='center', alpha=0.9)\n",
    "plt.xticks(kpoints, objects)\n",
    "plt.ylabel('Error out of 1 as a scale')\n",
    "plt.xlabel('k points')\n",
    "plt.title('Test Error Plot for Euclidean Distance for Credit Dataset')\n",
    " \n",
    "plt.show()"
   ]
  },
  {
   "cell_type": "code",
   "execution_count": 411,
   "metadata": {},
   "outputs": [
    {
     "data": {
      "image/png": "[encoded data removed]",
      "text/plain": [
       "<Figure size 432x288 with 1 Axes>"
      ]
     },
     "metadata": {},
     "output_type": "display_data"
    }
   ],
   "source": [
    "credit_man_error1 = []\n",
    "credit_man_error2 = []\n",
    "credit_man_error3 = []\n",
    "credit_man_error4 = []\n",
    "credit_man_error5 = []\n",
    "k_values=[]\n",
    "\n",
    "for k,v in credit_dict1.items():\n",
    "    if (k[0]=='Manhattan'):\n",
    "        credit_man_error1.append(1-v)\n",
    "        k_values.append(k[1])\n",
    "        \n",
    "\n",
    "for k,v in credit_dict2.items():\n",
    "    if (k[0]=='Manhattan'):\n",
    "        credit_man_error2.append(1-v)\n",
    "        \n",
    "\n",
    "for k,v in credit_dict3.items():\n",
    "    if (k[0]=='Manhattan'):\n",
    "        credit_man_error3.append(1-v)\n",
    "        \n",
    "\n",
    "for k,v in credit_dict4.items():\n",
    "    if (k[0]=='Manhattan'):\n",
    "        credit_man_error4.append(1-v)\n",
    "             \n",
    "\n",
    "for k,v in credit_dict5.items():\n",
    "    if (k[0]=='Manhattan'):\n",
    "        credit_man_error5.append(1-v)\n",
    "              \n",
    "\n",
    "error_list_credit_man=np.array([credit_man_error1, credit_man_error2, credit_man_error3, credit_man_error4, credit_man_error5] )\n",
    "error_average_man_credit = np.average(error_list_credit_man, axis=0)\n",
    "\n",
    "# print(list(error_average_euc))\n",
    "# plt.plot(n_list, a_euc_err_avg)\n",
    "# plt.ylabel('accuracy')\n",
    "# plt.xlabel('value of K')\n",
    "# plt.title('Accuracy for Euclidean Distance for Ionospehre Dataset')\n",
    "# plt.show()\n",
    "# objects=tuple(k_values)\n",
    "kpoints=np.arange(len(k_values))\n",
    "test_avg_error=list(error_average_man_credit)\n",
    "# print(y_pos)\n",
    "# print(performance)\n",
    "plt.bar(kpoints, test_avg_error, align='center', alpha=1)\n",
    "plt.xticks(kpoints, objects)\n",
    "plt.ylabel('Error out of 1 as a scale')\n",
    "plt.xlabel('k points')\n",
    "plt.title('Test Error Plot for Manhattan Distance for Credit Dataset')\n",
    " \n",
    "plt.show()"
   ]
  },
  {
   "cell_type": "markdown",
   "metadata": {
    "colab_type": "text",
    "id": "KxnADTO7dyVt"
   },
   "source": [
    "2.3 Use sklearn's KNN implementation for validation."
   ]
  },
  {
   "cell_type": "markdown",
   "metadata": {},
   "source": [
    "Ionosphere Sklearn"
   ]
  },
  {
   "cell_type": "code",
   "execution_count": 296,
   "metadata": {},
   "outputs": [
    {
     "name": "stdout",
     "output_type": "stream",
     "text": [
      "Using Scikit learn Implementation, the best K-NN model is:\n",
      "Best Parameters: {'metric': 'manhattan', 'n_neighbors': 2}\n",
      "Accuracy for Inosphere dataset: 90.14084507042254\n",
      "Error for Inosphere dataset: 9.859154929577462\n"
     ]
    }
   ],
   "source": [
    "# Code for problem 2.3 goes here\n",
    "#Referenced from KNN_Scikit Learn documentation\n",
    "from sklearn.neighbors import KNeighborsClassifier\n",
    "from sklearn.model_selection import GridSearchCV\n",
    "knn = KNeighborsClassifier()\n",
    "parameters = {'n_neighbors':[2,3,4,5,6,7,9,10,11,12,13],'metric':[\"euclidean\", \"manhattan\"]}\n",
    "model = GridSearchCV(knn, param_grid=parameters)\n",
    "model.fit(inosphere_data.iloc[:,:-1],inosphere_data.iloc[:,-1])\n",
    "print(\"Using Scikit learn Implementation, the best K-NN model is:\")\n",
    "print(\"Best Parameters:\",model.best_params_)\n",
    "print(\"Accuracy for Inosphere dataset:\",(model.best_score_)*100)\n",
    "print(\"Error for Inosphere dataset:\",(1 - model.best_score_)*100)"
   ]
  },
  {
   "cell_type": "markdown",
   "metadata": {},
   "source": [
    "Using own implementation from above - The best K-NN model for Inoshphere dataset comes out to be with Manhattan distance metric , 2 neighbours and 94% Accuracy"
   ]
  },
  {
   "cell_type": "code",
   "execution_count": 297,
   "metadata": {},
   "outputs": [
    {
     "name": "stdout",
     "output_type": "stream",
     "text": [
      "Using Scikit learn Implementation, the best K-NN model is:\n",
      "Best Parameters: {'metric': 'manhattan', 'n_neighbors': 2}\n",
      "Accuracy for Credit Dataset: 82.58101851851852\n",
      "Error for Credit Dataset: 17.418981481481477\n"
     ]
    }
   ],
   "source": [
    "from sklearn.neighbors import KNeighborsClassifier\n",
    "from sklearn.model_selection import GridSearchCV\n",
    "knn = KNeighborsClassifier()\n",
    "parameters = {'n_neighbors':[2,3,4,5,6,7,9,10,11,12,13],'metric':[\"euclidean\", \"manhattan\"]}\n",
    "model = GridSearchCV(knn, param_grid=parameters)\n",
    "model.fit(car_data.iloc[:,:-1],car_data.iloc[:,-1])\n",
    "print(\"Using Scikit learn Implementation, the best K-NN model is:\")\n",
    "print(\"Best Parameters:\",model.best_params_)\n",
    "print(\"Accuracy for Credit Dataset:\",(model.best_score_)*100)\n",
    "print(\"Error for Credit Dataset:\",(1 - model.best_score_)*100)"
   ]
  },
  {
   "cell_type": "markdown",
   "metadata": {},
   "source": [
    "Using own implementation , the best K-NN model for Credit dataset comes out to be with Manhattan distance metric , 4 neighbours and 80 % Accuracy.\n"
   ]
  },
  {
   "cell_type": "code",
   "execution_count": 298,
   "metadata": {},
   "outputs": [
    {
     "name": "stdout",
     "output_type": "stream",
     "text": [
      "Using Scikit learn Implementation, the best K-NN model is:\n",
      "Best Parameters: {'metric': 'manhattan', 'n_neighbors': 4}\n",
      "Accuracy for Credit dataset: 69.37212863705973\n",
      "Error for Credit dataset: 30.627871362940272\n"
     ]
    }
   ],
   "source": [
    "from sklearn.neighbors import KNeighborsClassifier\n",
    "from sklearn.model_selection import GridSearchCV\n",
    "knn = KNeighborsClassifier()\n",
    "parameters = {'n_neighbors':[2,3,4,5,6,7,9,10,11,12,13],'metric':[\"euclidean\", \"manhattan\"]}\n",
    "model = GridSearchCV(knn, param_grid=parameters)\n",
    "model.fit(credit_data.iloc[:,:-1],credit_data.iloc[:,-1])\n",
    "print(\"Using Scikit learn Implementation, the best K-NN model is:\")\n",
    "print(\"Best Parameters:\",model.best_params_)\n",
    "print(\"Accuracy for Credit dataset:\",(model.best_score_)*100)\n",
    "print(\"Error for Credit dataset:\",(1 - model.best_score_)*100)"
   ]
  },
  {
   "cell_type": "markdown",
   "metadata": {},
   "source": [
    "The best K-NN model for Credit dataset comes out to be with Euclidean distance metric , 7 neighbours and 96.82 % Accuracy."
   ]
  },
  {
   "cell_type": "markdown",
   "metadata": {
    "colab_type": "text",
    "id": "fPUZRZj3b6Xr"
   },
   "source": [
    "## Problem 3: Naive Bayes Classifier [30 points]"
   ]
  },
  {
   "cell_type": "markdown",
   "metadata": {
    "colab_type": "text",
    "id": "EnyhChckcTVf"
   },
   "source": [
    "3.1 Implement Naive Bayes classifier. You may need to modify it for categorical variables. To handle unseen feature values, you may need to make use Laplace smoothing or the m-estimate of conditional probability method."
   ]
  },
  {
   "cell_type": "code",
   "execution_count": 235,
   "metadata": {
    "colab": {},
    "colab_type": "code",
    "id": "LgcQ9m3dcX8h"
   },
   "outputs": [],
   "source": [
    "# Code for problem 3.1 goes here\n",
    "#Refernced from https://machinelearningmastery.com/naive-bayes-classifier-scratch-python/ and discussed with Karan Kamatgi"
   ]
  },
  {
   "cell_type": "code",
   "execution_count": 238,
   "metadata": {},
   "outputs": [],
   "source": [
    "#Calculating mean and standard deviation\n",
    "def mean(numbers):\n",
    "    return sum(numbers)/float(len(numbers))\n",
    " \n",
    "def sd(numbers):\n",
    "    avg = mean(numbers)\n",
    "    variance = sum([pow(x-avg,2) for x in numbers])/float(len(numbers)-1)\n",
    "    return math.sqrt(variance)"
   ]
  },
  {
   "cell_type": "code",
   "execution_count": 239,
   "metadata": {},
   "outputs": [],
   "source": [
    "#Summarizing the dataset\n",
    "def summarize(dataset):\n",
    "    summaries = [(mean(attribute), sd(attribute)) for attribute in zip(*dataset)]\n",
    "    del summaries[-1]\n",
    "    return summaries\n",
    " \n",
    "def summarizeByClass(dataset):\n",
    "   # separated = separateByClass(dataset)\n",
    "    separated = {}\n",
    "    summaries = {}\n",
    "    for i in range(len(dataset)):\n",
    "        vector = dataset.iloc[i]\n",
    "        if (vector[-1] not in separated):\n",
    "            separated[vector[-1]] = []\n",
    "        separated[vector[-1]].append(vector)\n",
    "    for classValue, instances in separated.items():\n",
    "        summaries[classValue] = summarize(instances)\n",
    "    return summaries"
   ]
  },
  {
   "cell_type": "code",
   "execution_count": 240,
   "metadata": {},
   "outputs": [],
   "source": [
    "#Calculating the mean\n",
    "def calculateProbability(x, mean, sd,col):\n",
    "    try:\n",
    "        exponent = math.exp(-(math.pow(x-mean,2)/(2*math.pow(sd,2))))\n",
    "        return (1 / (math.sqrt(2*math.pi) * sd+0.01)) * exponent\n",
    "    except:\n",
    "        return mean"
   ]
  },
  {
   "cell_type": "code",
   "execution_count": 241,
   "metadata": {},
   "outputs": [],
   "source": [
    "#Predictions\n",
    "def predict(summaries, inputVector):\n",
    "   # probabilities = calculateClassProbabilities(summaries, inputVector)\n",
    "    probabilities = {}\n",
    "    for classValue, classSummaries in summaries.items():\n",
    "        probabilities[classValue] = 1\n",
    "        for i in range(len(classSummaries)):\n",
    "            mean, sd = classSummaries[i]\n",
    "            x = inputVector[i]\n",
    "            probabilities[classValue] *= calculateProbability(x, mean, sd,i)\n",
    "\n",
    "    bestLabel, bestProb = None, -1\n",
    "    for classValue, probability in probabilities.items():\n",
    "        if bestLabel is None or probability > bestProb:\n",
    "            bestProb = probability\n",
    "            bestLabel = classValue\n",
    "    return bestLabel\n",
    " \n",
    "def getPredictions(summaries, testSet):\n",
    "    predictions = []\n",
    "    for i in range(len(testSet)): \n",
    "        result = predict(summaries, testSet.iloc[i])\n",
    "        predictions.append(result)\n",
    "    return predictions"
   ]
  },
  {
   "cell_type": "code",
   "execution_count": 242,
   "metadata": {},
   "outputs": [],
   "source": [
    "#Calculating the accuracy and error\n",
    "def calculate_accuracy_error(testSet, predictions):\n",
    "    count = 0\n",
    "    for i in range(len(testSet)):\n",
    "        if testSet.iloc[i][-1] == predictions[i]:\n",
    "            count += 1\n",
    "    accuracy = (count/float(len(testSet))) * 100.0\n",
    "    error = 100-accuracy\n",
    "    return accuracy, error"
   ]
  },
  {
   "cell_type": "markdown",
   "metadata": {
    "colab_type": "text",
    "id": "H-Tt8ztecYUo"
   },
   "source": [
    "3.2 Train Naive Bayes classifiers over training data sets and test each classifier against corresponding test data. Make a plot that shows the error over each test data. Report the average error rate for 5-fold cross validation for each data sets."
   ]
  },
  {
   "cell_type": "markdown",
   "metadata": {},
   "source": [
    "Naive Bayes Classifier for Inoshphere Dataset"
   ]
  },
  {
   "cell_type": "code",
   "execution_count": null,
   "metadata": {
    "colab": {},
    "colab_type": "code",
    "id": "xk2-71GvcaAG"
   },
   "outputs": [],
   "source": [
    "# Code for problem 3.2 goes here"
   ]
  },
  {
   "cell_type": "code",
   "execution_count": 244,
   "metadata": {},
   "outputs": [],
   "source": [
    "def inosphere_NB(train,test):\n",
    "    train_ion=pd.read_csv(train)\n",
    "    test_ion=pd.read_csv(test)\n",
    "    train_ion.iloc[:,-1] = train_ion.iloc[:,-1].map({'g': 1, 'b': 0})\n",
    "    test_ion.iloc[:,-1] = test_ion.iloc[:,-1].map({'g': 1, 'b': 0})\n",
    "    train_ion.drop(train_ion.iloc[:, 0:2], inplace=True, axis=1)\n",
    "    test_ion.drop(test_ion.iloc[:, 0:2], inplace=True, axis=1)\n",
    "    return train_ion,test_ion\n"
   ]
  },
  {
   "cell_type": "code",
   "execution_count": 377,
   "metadata": {},
   "outputs": [
    {
     "name": "stdout",
     "output_type": "stream",
     "text": [
      "Accuracy for first Inosphere test set : 84.28571428571429\n",
      "Error for first Inoshphere test set: 15.714285714285708\n",
      "\n",
      "Accuracy for second Inosphere test set : 80.0\n",
      "Error for second Inoshphere test set: 20.0\n",
      "\n",
      "Accuracy for third Inosphere test set : 77.14285714285715\n",
      "Error for third Inoshphere test set: 22.857142857142847\n",
      "\n",
      "Accuracy for fourth Inoshphere test set: 82.85714285714286\n",
      "Error for  fourth Inoshphere test set: 17.14285714285714\n",
      "\n",
      "Accuracy for fifth Inoshpere test set : 80.28169014084507\n",
      "Error for fifth Inoshpere test set: 19.718309859154928\n"
     ]
    }
   ],
   "source": [
    "#Fold1\n",
    "error_ion_nb=[]\n",
    "trainingSet,testSet = inosphere_NB('ion_train1.csv','ion_test1.csv')\n",
    "#print(len(trainingSet), len(testSet))\n",
    "# prepare model\n",
    "summaries = summarizeByClass(trainingSet)\n",
    "# test model\n",
    "predictions = getPredictions(summaries, testSet)\n",
    "accuracy_ion1,error_ion1 = calculate_accuracy_error (testSet, predictions)\n",
    "print('Accuracy for first Inosphere test set :',accuracy_ion1)\n",
    "print('Error for first Inoshphere test set:',error_ion1)\n",
    "error_ion_nb.append(error_ion1)\n",
    "print()\n",
    "\n",
    "#Fold2\n",
    "trainingSet,testSet = inosphere_NB('ion_train2.csv','ion_test2.csv')\n",
    "#print(len(trainingSet), len(testSet))\n",
    "# prepare model\n",
    "summaries = summarizeByClass(trainingSet)\n",
    "# test model\n",
    "predictions = getPredictions(summaries, testSet)\n",
    "accuracy_ion2,error_ion2 = calculate_accuracy_error (testSet, predictions)\n",
    "print('Accuracy for second Inosphere test set :',accuracy_ion2)\n",
    "print('Error for second Inoshphere test set:',error_ion2)\n",
    "error_ion_nb.append(error_ion2)\n",
    "print()\n",
    "\n",
    "#Fold3\n",
    "trainingSet,testSet = inosphere_NB('ion_train3.csv','ion_test3.csv')\n",
    "#print(len(trainingSet), len(testSet))\n",
    "# prepare model\n",
    "summaries = summarizeByClass(trainingSet)\n",
    "# test model\n",
    "predictions = getPredictions(summaries, testSet)\n",
    "accuracy_ion3,error_ion3 = calculate_accuracy_error (testSet, predictions)\n",
    "print('Accuracy for third Inosphere test set :',accuracy_ion3)\n",
    "print('Error for third Inoshphere test set:',error_ion3)\n",
    "error_ion_nb.append(error_ion3)\n",
    "print()\n",
    "\n",
    "#Fold4\n",
    "trainingSet,testSet = inosphere_NB('ion_train4.csv','ion_test4.csv')\n",
    "#print(len(trainingSet), len(testSet))\n",
    "# prepare model\n",
    "summaries = summarizeByClass(trainingSet)\n",
    "# test model\n",
    "predictions = getPredictions(summaries, testSet)\n",
    "accuracy_ion4,error_ion4 = calculate_accuracy_error (testSet, predictions)\n",
    "print('Accuracy for fourth Inoshphere test set:',accuracy_ion4)\n",
    "print('Error for  fourth Inoshphere test set:',error_ion4)\n",
    "error_ion_nb.append(error_ion4)\n",
    "print()\n",
    "\n",
    "#Fold5\n",
    "trainingSet,testSet = inosphere_NB('ion_train5.csv','ion_test5.csv')\n",
    "#print(len(trainingSet), len(testSet))\n",
    "# prepare model\n",
    "summaries = summarizeByClass(trainingSet)\n",
    "# test model\n",
    "predictions = getPredictions(summaries, testSet)\n",
    "accuracy_ion5,error_ion5 = calculate_accuracy_error (testSet, predictions)\n",
    "print('Accuracy for fifth Inoshpere test set :',accuracy_ion5)\n",
    "print('Error for fifth Inoshpere test set:',error_ion5)\n",
    "error_ion_nb.append(error_ion5)\n",
    "# print(error_ion_nb)"
   ]
  },
  {
   "cell_type": "code",
   "execution_count": 247,
   "metadata": {},
   "outputs": [],
   "source": [
    "#reference - https://pythonspot.com/matplotlib-bar-chart/"
   ]
  },
  {
   "cell_type": "code",
   "execution_count": 378,
   "metadata": {},
   "outputs": [
    {
     "data": {
      "image/png": "[encoded data removed]",
      "text/plain": [
       "<Figure size 432x288 with 1 Axes>"
      ]
     },
     "metadata": {},
     "output_type": "display_data"
    }
   ],
   "source": [
    "# error_ion=np.array(error_ion)\n",
    "error_ion_nb=list(error_ion_nb)\n",
    "# error_ion_avg=np.average(error_ion)\n",
    "fold_list=[1,2,3,4,5]\n",
    "# plt.plot(fold_list,error_ion)\n",
    "# plt.ylabel('error in percentage')\n",
    "# plt.xlabel('value of K')\n",
    "# plt.title(\"Error for Inosphere Dataset for 5 folds\")\n",
    "# plt.show()\n",
    "# objects = ('Python', 'C++', 'Java', 'Perl', 'Scala', 'Lisp')\n",
    "y_pos = np.arange(len(fold_list))\n",
    "performance = error_ion_nb\n",
    " \n",
    "plt.bar(y_pos, performance, align='center', alpha=0.5)\n",
    "plt.xticks(y_pos, fold_list)\n",
    "plt.ylabel('Error in percentage')\n",
    "plt.title(\"Error for Inosphere Dataset for 5 folds\")\n",
    "plt.xlabel('Folds')\n",
    "plt.show()"
   ]
  },
  {
   "cell_type": "code",
   "execution_count": 249,
   "metadata": {},
   "outputs": [],
   "source": [
    "def Credit_NB(train,test):\n",
    "    train_credit=pd.read_csv(train)\n",
    "    test_credit=pd.read_csv(test)\n",
    "    return train_credit,test_credit"
   ]
  },
  {
   "cell_type": "code",
   "execution_count": 380,
   "metadata": {
    "scrolled": true
   },
   "outputs": [
    {
     "name": "stdout",
     "output_type": "stream",
     "text": [
      "Accuracy for first Credit test set : 85.49618320610686\n",
      "Error for first Credit test set: 14.503816793893137\n",
      "\n",
      "Accuracy for second Credit test set : 81.67938931297711\n",
      "Error for second Credit test set: 18.320610687022892\n",
      "\n",
      "Accuracy for third Credit test set : 76.33587786259542\n",
      "Error for third Credit test set: 23.664122137404576\n",
      "\n",
      "Accuracy for fourth Credit test set : 80.1526717557252\n",
      "Error for fourth Credit test set: 19.847328244274806\n",
      "\n",
      "Accuracy for fifth Credit test set : 77.51937984496125\n",
      "Error for fifth Credit test set: 22.48062015503875\n"
     ]
    }
   ],
   "source": [
    "#Car_NB('credit_train1.csv','credit_test1.csv')\n",
    "error_credit_nb=[]\n",
    "\n",
    "trainingSet,testSet = Credit_NB('credit_train1.csv','credit_test1.csv')\n",
    "#print(len(trainingSet), len(testSet))\n",
    "# prepare model\n",
    "summaries = summarizeByClass(trainingSet)\n",
    "# test model\n",
    "predictions = getPredictions(summaries, testSet)\n",
    "accuracy_credit1,error_credit1 = calculate_accuracy_error (testSet, predictions)\n",
    "print('Accuracy for first Credit test set :',accuracy_credit1)\n",
    "print('Error for first Credit test set:',error_credit1)\n",
    "error_credit_nb.append(error_credit1)\n",
    "print()\n",
    "\n",
    "trainingSet,testSet = Credit_NB('credit_train2.csv','credit_test2.csv')\n",
    "#print(len(trainingSet), len(testSet))\n",
    "# prepare model\n",
    "summaries = summarizeByClass(trainingSet)\n",
    "# test model\n",
    "predictions = getPredictions(summaries, testSet)\n",
    "accuracy_credit2,error_credit2 = calculate_accuracy_error (testSet, predictions)\n",
    "print('Accuracy for second Credit test set :',accuracy_credit2)\n",
    "print('Error for second Credit test set:',error_credit2)\n",
    "error_credit_nb.append(error_credit2)\n",
    "print()\n",
    "\n",
    "\n",
    "trainingSet,testSet = Credit_NB('credit_train3.csv','credit_test3.csv')\n",
    "#print(len(trainingSet), len(testSet))\n",
    "# prepare model\n",
    "summaries = summarizeByClass(trainingSet)\n",
    "# test model\n",
    "predictions = getPredictions(summaries, testSet)\n",
    "accuracy_credit3,error_credit3 = calculate_accuracy_error (testSet, predictions)\n",
    "print('Accuracy for third Credit test set :',accuracy_credit3)\n",
    "print('Error for third Credit test set:',error_credit3)\n",
    "error_credit_nb.append(error_credit3)\n",
    "print()\n",
    "\n",
    "trainingSet,testSet = Credit_NB('credit_train4.csv','credit_test4.csv')\n",
    "#print(len(trainingSet), len(testSet))\n",
    "# prepare model\n",
    "summaries = summarizeByClass(trainingSet)\n",
    "# test model\n",
    "predictions = getPredictions(summaries, testSet)\n",
    "accuracy_credit4,error_credit4 = calculate_accuracy_error (testSet, predictions)\n",
    "print('Accuracy for fourth Credit test set :',accuracy_credit4)\n",
    "print('Error for fourth Credit test set:',error_credit4)\n",
    "error_credit_nb.append(error_credit4)\n",
    "print()\n",
    "\n",
    "\n",
    "trainingSet,testSet = Credit_NB('credit_train5.csv','credit_test5.csv')\n",
    "#print(len(trainingSet), len(testSet))\n",
    "# prepare model\n",
    "summaries = summarizeByClass(trainingSet)\n",
    "# test model\n",
    "predictions = getPredictions(summaries, testSet)\n",
    "accuracy_credit5,error_credit5 = calculate_accuracy_error (testSet, predictions)\n",
    "print('Accuracy for fifth Credit test set :',accuracy_credit5)\n",
    "print('Error for fifth Credit test set:',error_credit5)\n",
    "error_credit_nb.append(error_credit5)\n",
    "# print(error_credit_nb)"
   ]
  },
  {
   "cell_type": "code",
   "execution_count": 381,
   "metadata": {},
   "outputs": [
    {
     "data": {
      "image/png": "[encoded data removed]",
      "text/plain": [
       "<Figure size 432x288 with 1 Axes>"
      ]
     },
     "metadata": {},
     "output_type": "display_data"
    }
   ],
   "source": [
    "# print(error_credit)\n",
    "# error_credit=np.array(error_credit)\n",
    "error_ion_avg=np.average(error_credit_nb)\n",
    "fold_list=[1,2,3,4,5]\n",
    "# plt.plot(fold_list,error_credit)\n",
    "# plt.ylabel('error in percentage')\n",
    "# plt.xlabel('value of K')\n",
    "# plt.title(\"Error for Credit Dataset for 5 folds\")\n",
    "# plt.show()\n",
    "y_pos = np.arange(len(fold_list))\n",
    "performance = error_credit_nb\n",
    " \n",
    "plt.bar(y_pos, performance, align='center', alpha=0.5)\n",
    "plt.xticks(y_pos, fold_list)\n",
    "plt.ylabel('Error in percentage')\n",
    "plt.xlabel('Folds')\n",
    "plt.title(\"Error for Credit Dataset for 5 folds\")\n",
    " \n",
    "plt.show()"
   ]
  },
  {
   "cell_type": "code",
   "execution_count": 253,
   "metadata": {},
   "outputs": [],
   "source": [
    "def Car_NB(train,test):\n",
    "    train_car=pd.read_csv(train)\n",
    "    test_car=pd.read_csv(test)\n",
    "    return train_car,test_car"
   ]
  },
  {
   "cell_type": "code",
   "execution_count": 383,
   "metadata": {},
   "outputs": [
    {
     "name": "stdout",
     "output_type": "stream",
     "text": [
      "Accuracy for first Car test set : 69.94219653179191\n",
      "Error for fifth Car test set: 30.057803468208093\n",
      "\n",
      "Accuracy for second car test set : 63.29479768786127\n",
      "Error for second car test set: 36.70520231213873\n",
      "\n",
      "Accuracy for third car test set : 68.78612716763006\n",
      "Error for third car test set: 31.213872832369944\n",
      "\n",
      "Accuracy for third car test set : 68.78612716763006\n",
      "Error for third car test set: 31.213872832369944\n",
      "\n",
      "Accuracy for third car test set : 70.93023255813954\n",
      "Error for third car test set: 29.069767441860463\n"
     ]
    }
   ],
   "source": [
    "error_car_nb=[]\n",
    "trainingSet,testSet = Car_NB('car_train1.csv','car_test1.csv')\n",
    "#print(len(trainingSet), len(testSet))\n",
    "# prepare model\n",
    "summaries = summarizeByClass(trainingSet)\n",
    "# test model\n",
    "predictions = getPredictions(summaries, testSet)\n",
    "accuracy_car1,error_car1 = calculate_accuracy_error (testSet, predictions)\n",
    "print('Accuracy for first Car test set :',accuracy_car1)\n",
    "print('Error for fifth Car test set:',error_car1)\n",
    "error_car_nb.append(error_car1)\n",
    "print()\n",
    "\n",
    "trainingSet,testSet = Car_NB('car_train2.csv','car_test2.csv')\n",
    "#print(len(trainingSet), len(testSet))\n",
    "# prepare model\n",
    "summaries = summarizeByClass(trainingSet)\n",
    "# test model\n",
    "predictions = getPredictions(summaries, testSet)\n",
    "accuracy_car2,error_car2 = calculate_accuracy_error (testSet, predictions)\n",
    "print('Accuracy for second car test set :',accuracy_car2)\n",
    "print('Error for second car test set:',error_car2)\n",
    "error_car_nb.append(error_car2)\n",
    "print()\n",
    "\n",
    "trainingSet,testSet = Car_NB('car_train3.csv','car_test3.csv')\n",
    "#print(len(trainingSet), len(testSet))\n",
    "# prepare model\n",
    "summaries = summarizeByClass(trainingSet)\n",
    "# test model\n",
    "predictions = getPredictions(summaries, testSet)\n",
    "accuracy_car3,error_car3 = calculate_accuracy_error (testSet, predictions)\n",
    "print('Accuracy for third car test set :',accuracy_car3)\n",
    "print('Error for third car test set:',error_car3)\n",
    "error_car_nb.append(error_car3)\n",
    "print()\n",
    "\n",
    "\n",
    "trainingSet,testSet = Car_NB('car_train4.csv','car_test4.csv')\n",
    "#print(len(trainingSet), len(testSet))\n",
    "# prepare model\n",
    "summaries = summarizeByClass(trainingSet)\n",
    "# test model\n",
    "predictions = getPredictions(summaries, testSet)\n",
    "accuracy_car4,error_car4 = calculate_accuracy_error (testSet, predictions)\n",
    "print('Accuracy for third car test set :',accuracy_car4)\n",
    "print('Error for third car test set:',error_car4)\n",
    "error_car_nb.append(error_car4)\n",
    "print()\n",
    "\n",
    "\n",
    "trainingSet,testSet = Car_NB('car_train5.csv','car_test5.csv')\n",
    "#print(len(trainingSet), len(testSet))\n",
    "# prepare model\n",
    "summaries = summarizeByClass(trainingSet)\n",
    "# test model\n",
    "predictions = getPredictions(summaries, testSet)\n",
    "accuracy_car5,error_car5 = calculate_accuracy_error (testSet, predictions)\n",
    "print('Accuracy for third car test set :',accuracy_car5)\n",
    "print('Error for third car test set:',error_car5)\n",
    "error_car_nb.append(error_car5)\n",
    "# print(error_car_nb)"
   ]
  },
  {
   "cell_type": "code",
   "execution_count": 384,
   "metadata": {},
   "outputs": [
    {
     "data": {
      "image/png": "[encoded data removed]",
      "text/plain": [
       "<Figure size 432x288 with 1 Axes>"
      ]
     },
     "metadata": {},
     "output_type": "display_data"
    }
   ],
   "source": [
    "# print(error_car)\n",
    "# error_ion=np.array(error_car)\n",
    "# error_ion_avg=np.average(error_car)\n",
    "fold_list=[1,2,3,4,5]\n",
    "# plt.plot(fold_list,error_car)\n",
    "# plt.ylabel('error in percentage')\n",
    "# plt.xlabel('value of K')\n",
    "# plt.title(\"Error for Credit Dataset for 5 folds\")\n",
    "# plt.show()\n",
    "y_pos = np.arange(len(fold_list))\n",
    "performance = error_car_nb\n",
    " \n",
    "plt.bar(y_pos, performance, align='center', alpha=0.5)\n",
    "plt.xticks(y_pos, fold_list)\n",
    "plt.ylabel('Error in percentage')\n",
    "plt.xlabel('Folds')\n",
    "plt.title(\"Error for Car Dataset for 5 folds\")\n",
    " \n",
    "plt.show()"
   ]
  },
  {
   "cell_type": "markdown",
   "metadata": {
    "colab_type": "text",
    "id": "ehpK91vQcaUu"
   },
   "source": [
    "3.3 Use Naive Bayes package in sklearn for validation."
   ]
  },
  {
   "cell_type": "code",
   "execution_count": 265,
   "metadata": {
    "colab": {},
    "colab_type": "code",
    "id": "y1bkypYfceWU"
   },
   "outputs": [],
   "source": [
    "# Code for problem 3.3 goes here\n",
    "# Code for problem 2.3 goes here\n",
    "from sklearn.naive_bayes import GaussianNB, BernoulliNB, MultinomialNB\n",
    "clf = GaussianNB()"
   ]
  },
  {
   "cell_type": "code",
   "execution_count": 266,
   "metadata": {},
   "outputs": [
    {
     "name": "stdout",
     "output_type": "stream",
     "text": [
      "Accuracy for first Inoshphere test set is: 0.9\n",
      "Accuracy for second Inoshphere test set is: 0.9142857142857143\n",
      "Accuracy for third Inoshphere test set is: 0.8571428571428571\n",
      "Accuracy for fourth Inoshphere test set is: 0.8714285714285714\n",
      "Accuracy for fifth Inoshphere test set is: 0.8873239436619719\n"
     ]
    }
   ],
   "source": [
    "clf.fit(train_ion1.iloc[:, :-1], train_ion1.iloc[:,-1])\n",
    "accuracy1=clf.score(test_ion1.iloc[:, :-1], test_ion1.iloc[:,-1])\n",
    "print(\"Accuracy for first Inoshphere test set is:\",accuracy1)\n",
    "\n",
    "clf.fit(train_ion2.iloc[:, :-1], train_ion2.iloc[:,-1])\n",
    "accuracy2=clf.score(test_ion2.iloc[:, :-1], test_ion2.iloc[:,-1])\n",
    "print(\"Accuracy for second Inoshphere test set is:\",accuracy2)\n",
    "\n",
    "clf.fit(train_ion3.iloc[:, :-1], train_ion3.iloc[:,-1])\n",
    "accuracy3=clf.score(test_ion3.iloc[:, :-1], test_ion3.iloc[:,-1])\n",
    "print(\"Accuracy for third Inoshphere test set is:\",accuracy3)\n",
    "\n",
    "clf.fit(train_ion4.iloc[:, :-1], train_ion4.iloc[:,-1])\n",
    "accuracy4=clf.score(test_ion4.iloc[:, :-1], test_ion4.iloc[:,-1])\n",
    "print(\"Accuracy for fourth Inoshphere test set is:\",accuracy4)\n",
    "\n",
    "clf.fit(train_ion5.iloc[:, :-1], train_ion5.iloc[:,-1])\n",
    "accuracy5=clf.score(test_ion5.iloc[:, :-1], test_ion5.iloc[:,-1])\n",
    "print(\"Accuracy for fifth Inoshphere test set is:\",accuracy5)"
   ]
  },
  {
   "cell_type": "code",
   "execution_count": 267,
   "metadata": {},
   "outputs": [
    {
     "name": "stdout",
     "output_type": "stream",
     "text": [
      "Accuracy for first car test set is: 0.7138728323699421\n",
      "Accuracy for second car test set is: 0.7196531791907514\n",
      "Accuracy of third car test set is: 0.7254335260115607\n",
      "Accuracy of fourth car test set is: 0.6473988439306358\n",
      "Accuracy of fifth car test set is: 0.6947674418604651\n"
     ]
    }
   ],
   "source": [
    "clf.fit(train_car1.iloc[:, :-1], train_car1.iloc[:,-1])\n",
    "accuracy_c1=clf.score(test_car1.iloc[:, :-1], test_car1.iloc[:,-1])\n",
    "print(\"Accuracy for first car test set is:\",accuracy_c1)\n",
    "    \n",
    "clf.fit(train_car2.iloc[:, :-1], train_car2.iloc[:,-1])\n",
    "accuracy_c2=clf.score(test_car2.iloc[:, :-1], test_car2.iloc[:,-1])\n",
    "print(\"Accuracy for second car test set is:\",accuracy_c2)\n",
    "\n",
    "clf.fit(train_car3.iloc[:, :-1], train_car3.iloc[:,-1])\n",
    "accuracy_c3=clf.score(test_car3.iloc[:, :-1], test_car3.iloc[:,-1])\n",
    "print(\"Accuracy of third car test set is:\",accuracy_c3)\n",
    "\n",
    "\n",
    "clf.fit(train_car4.iloc[:, :-1], train_car4.iloc[:,-1])\n",
    "accuracy_c4=clf.score(test_car4.iloc[:, :-1], test_car4.iloc[:,-1])\n",
    "print(\"Accuracy of fourth car test set is:\",accuracy_c4)\n",
    "\n",
    "clf.fit(train_car5.iloc[:, :-1], train_car5.iloc[:,-1])\n",
    "accuracy_c5=clf.score(test_car5.iloc[:, :-1], test_car5.iloc[:,-1])\n",
    "print(\"Accuracy of fifth car test set is:\",accuracy_c5)\n"
   ]
  },
  {
   "cell_type": "code",
   "execution_count": 268,
   "metadata": {},
   "outputs": [
    {
     "name": "stdout",
     "output_type": "stream",
     "text": [
      "Accuracy for first credit test set is: 0.8549618320610687\n",
      "Accuracy for second credit test set is: 0.8549618320610687\n",
      "Accuracy for third credit test set is: 0.7404580152671756\n",
      "Accuracy for fourth credit test set is: 0.7938931297709924\n",
      "Accuracy for fifth credit test set is: 0.7286821705426356\n"
     ]
    }
   ],
   "source": [
    "clf1 = MultinomialNB()\n",
    "clf.fit(train_credit1.iloc[:, :-1], train_credit1.iloc[:,-1])\n",
    "accuracy_cred1=clf.score(test_credit1.iloc[:, :-1], test_credit1.iloc[:,-1])\n",
    "print(\"Accuracy for first credit test set is:\",accuracy_cred1)\n",
    "\n",
    "clf.fit(train_credit2.iloc[:, :-1], train_credit2.iloc[:,-1])\n",
    "accuracy_cred2=clf.score(test_credit2.iloc[:, :-1], test_credit2.iloc[:,-1])\n",
    "print(\"Accuracy for second credit test set is:\",accuracy_cred1)\n",
    "\n",
    "clf.fit(train_credit3.iloc[:, :-1], train_credit3.iloc[:,-1])\n",
    "accuracy_cred3=clf.score(test_credit3.iloc[:, :-1], test_credit3.iloc[:,-1])\n",
    "print(\"Accuracy for third credit test set is:\",accuracy_cred3)\n",
    "\n",
    "clf.fit(train_credit4.iloc[:, :-1], train_credit4.iloc[:,-1])\n",
    "accuracy_cred4=clf.score(test_credit4.iloc[:, :-1], test_credit4.iloc[:,-1])\n",
    "print(\"Accuracy for fourth credit test set is:\",accuracy_cred4)\n",
    "\n",
    "clf.fit(train_credit5.iloc[:, :-1], train_credit5.iloc[:,-1])\n",
    "accuracy_cred5=clf.score(test_credit5.iloc[:, :-1], test_credit5.iloc[:,-1])\n",
    "print(\"Accuracy for fifth credit test set is:\",accuracy_cred5)"
   ]
  },
  {
   "cell_type": "markdown",
   "metadata": {
    "colab_type": "text",
    "id": "64ug5AVlchkf"
   },
   "source": [
    "## Problem 4: Naive Bayes Classifier vs. K-Nearest Neighbors [10 points]\n",
    "\n",
    "\n",
    "In this question, you are asked to compare Naive Bayes classifier with K-NN algorithm. First, determine the best K-NN model for each data set. Then, make a plot that reveals comparison of two algorithms using test error for each data set. (Total number of figures = 3)"
   ]
  },
  {
   "cell_type": "code",
   "execution_count": 277,
   "metadata": {},
   "outputs": [
    {
     "name": "stdout",
     "output_type": "stream",
     "text": [
      "Max distance metric for Inosphere dataset 1 is: ('Manhattan', 2) with Accuracy 0.8142857142857143\n",
      "Max distance metric for Inosphere dataset 2 is: ('Manhattan', 2) with Accuracy 0.7714285714285715\n",
      "Max distance metric for Inosphere dataset 3 is: ('Manhattan', 4) with Accuracy 0.8714285714285714\n",
      "Max distance metric for Inosphere dataset 4 is: ('Manhattan', 9) with Accuracy 0.8714285714285714\n",
      "Max distance metric for Inosphere dataset 5 is: ('Manhattan', 2) with Accuracy 0.8732394366197183\n"
     ]
    }
   ],
   "source": [
    "ion_dict1= save_accuracy(train_ion1,test_ion1)\n",
    "max_dist1= max(ion_dict1, key=ion_dict1.get)\n",
    "print(\"Max distance metric for Inosphere dataset 1 is:\", max_dist1, \"with Accuracy\", ion_dict1[max_dist])\n",
    "\n",
    "ion_dict2= save_accuracy(train_ion2,test_ion2)\n",
    "max_dist2= max(ion_dict2, key=ion_dict2.get)\n",
    "print(\"Max distance metric for Inosphere dataset 2 is:\", max_dist2, \"with Accuracy\", ion_dict2[max_dist])\n",
    "\n",
    "ion_dict3= save_accuracy(train_ion3,test_ion3)\n",
    "max_dist3= max(ion_dict3, key=ion_dict3.get)\n",
    "print(\"Max distance metric for Inosphere dataset 3 is:\", max_dist3, \"with Accuracy\", ion_dict3[max_dist])\n",
    "\n",
    "ion_dict4= save_accuracy(train_ion4,test_ion4)\n",
    "max_dist4= max(ion_dict4, key=ion_dict4.get)\n",
    "print(\"Max distance metric for Inosphere dataset 4 is:\", max_dist4, \"with Accuracy\", ion_dict4[max_dist])\n",
    "\n",
    "ion_dict5= save_accuracy(train_ion5,test_ion5)\n",
    "max_dist5= max(ion_dict5, key=ion_dict5.get)\n",
    "print(\"Max distance metric for Inosphere dataset 5 is:\", max_dist5, \"with Accuracy\", ion_dict5[max_dist])"
   ]
  },
  {
   "cell_type": "code",
   "execution_count": 291,
   "metadata": {},
   "outputs": [
    {
     "name": "stdout",
     "output_type": "stream",
     "text": [
      "Maximum Accuracy for Inosphere dataset is: 0.9285714285714286\n"
     ]
    }
   ],
   "source": [
    "Accuracy_ion = max(ion_dict1[max_dist1],ion_dict2[max_dist2],ion_dict3[max_dist3],ion_dict4[max_dist4],ion_dict5[max_dist5])\n",
    "Avg_Error_ion = 1-Accuracy_ion\n",
    "print(\"Maximum Accuracy for Inosphere dataset is:\",Accuracy_ion)"
   ]
  },
  {
   "cell_type": "markdown",
   "metadata": {},
   "source": [
    "The best K-NN model for Inoshphere dataset comes out to be with Manhattan distance metric , 2 neighbours and 94% Accuracy"
   ]
  },
  {
   "cell_type": "code",
   "execution_count": 281,
   "metadata": {},
   "outputs": [
    {
     "name": "stdout",
     "output_type": "stream",
     "text": [
      "Max distance metric for Credit dataset 1 is: ('Manhattan', 4) with Accuracy 0.8091603053435115\n",
      "Max distance metric for Credit dataset 2 is: ('Manhattan', 3) with Accuracy 0.732824427480916\n",
      "Max distance metric for Credit dataset 3 is: ('Manhattan', 5) with Accuracy 0.7786259541984732\n",
      "Max distance metric for Credit dataset 4 is: ('Manhattan', 13) with Accuracy 0.7633587786259542\n",
      "Max distance metric for Credit dataset 5 is: ('Euclidean', 7) with Accuracy 0.751937984496124\n"
     ]
    }
   ],
   "source": [
    "credit_dict1= save_accuracy(train_credit1,test_credit1)\n",
    "max_dist1= max(credit_dict1, key=credit_dict1.get)\n",
    "print(\"Max distance metric for Credit dataset 1 is:\", max_dist1, \"with Accuracy\", credit_dict1[max_dist1])\n",
    "\n",
    "credit_dict2= save_accuracy(train_credit2,test_credit2)\n",
    "max_dist2= max(credit_dict2, key=credit_dict2.get)\n",
    "print(\"Max distance metric for Credit dataset 2 is:\", max_dist2, \"with Accuracy\", credit_dict2[max_dist2])\n",
    "\n",
    "credit_dict3= save_accuracy(train_credit3,test_credit3)\n",
    "max_dist3= max(credit_dict3, key=credit_dict3.get)\n",
    "print(\"Max distance metric for Credit dataset 3 is:\", max_dist3, \"with Accuracy\", credit_dict3[max_dist3])\n",
    "\n",
    "credit_dict4= save_accuracy(train_credit4,test_credit4)\n",
    "max_dist4= max(credit_dict4, key=credit_dict4.get)\n",
    "print(\"Max distance metric for Credit dataset 4 is:\", max_dist4, \"with Accuracy\", credit_dict4[max_dist4])\n",
    "\n",
    "credit_dict5= save_accuracy(train_credit5,test_credit5)\n",
    "max_dist5= max(credit_dict5, key=credit_dict1.get)\n",
    "print(\"Max distance metric for Credit dataset 5 is:\", max_dist, \"with Accuracy\", credit_dict5[max_dist5])"
   ]
  },
  {
   "cell_type": "code",
   "execution_count": 290,
   "metadata": {},
   "outputs": [
    {
     "name": "stdout",
     "output_type": "stream",
     "text": [
      "Maximum Accuracy for Credit dataset is: 0.8091603053435115\n"
     ]
    }
   ],
   "source": [
    "Accuracy_credit= max(credit_dict1[max_dist1],credit_dict2[max_dist2],credit_dict3[max_dist3],credit_dict4[max_dist4],credit_dict5[max_dist5])\n",
    "Avg_Error_credit = 1-Accuracy_credit\n",
    "print(\"Maximum Accuracy for Credit dataset is:\",Accuracy_credit)"
   ]
  },
  {
   "cell_type": "markdown",
   "metadata": {},
   "source": [
    "The best K-NN model for Credit dataset comes out to be with Manhattan distance metric , 4 neighbours and 80 % Accuracy.\n"
   ]
  },
  {
   "cell_type": "code",
   "execution_count": 295,
   "metadata": {},
   "outputs": [
    {
     "name": "stdout",
     "output_type": "stream",
     "text": [
      "Max distance metric for Car dataset 1 is: ('Euclidean', 7) with Accuracy 0.9682080924855492\n",
      "Max distance metric for Car dataset 2 is: ('Euclidean', 7) with Accuracy 0.9566473988439307\n",
      "Max distance metric for Car dataset 3 is: ('Euclidean', 6) with Accuracy 0.9624277456647399\n",
      "Max distance metric for Car dataset 4 is: ('Euclidean', 7) with Accuracy 0.9479768786127167\n",
      "Max distance metric for Car dataset 5 is: ('Euclidean', 7) with Accuracy 0.9651162790697675\n"
     ]
    }
   ],
   "source": [
    "car_dict1= save_accuracy(train_car1,test_car1)\n",
    "# car_dict1\n",
    "max_dist1= max(car_dict1, key=car_dict1.get)\n",
    "print(\"Max distance metric for Car dataset 1 is:\", max_dist1, \"with Accuracy\", car_dict1[max_dist1])\n",
    "\n",
    "car_dict2= save_accuracy(train_car2,test_car2)\n",
    "max_dist2= max(car_dict2, key=car_dict2.get)\n",
    "print(\"Max distance metric for Car dataset 2 is:\", max_dist2, \"with Accuracy\", car_dict2[max_dist2])\n",
    "\n",
    "car_dict3= save_accuracy(train_car3,test_car3)\n",
    "max_dist3= max(car_dict3, key=car_dict3.get)\n",
    "print(\"Max distance metric for Car dataset 3 is:\", max_dist3, \"with Accuracy\", car_dict3[max_dist3])\n",
    "\n",
    "car_dict4= save_accuracy(train_car4,test_car4)\n",
    "max_dist4= max(car_dict4, key=car_dict4.get)\n",
    "print(\"Max distance metric for Car dataset 4 is:\", max_dist4, \"with Accuracy\", car_dict4[max_dist4])\n",
    "\n",
    "car_dict5= save_accuracy(train_car5,test_car5)\n",
    "max_dist5= max(car_dict5, key=car_dict5.get)\n",
    "print(\"Max distance metric for Car dataset 5 is:\", max_dist5, \"with Accuracy\", car_dict5[max_dist5])\n"
   ]
  },
  {
   "cell_type": "code",
   "execution_count": 299,
   "metadata": {},
   "outputs": [
    {
     "name": "stdout",
     "output_type": "stream",
     "text": [
      "Maximum Accuracy for Car dataset is:  0.9682080924855492\n"
     ]
    }
   ],
   "source": [
    "Accuracy_car=max(car_dict1[max_dist1],car_dict2[max_dist2],car_dict3[max_dist3],car_dict4[max_dist4],car_dict5[max_dist5])\n",
    "Avg_Error_car = 1-Accuracy_car\n",
    "print(\"Maximum Accuracy for Car dataset is: \", Accuracy_car)"
   ]
  },
  {
   "cell_type": "markdown",
   "metadata": {},
   "source": [
    "The best K-NN model for Car dataset comes out to be with Euclidean distance metric , 7 neighbours and 96.82 % Accuracy"
   ]
  },
  {
   "cell_type": "code",
   "execution_count": 402,
   "metadata": {},
   "outputs": [],
   "source": [
    "#Inosphere Dataset Errors for KNN\n",
    "error_list_man=np.array([man_error1, man_error2, man_error3, man_error4, man_error5] )\n",
    "# print(error_list_man)\n",
    "error_average_man_ion_folds = np.average(error_list_man, axis=1)\n",
    "#Average for each fold for manhattan dist - \n",
    "# print(error_average_man_ion_folds)\n",
    "error_average_man_ion_folds=list(error_average_man_ion_folds)\n",
    "# print(error_average_man_ion_folds)\n",
    "\n",
    "error_list_euc=np.array([euc_error1, euc_error2, euc_error3, euc_error4, euc_error5] )\n",
    "# print(error_list_euc)\n",
    "# error_average_euc_ion = np.average(error_list_euc, axis=0)\n",
    "error_average_euc_ion_folds = np.average(error_list_euc, axis=1)\n",
    "error_average_euc_ion_folds = list(error_average_euc_ion_folds)\n",
    "# print(error_average_euc_ion_folds)\n",
    "\n",
    "final_ion_error=[]\n",
    "for i,j in zip(error_average_man_ion_folds,error_average_euc_ion_folds):\n",
    "    final_ion_error.append((i+j)/2)\n",
    "# print(final_ion_error)"
   ]
  },
  {
   "cell_type": "code",
   "execution_count": 401,
   "metadata": {},
   "outputs": [],
   "source": [
    "#Car Dataset erros for KNN\n",
    "error_list_car=np.array([car_euc_error1, car_euc_error2, car_euc_error3, car_euc_error4, car_euc_error5])\n",
    "# error_average_euc_car = np.average(error_list_car, axis=0)\n",
    "error_average_euc_car_folds = np.average(error_list_car, axis=1)\n",
    "error_average_euc_car_folds=list(error_average_euc_car_folds)\n",
    "# print(error_average_euc_car_folds)\n",
    "\n",
    "\n",
    "error_list_car1=np.array([car_man_error1, car_man_error2, car_man_error3, car_man_error4, car_man_error5] )\n",
    "error_average_man_car_folds = np.average(error_list_car1, axis=1)\n",
    "error_average_man_car=list(error_average_man_car_folds)\n",
    "# print(error_average_man_car)\n",
    "\n",
    "final_car_error=[]\n",
    "for i,j in zip(error_average_euc_car_folds,error_average_man_car_folds):\n",
    "    final_car_error.append((i+j)/2)\n",
    "# print(final_car_error)\n"
   ]
  },
  {
   "cell_type": "code",
   "execution_count": 400,
   "metadata": {},
   "outputs": [],
   "source": [
    "#Credit dataset errors for KNN\n",
    "error_list_credit_euc=np.array([credit_euc_error1, credit_euc_error2, credit_euc_error3, credit_euc_error4, credit_euc_error5])\n",
    "error_average_euc_credit_fold = np.average(error_list_credit_euc, axis=1)\n",
    "error_average_euc_credit_fold=list(error_average_euc_credit_fold)\n",
    "# print(error_average_euc_credit_fold)\n",
    "\n",
    "error_list_credit_man=np.array([credit_man_error1, credit_man_error2, credit_man_error3, credit_man_error4, credit_man_error5] )\n",
    "error_average_man_credit_fold = np.average(error_list_credit_man, axis=1)\n",
    "error_average_man_credit_fold=list(error_average_man_credit_fold)\n",
    "# print(error_average_man_credit_fold)\n",
    "\n",
    "final_credit_error=[]\n",
    "for i,j in zip(error_average_euc_credit_fold,error_average_man_credit_fold):\n",
    "    final_credit_error.append((i+j)/2)\n",
    "# print(final_credit_error)\n"
   ]
  },
  {
   "cell_type": "code",
   "execution_count": 398,
   "metadata": {
    "colab": {},
    "colab_type": "code",
    "id": "8Z6E51FLco4u"
   },
   "outputs": [],
   "source": [
    "# Naive Bayes errors\n",
    "\n",
    "# print(error_ion_nb)\n",
    "# print(error_car_nb)\n",
    "# print(error_credit_nb)\n",
    "\n",
    "\n",
    "#K-NN Errors-\n",
    "error_ion_KNN=final_ion_error\n",
    "error_car_KNN=final_car_error\n",
    "error_credit_KNN=final_credit_error\n",
    "\n",
    "error_ion_KNN=[i * 100 for i in error_ion_KNN]\n",
    "error_car_KNN=[i * 100 for i in error_car_KNN]\n",
    "error_credit_KNN=[i * 100 for i in error_credit_KNN]\n",
    "\n",
    "# print(error_ion_KNN)\n",
    "# print(error_car_KNN)\n",
    "# print(error_credit_KNN)"
   ]
  },
  {
   "cell_type": "code",
   "execution_count": 413,
   "metadata": {},
   "outputs": [
    {
     "name": "stdout",
     "output_type": "stream",
     "text": [
      "Plot for Ionsphere dataset of Naive Bayes vs KNN\n",
      "Yellow color line indicates Naive Bayes which is labelled as 1\n",
      "Blue color line indicates KNN which is labelled as 0\n",
      "X-Axis indicates K-Folds\n",
      "Y-Axis indicates Error in percentage\n"
     ]
    },
    {
     "data": {
      "text/plain": [
       "<matplotlib.axes._subplots.AxesSubplot at 0x1af0834b160>"
      ]
     },
     "execution_count": 413,
     "metadata": {},
     "output_type": "execute_result"
    },
    {
     "data": {
      "image/png": "[encoded data removed]",
      "text/plain": [
       "<Figure size 432x288 with 1 Axes>"
      ]
     },
     "metadata": {},
     "output_type": "display_data"
    }
   ],
   "source": [
    "print(\"Plot for Ionsphere dataset of Naive Bayes vs KNN\")\n",
    "print(\"Yellow color line indicates Naive Bayes which is labelled as 1\")\n",
    "print(\"Blue color line indicates KNN which is labelled as 0\")\n",
    "print(\"X-Axis indicates K-Folds\")\n",
    "print(\"Y-Axis indicates Error in percentage\")\n",
    "plot_df = pd.DataFrame()\n",
    "plot_df[0] = error_ion_KNN\n",
    "plot_df[1] = error_ion_nb\n",
    "plot_df.columns=['KNN','Naive Bayes']\n",
    "plot_df.plot()\n"
   ]
  },
  {
   "cell_type": "code",
   "execution_count": 415,
   "metadata": {},
   "outputs": [
    {
     "name": "stdout",
     "output_type": "stream",
     "text": [
      "Plot for CarCredit dataset of Naive Bayes vs KNN\n",
      "Yellow color line indicates Naive Bayes which is labelled as 1\n",
      "Blue color line indicates KNN which is labelled as 0\n",
      "X-Axis indicates K-Folds\n",
      "Y-Axis indicates Error in percentage\n"
     ]
    },
    {
     "data": {
      "text/plain": [
       "<matplotlib.axes._subplots.AxesSubplot at 0x1af087132b0>"
      ]
     },
     "execution_count": 415,
     "metadata": {},
     "output_type": "execute_result"
    },
    {
     "data": {
      "image/png": "[encoded data removed]",
      "text/plain": [
       "<Figure size 432x288 with 1 Axes>"
      ]
     },
     "metadata": {},
     "output_type": "display_data"
    }
   ],
   "source": [
    "print(\"Plot for CarCredit dataset of Naive Bayes vs KNN\")\n",
    "print(\"Yellow color line indicates Naive Bayes which is labelled as 1\")\n",
    "print(\"Blue color line indicates KNN which is labelled as 0\")\n",
    "print(\"X-Axis indicates K-Folds\")\n",
    "print(\"Y-Axis indicates Error in percentage\")\n",
    "plot_df = pd.DataFrame()\n",
    "plot_df[0] = error_credit_KNN\n",
    "plot_df[1] = error_credit_nb\n",
    "plot_df.columns=['KNN','Naive Bayes']\n",
    "plot_df.plot()"
   ]
  },
  {
   "cell_type": "code",
   "execution_count": 414,
   "metadata": {},
   "outputs": [
    {
     "name": "stdout",
     "output_type": "stream",
     "text": [
      "Plot for Car dataset of Naive Bayes vs KNN\n",
      "Yellow color line indicates Naive Bayes which is labelled as 1\n",
      "Blue color line indicates KNN which is labelled as 0\n",
      "X-Axis indicates K-Folds\n",
      "Y-Axis indicates Error in percentage\n"
     ]
    },
    {
     "data": {
      "text/plain": [
       "<matplotlib.axes._subplots.AxesSubplot at 0x1af08674b70>"
      ]
     },
     "execution_count": 414,
     "metadata": {},
     "output_type": "execute_result"
    },
    {
     "data": {
      "image/png": "[encoded data removed]",
      "text/plain": [
       "<Figure size 432x288 with 1 Axes>"
      ]
     },
     "metadata": {},
     "output_type": "display_data"
    }
   ],
   "source": [
    "print(\"Plot for Car dataset of Naive Bayes vs KNN\")\n",
    "print(\"Yellow color line indicates Naive Bayes which is labelled as 1\")\n",
    "print(\"Blue color line indicates KNN which is labelled as 0\")\n",
    "print(\"X-Axis indicates K-Folds\")\n",
    "print(\"Y-Axis indicates Error in percentage\")\n",
    "plot_df = pd.DataFrame()\n",
    "plot_df[0] = error_car_KNN\n",
    "plot_df[1] = error_car_nb\n",
    "plot_df.columns=['KNN','Naive Bayes']\n",
    "plot_df.plot()\n",
    "\n",
    "# print(error_car_KNN)"
   ]
  },
  {
   "cell_type": "markdown",
   "metadata": {
    "colab_type": "text",
    "id": "cSJ-u6sxeV_P"
   },
   "source": [
    "## Problem 5: Support Vector Machines [20 points]\n",
    "\n",
    "In this problem we are going to use the Iris dataset. This dataset has four features:\n",
    "\n",
    "1.   sepal length\n",
    "2.   sepal width\n",
    "3.   petal length\n",
    "4.   petal width\n",
    "\n",
    "and three classes:\n",
    "\n",
    "1.    Iris-Setosa\n",
    "2.    Iris-Versicolour\n",
    "3.    Iris-Virginica"
   ]
  },
  {
   "cell_type": "code",
   "execution_count": 300,
   "metadata": {
    "colab": {},
    "colab_type": "code",
    "id": "21QoeaapEFI3"
   },
   "outputs": [],
   "source": [
    "from sklearn import svm, datasets"
   ]
  },
  {
   "cell_type": "code",
   "execution_count": 301,
   "metadata": {},
   "outputs": [],
   "source": [
    "import numpy as np\n",
    "import pandas as pd\n",
    "import matplotlib.pyplot as plt\n",
    "import seaborn as sns\n",
    "%matplotlib inline"
   ]
  },
  {
   "cell_type": "code",
   "execution_count": 302,
   "metadata": {
    "colab": {},
    "colab_type": "code",
    "id": "JwkYGbemEZEY"
   },
   "outputs": [],
   "source": [
    "iris = datasets.load_iris()\n",
    "X = iris.data[:, 2:4]\n",
    "y = iris.target\n",
    "# iris.target_names"
   ]
  },
  {
   "cell_type": "code",
   "execution_count": 303,
   "metadata": {},
   "outputs": [],
   "source": [
    "df= pd.DataFrame(data= np.c_[iris['data'], iris['target']],\n",
    "                 columns= iris['feature_names'] + ['target'])\n",
    "\n",
    "df['species'] = pd.Categorical.from_codes(iris.target, iris.target_names)"
   ]
  },
  {
   "cell_type": "code",
   "execution_count": 304,
   "metadata": {},
   "outputs": [],
   "source": [
    "# df.head()\n",
    "# df['species'].unique()"
   ]
  },
  {
   "cell_type": "code",
   "execution_count": 305,
   "metadata": {},
   "outputs": [],
   "source": [
    "# df.groupby('species').size()"
   ]
  },
  {
   "cell_type": "markdown",
   "metadata": {
    "colab_type": "text",
    "id": "TYNZmHl6vAWn"
   },
   "source": [
    "5.1 Create two plots:\n",
    "\n",
    "1.   One using the sepal length (x-axis) and sepal width (y-axis),\n",
    "2.   One using the petal length (x-axis) and petal width (y-axis),\n",
    "\n"
   ]
  },
  {
   "cell_type": "code",
   "execution_count": 306,
   "metadata": {},
   "outputs": [],
   "source": [
    "setosa=df[df['species']=='setosa']\n",
    "versicolor =df[df['species']=='versicolor']\n",
    "virginica =df[df['species']=='virginica']"
   ]
  },
  {
   "cell_type": "code",
   "execution_count": 307,
   "metadata": {},
   "outputs": [],
   "source": [
    "# setosa.describe()\n",
    "# versicolor.describe()\n",
    "# virginica.describe()"
   ]
  },
  {
   "cell_type": "code",
   "execution_count": 399,
   "metadata": {},
   "outputs": [],
   "source": [
    "#Referred from -https://www.kaggle.com/abhishekkrg/python-iris-data-visualization-and-explanation\n",
    "#https://scikit-learn.org/stable/auto_examples/svm/plot_iris.html"
   ]
  },
  {
   "cell_type": "code",
   "execution_count": 308,
   "metadata": {},
   "outputs": [
    {
     "data": {
      "text/plain": [
       "<matplotlib.legend.Legend at 0x1af05cb8080>"
      ]
     },
     "execution_count": 308,
     "metadata": {},
     "output_type": "execute_result"
    },
    {
     "data": {
      "text/plain": [
       "<Figure size 432x288 with 0 Axes>"
      ]
     },
     "metadata": {},
     "output_type": "display_data"
    },
    {
     "data": {
      "image/png": "[encoded data removed]",
      "text/plain": [
       "<Figure size 1224x648 with 2 Axes>"
      ]
     },
     "metadata": {},
     "output_type": "display_data"
    }
   ],
   "source": [
    "#Plotting Petal Length vs Petal Width & Sepal Length vs Sepal width\n",
    "plt.figure()\n",
    "fig,ax=plt.subplots(1,2,figsize=(17, 9))\n",
    "df.plot(x='sepal length (cm)',y='sepal width (cm)',kind=\"scatter\",ax=ax[0],sharex=False,sharey=False,label=\"sepal\",color='r')\n",
    "df.plot(x='petal length (cm)',y='petal width (cm)',kind=\"scatter\",ax=ax[1],sharex=False,sharey=False,label=\"petal\",color='b')\n",
    "ax[0].set(title='Sepal plot ', ylabel='sepal-width')\n",
    "ax[1].set(title='Petal plot',  ylabel='petal-width')\n",
    "ax[0].legend()\n",
    "ax[1].legend()\n",
    "# plt.show()\n",
    "# plt.close()\n",
    "\n",
    "# we can see that  there are some petals which are smaller than rest of petal.\n",
    "#Let's examine them\n"
   ]
  },
  {
   "cell_type": "markdown",
   "metadata": {
    "colab_type": "text",
    "id": "7DcGRvjRG4UD"
   },
   "source": [
    "5.2 Create a SVM with the following kernels and train it using the sepal features:\n",
    "\n",
    "\n",
    "1.   SVC with linear kernel (use sklearn's svm.SVC with the kernel parameter 'linear'),\n",
    "2.   LinearSVC (use sklearn's svm.LinearSVC),\n",
    "3.   SVC with the RBF kernel,\n",
    "4.   SVC with a polynomial kernel of degree 3\n",
    "\n",
    "Plot the decision boundary for each of the four models. Hint: use matplotlib’s contourf and scatter functions. Be sure to label your axes."
   ]
  },
  {
   "cell_type": "code",
   "execution_count": 309,
   "metadata": {
    "colab": {},
    "colab_type": "code",
    "id": "v4z3oJkRG3t4"
   },
   "outputs": [],
   "source": [
    "# Code for problem 5.2 goes here\n",
    "#Referenced from - https://scikit-learn.org/stable/auto_examples/svm/plot_iris.html\n",
    "X = iris.data[:, :2]  # we only take the Sepal two features.\n",
    "y = iris.target\n",
    "C = 1.0 \n",
    "h = .02 \n",
    "# SVC with linear kernel\n",
    "svc = svm.SVC(kernel='linear', C=C).fit(X, y)\n",
    "\n",
    "# LinearSVC (linear kernel)\n",
    "lin_svc = svm.LinearSVC(C=C).fit(X, y)\n",
    "\n",
    "# SVC with RBF kernel\n",
    "rbf_svc = svm.SVC(kernel='rbf', gamma=0.7, C=C).fit(X, y)\n",
    "\n",
    "# SVC with polynomial (degree 3) kernel\n",
    "poly_svc = svm.SVC(kernel='poly', degree=3, C=C).fit(X, y)"
   ]
  },
  {
   "cell_type": "code",
   "execution_count": 310,
   "metadata": {},
   "outputs": [],
   "source": [
    "# create a mesh to plot in\n",
    "x_min, x_max = X[:, 0].min() - 1, X[:, 0].max() + 1\n",
    "y_min, y_max = X[:, 1].min() - 1, X[:, 1].max() + 1\n",
    "xx, yy = np.meshgrid(np.arange(x_min, x_max, h),\n",
    "                     np.arange(y_min, y_max, h))"
   ]
  },
  {
   "cell_type": "code",
   "execution_count": 311,
   "metadata": {},
   "outputs": [],
   "source": [
    "# title for the plots\n",
    "titles = ['SVC with linear kernel',\n",
    "          'LinearSVC (linear kernel)',\n",
    "          'SVC with RBF kernel',\n",
    "          'SVC with polynomial (degree 3) kernel']"
   ]
  },
  {
   "cell_type": "code",
   "execution_count": 312,
   "metadata": {},
   "outputs": [
    {
     "data": {
      "image/png": "[encoded data removed]",
      "text/plain": [
       "<Figure size 432x288 with 4 Axes>"
      ]
     },
     "metadata": {},
     "output_type": "display_data"
    }
   ],
   "source": [
    "for i, clf in enumerate((svc, lin_svc, rbf_svc, poly_svc)):\n",
    "    # Plot the decision boundary. For that, we will assign a color to each\n",
    "    # point in the mesh [x_min, m_max]x[y_min, y_max].\n",
    "    plt.subplot(2, 2, i + 1)\n",
    "    plt.subplots_adjust(wspace=0.4, hspace=0.4)\n",
    "\n",
    "    Z = clf.predict(np.c_[xx.ravel(), yy.ravel()])\n",
    "\n",
    "    # Put the result into a color plot\n",
    "    Z = Z.reshape(xx.shape)\n",
    "    plt.contourf(xx, yy, Z, cmap=plt.cm.Paired, alpha=0.8)\n",
    "\n",
    "    # Plot also the training points\n",
    "    plt.scatter(X[:, 0], X[:, 1], c=y, cmap=plt.cm.Paired)\n",
    "    plt.xlabel('Sepal length')\n",
    "    plt.ylabel('Sepal width')\n",
    "    plt.xlim(xx.min(), xx.max())\n",
    "    plt.ylim(yy.min(), yy.max())\n",
    "    plt.xticks(())\n",
    "    plt.yticks(())\n",
    "    plt.title(titles[i])\n",
    "\n",
    "plt.show()"
   ]
  },
  {
   "cell_type": "markdown",
   "metadata": {
    "colab_type": "text",
    "id": "Tmx9HOxlHF8p"
   },
   "source": [
    "5.3 Repeat 5.2 using the petal features."
   ]
  },
  {
   "cell_type": "code",
   "execution_count": 313,
   "metadata": {
    "colab": {},
    "colab_type": "code",
    "id": "n_P3zevjxMhl"
   },
   "outputs": [],
   "source": [
    "# Code for problem 5.3 goes here\n",
    "X = iris.data[:, 2:4]  # we only take the Sepal two features.\n",
    "y = iris.target\n",
    "C = 1.0 \n",
    "h = .02 \n",
    "# SVC with linear kernel\n",
    "svc = svm.SVC(kernel='linear', C=C).fit(X, y)\n",
    "\n",
    "# LinearSVC (linear kernel)\n",
    "lin_svc = svm.LinearSVC(C=C).fit(X, y)\n",
    "\n",
    "# SVC with RBF kernel\n",
    "rbf_svc = svm.SVC(kernel='rbf', gamma=0.7, C=C).fit(X, y)\n",
    "\n",
    "# SVC with polynomial (degree 3) kernel\n",
    "poly_svc = svm.SVC(kernel='poly', degree=3, C=C).fit(X, y)"
   ]
  },
  {
   "cell_type": "code",
   "execution_count": 314,
   "metadata": {},
   "outputs": [],
   "source": [
    "# create a mesh to plot in\n",
    "x_min, x_max = X[:, 0].min() - 1, X[:, 0].max() + 1\n",
    "y_min, y_max = X[:, 1].min() - 1, X[:, 1].max() + 1\n",
    "xx, yy = np.meshgrid(np.arange(x_min, x_max, h),\n",
    "                     np.arange(y_min, y_max, h))"
   ]
  },
  {
   "cell_type": "code",
   "execution_count": 315,
   "metadata": {},
   "outputs": [],
   "source": [
    "# title for the plots\n",
    "titles = ['SVC with linear kernel',\n",
    "          'LinearSVC (linear kernel)',\n",
    "          'SVC with RBF kernel',\n",
    "          'SVC with polynomial (degree 3) kernel']"
   ]
  },
  {
   "cell_type": "code",
   "execution_count": 316,
   "metadata": {},
   "outputs": [
    {
     "data": {
      "image/png": "[encoded data removed]",
      "text/plain": [
       "<Figure size 432x288 with 4 Axes>"
      ]
     },
     "metadata": {},
     "output_type": "display_data"
    }
   ],
   "source": [
    "for i, clf in enumerate((svc, lin_svc, rbf_svc, poly_svc)):\n",
    "    # Plot the decision boundary. For that, we will assign a color to each\n",
    "    # point in the mesh [x_min, m_max]x[y_min, y_max].\n",
    "    plt.subplot(2, 2, i + 1)\n",
    "    plt.subplots_adjust(wspace=0.4, hspace=0.4)\n",
    "\n",
    "    Z = clf.predict(np.c_[xx.ravel(), yy.ravel()])\n",
    "\n",
    "    # Put the result into a color plot\n",
    "    Z = Z.reshape(xx.shape)\n",
    "    plt.contourf(xx, yy, Z, cmap=plt.cm.Paired, alpha=0.8)\n",
    "\n",
    "    # Plot also the training points\n",
    "    plt.scatter(X[:, 0], X[:, 1], c=y, cmap=plt.cm.Paired)\n",
    "    plt.xlabel('Petal length')\n",
    "    plt.ylabel('Petal width')\n",
    "    plt.xlim(xx.min(), xx.max())\n",
    "    plt.ylim(yy.min(), yy.max())\n",
    "    plt.xticks(())\n",
    "    plt.yticks(())\n",
    "    plt.title(titles[i])\n",
    "\n",
    "plt.show()"
   ]
  }
 ],
 "metadata": {
  "colab": {
   "name": "P556-f18-a4.ipynb",
   "provenance": [],
   "version": "0.3.2"
  },
  "kernelspec": {
   "display_name": "Python 3",
   "language": "python",
   "name": "python3"
  },
  "language_info": {
   "codemirror_mode": {
    "name": "ipython",
    "version": 3
   },
   "file_extension": ".py",
   "mimetype": "text/x-python",
   "name": "python",
   "nbconvert_exporter": "python",
   "pygments_lexer": "ipython3",
   "version": "3.6.5"
  }
 },
 "nbformat": 4,
 "nbformat_minor": 1
}
