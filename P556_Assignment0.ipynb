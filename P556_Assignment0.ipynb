{
 "cells": [
  {
   "cell_type": "markdown",
   "metadata": {
    "colab_type": "text",
    "id": "P9jhkSLIJKOl"
   },
   "source": [
    "<center>\n",
    "  <h1> CSCI-P556 Applied Machine Learning</h1>\n",
    "  <h1> CSCI-P556</h1>\n",
    "  <h1> Assignment 0 </h1>\n",
    "</center>\n",
    "---\n",
    "\n",
    "\n",
    "\n"
   ]
  },
  {
   "cell_type": "markdown",
   "metadata": {
    "colab_type": "text",
    "id": "JYtDB9S1J0Wt"
   },
   "source": [
    "## Instructions\n",
    "1. Please read the questions carefully and give your responses in the correct positions.\n",
    "2. Do not change the contents of the notebook except when adding your reponses or where it is explicitly mentioned.\n",
    "3. Whenever you are asked to write a function and the argument names are mentioned in the question, you have to assume that while testing these arguments will be defined elsewhere in the notebook. \n",
    "3. You are allowed to define test arguments of the same name in the respective code block in order to test your functions.\n",
    "4. If you have been asked to print or plot something, you are supposed to print/plot it and not just provide a function.\n",
    "5. You should save your notebook along with the outputs and submit it\n",
    "\n"
   ]
  },
  {
   "cell_type": "code",
   "execution_count": 223,
   "metadata": {
    "colab": {},
    "colab_type": "code",
    "id": "UNM9lalxKEHe"
   },
   "outputs": [],
   "source": [
    "# For this assignment you'll need to import the following libraries:\n",
    "import numpy as np\n",
    "import pandas as pd\n",
    "import matplotlib.pyplot as plt\n",
    "from IPython.display import display, Math, Latex\n",
    "import timeit\n",
    "import random"
   ]
  },
  {
   "cell_type": "markdown",
   "metadata": {
    "colab_type": "text",
    "id": "zTxEzCY4KOHu"
   },
   "source": [
    "## Question 1 (5 points)\n",
    "\n",
    "Consider a 4x4 numpy array as shown\n",
    "$$\\begin{bmatrix}1 & 2 & 3 & 4\\\\5 & 6 & 7 & 8\\\\9 & 10 & 11 & 12\\\\13 & 14 & 15 & 16\\end{bmatrix}$$\n",
    "\n",
    "1. Create the above matrix with one line of code and name it $a$. Print the matrix.\n",
    "2. Write code to select its principal diagonal in another line. Store this diagonal in $d$. Print $d$\n",
    "3. Write code to select 4 elements in the center of the array (in this case, 6, 7, 10, 11) and store it in $c$. Print $c$.\n",
    "4. Replace the diagonal elements by their squares and print the new $a$.\n",
    "\n",
    "#### Restrictions: \n",
    "To make the problem interesting, you are **NOT** allowed to:\n",
    "- Create the matrix using `a = np.array([[1, 2, 3, 4], [5, 6, 7, 8], [9, 10, 11, 12], [13, 14, 15, 16]])`\n",
    "- Use the diagonal() method that is available in numpy"
   ]
  },
  {
   "cell_type": "code",
   "execution_count": 2,
   "metadata": {
    "colab": {},
    "colab_type": "code",
    "id": "SmNPL0dEKJ3e"
   },
   "outputs": [
    {
     "name": "stdout",
     "output_type": "stream",
     "text": [
      "a = [[1, 2, 3, 4], [5, 6, 7, 8], [9, 10, 11, 12], [13, 14, 15, 16]]\n",
      "d =  [1, 6, 11, 16]\n",
      "c =  [6, 7, 10, 11]\n",
      "a =  [[1, 2, 3, 4], [5, 36, 7, 8], [9, 10, 121, 12], [13, 14, 15, 256]]\n"
     ]
    }
   ],
   "source": [
    "### YOUR CODE FOR Q1 GOES HERE\n",
    "a = None\n",
    "n=4\n",
    "a=[list(range(1,n*n+1))[i:i+n] for i in range(0,len(list(range(1,n*n+1))),n)]\n",
    "print('a =', a)\n",
    "\n",
    "#2 Write code to select its principal diagonal in another line. Store this diagonal in  d . Print  d\n",
    "        \n",
    "d=[ a[i][j] for i in range(0,len(a)) for j in range(0,len(a)) if i==j ]\n",
    "print(\"d = \", d)\n",
    "\n",
    "#3 Write code to select 4 elements in the center of the array (in this case, 6, 7, 10, 11) and store it in c. Print c.\n",
    "c=[a[i+1][j+1] for i in range(0,n-2) for j in range(0,n-2)]\n",
    "print(\"c = \", c)\n",
    "\n",
    "\n",
    "#4 Replace the diagonal elements by their squares and print the new a .(one line only)\n",
    "for i in range(0,len(a)):\n",
    "    for j in range(0,len(a)):\n",
    "        if(i==j):\n",
    "            a[i][j]=a[i][j]*a[i][j]\n",
    "print(\"a = \", a)"
   ]
  },
  {
   "cell_type": "markdown",
   "metadata": {
    "colab_type": "text",
    "id": "gh3V-1mRQeBm"
   },
   "source": [
    "## Question 2 (3 points)\n",
    "\n",
    "Let us make the above question a bit more interesting. What if you didn't know the size of the array $a$. Let us assume it is $n \\times n$.\n",
    "1. Write code to print the diagonal elements of $a$.\n",
    "2. For any $k$, write code to print the elements which lie in the center $k \\times k$ region of the $a$.\n",
    "\n",
    "#### Note:\n",
    "- Same restrictions apply as above\n",
    "- You should assume that only the matrix $a$ and the integer $k$ have been defined elsewhere in the notebook are available to you. Your code will be tested on a number of test cases and should pass them all successfully\n"
   ]
  },
  {
   "cell_type": "code",
   "execution_count": 246,
   "metadata": {
    "colab": {},
    "colab_type": "code",
    "id": "4d2P-o5mKZG2"
   },
   "outputs": [
    {
     "name": "stdout",
     "output_type": "stream",
     "text": [
      "a= [[1, 2, 3, 4, 5], [6, 7, 8, 9, 10], [11, 12, 13, 14, 15], [16, 17, 18, 19, 20], [21, 22, 23, 24, 25]]\n",
      "d= [1, 7, 13, 19, 25]\n",
      "c= [7, 8, 9, 12, 13, 14, 17, 18, 19]\n"
     ]
    }
   ],
   "source": [
    "### YOUR CODE FOR Q2 GOES HERE\n",
    "#1 Write code to print the diagonal elements of  a.\n",
    "n=5\n",
    "k=3\n",
    "a=[list(range(1,n*n+1))[i:i+n] for i in range(0,len(list(range(1,n*n+1))),n)]\n",
    "print(\"a=\" , a)\n",
    "\n",
    "d=[ a[i][j] for i in range(n) for j in range(n) if i==j ]\n",
    "print(\"d=\", d)\n",
    "\n",
    "#2. For any k , write code to print the elements which lie in the center  k×kk×k  region of the a .\n",
    "a1=int((n-k)/2)\n",
    "c=[a[i][j] for i in range(a1,a1+k) for j in range(a1,a1+k)]\n",
    "print(\"c=\", c)\n"
   ]
  },
  {
   "cell_type": "markdown",
   "metadata": {
    "colab_type": "text",
    "id": "1vUKeUCMUl08"
   },
   "source": [
    "## Question 3 (6 points)\n",
    "\n",
    "In this question, we will look at the speedup that vectorization brings to the table. The dot product of two vectors $\\overline{a}=[a_1, a_2, \\ldots, a_n]$ and $\\overline{b}=[b_1, b_2, \\ldots, b_n]$  is defined as:\n",
    "$$ \\overline{a} \\cdot \\overline{b} = \\sum_{i=1}^n a_i b_i$$\n",
    "\n",
    "1. Write a function to calculate the dot product of two lists using `for` loops.\n",
    "2. Use numpy's functionality to do the same.\n",
    "3. Find out computation times for arrays of sizes (10,000, 20,0000, ..., 100,000) and plot the two sets of times in a line plot."
   ]
  },
  {
   "cell_type": "code",
   "execution_count": 213,
   "metadata": {
    "colab": {},
    "colab_type": "code",
    "id": "gyFm-preaCoM",
    "scrolled": true
   },
   "outputs": [
    {
     "data": {
      "image/png": "[encoded data removed]",
      "text/plain": [
       "<Figure size 432x288 with 1 Axes>"
      ]
     },
     "metadata": {},
     "output_type": "display_data"
    }
   ],
   "source": [
    "## Boilerplate code for Question 3\n",
    "import timeit\n",
    "gen = np.random.RandomState(seed=42)\n",
    "\n",
    "def time_function(f, *args):\n",
    "    \"\"\"\n",
    "  This is a simple utility function to measure the runtime \n",
    "  of a python function. It will return the result of the function\n",
    "  execution and the time taken to run that function. Any arguments \n",
    "  required by the function to run should be passed after the function name.\n",
    "  INPUT: function name, arg1, arg2, ...\n",
    "  OUTPUT: Output of the passed function, time taken to run it\n",
    "  \"\"\"   \n",
    "    start = timeit.default_timer()\n",
    "    ret = f(*args)\n",
    "    f(*args)\n",
    "    f(*args)\n",
    "    stop = timeit.default_timer()\n",
    "    return ret, (stop-start)/3\n",
    "\n",
    "def random_int_array(array_size):\n",
    "  # The low and high arguments below are used to specify the range of random\n",
    "  # values that will be used to generate the random integers.\n",
    "    return np.random.randint(low=0, high=1000000, size=array_size)\n",
    "\n",
    "def calculate_dot_product(a, b):\n",
    "    \"\"\"\n",
    "    INPUT: a and b are lists\n",
    "    OUTPUT: dot product\n",
    "    Complete this function\n",
    "  \"\"\"\n",
    "    P=sum(a[i]*b[i] for i in range(len(a)))\n",
    "    return P\n",
    "\n",
    "def numpy_dot_product(a,b):\n",
    "    product1 = np.dot(a,b)\n",
    "\n",
    "    return product1\n",
    "\n",
    "L1=[]\n",
    "L2=[]\n",
    "s=[]\n",
    "\n",
    "sizes = (10000 * i for i in range(1, 11))\n",
    "for size in sizes:\n",
    "    a = gen.rand(size)\n",
    "    b = gen.rand(size)\n",
    "    dp1 = time_function(calculate_dot_product,a,b)# Modify these two lines to calculate output and runtime using \n",
    "    dp2 = time_function(numpy_dot_product,a,b)# the above utility function\n",
    "    dp_1,time1=time_function(calculate_dot_product,a,b)\n",
    "    dp_2,time2=time_function(numpy_dot_product,a,b)\n",
    "    L1.append(round(time1,2))\n",
    "    L2.append(round(time2,2))\n",
    "    \n",
    "    s.append(size)\n",
    "#     assert(dp1 == dp2)\n",
    "  ### Write code to store the values\n",
    "  \n",
    " # Write code to plot the values\n",
    "    \n",
    "plt.plot(s,L1,label=\"dot product\")\n",
    "plt.plot(s,L2,label=\"numpy dot product\")\n",
    "plt.xlabel(\"size\")\n",
    "plt.ylabel(\"time\")\n",
    "plt.legend()\n",
    "plt.show()\n",
    "\n",
    "\n"
   ]
  },
  {
   "cell_type": "markdown",
   "metadata": {
    "colab_type": "text",
    "id": "xBdVl9BY3AdU"
   },
   "source": [
    "## Question 4 (4 points)\n",
    "\n",
    "We have provided code which loads an interesting dataset about breast cancer in a pandas dataframe variable called `data`. We also provide 5 samples of the dataset\n",
    "The breast cancer dataset is loaded into a dataframe called \"data\" and the \"labels\" are stored as a dataframe as well.  \n",
    "\n",
    "Please bear in mind that you cannot actually look at the entire dataset in the notebook since it has many columns. If you want to look at the entire dataframe/dataset, use data.to_csv() to write the data frame to a csv file. For the questions given, you don't actually need to look at the entire dataset. A sample of the data shown in the next block is enough.\n",
    "\n",
    "Write code to:\n",
    "\n",
    "1.  Get the total number of samples whose \"mean perimeter\" is greater than 130.\n",
    "2.  Group the \"worst area\" column based on the \"labels\" and get the maximum \"worst area\" for each group. In this case, there will be 2 groups since we have only 2 labels.\n",
    "3.  Get the column which has the minimum sum and subtract each value of that column by its mean. i.e., (column value - mean of the column)"
   ]
  },
  {
   "cell_type": "code",
   "execution_count": 7,
   "metadata": {
    "colab": {
     "base_uri": "https://localhost:8080/",
     "height": 267
    },
    "colab_type": "code",
    "id": "_ceJP6tPcWu_",
    "outputId": "6069e1c8-efc7-46aa-d106-24d0be25207b"
   },
   "outputs": [
    {
     "data": {
      "text/html": [
       "<div>\n",
       "<style scoped>\n",
       "    .dataframe tbody tr th:only-of-type {\n",
       "        vertical-align: middle;\n",
       "    }\n",
       "\n",
       "    .dataframe tbody tr th {\n",
       "        vertical-align: top;\n",
       "    }\n",
       "\n",
       "    .dataframe thead th {\n",
       "        text-align: right;\n",
       "    }\n",
       "</style>\n",
       "<table border=\"1\" class=\"dataframe\">\n",
       "  <thead>\n",
       "    <tr style=\"text-align: right;\">\n",
       "      <th></th>\n",
       "      <th>mean radius</th>\n",
       "      <th>mean texture</th>\n",
       "      <th>mean perimeter</th>\n",
       "      <th>mean area</th>\n",
       "      <th>mean smoothness</th>\n",
       "      <th>mean compactness</th>\n",
       "      <th>mean concavity</th>\n",
       "      <th>mean concave points</th>\n",
       "      <th>mean symmetry</th>\n",
       "      <th>mean fractal dimension</th>\n",
       "      <th>...</th>\n",
       "      <th>worst radius</th>\n",
       "      <th>worst texture</th>\n",
       "      <th>worst perimeter</th>\n",
       "      <th>worst area</th>\n",
       "      <th>worst smoothness</th>\n",
       "      <th>worst compactness</th>\n",
       "      <th>worst concavity</th>\n",
       "      <th>worst concave points</th>\n",
       "      <th>worst symmetry</th>\n",
       "      <th>worst fractal dimension</th>\n",
       "    </tr>\n",
       "  </thead>\n",
       "  <tbody>\n",
       "    <tr>\n",
       "      <th>0</th>\n",
       "      <td>17.99</td>\n",
       "      <td>10.38</td>\n",
       "      <td>122.80</td>\n",
       "      <td>1001.0</td>\n",
       "      <td>0.11840</td>\n",
       "      <td>0.27760</td>\n",
       "      <td>0.3001</td>\n",
       "      <td>0.14710</td>\n",
       "      <td>0.2419</td>\n",
       "      <td>0.07871</td>\n",
       "      <td>...</td>\n",
       "      <td>25.38</td>\n",
       "      <td>17.33</td>\n",
       "      <td>184.60</td>\n",
       "      <td>2019.0</td>\n",
       "      <td>0.1622</td>\n",
       "      <td>0.6656</td>\n",
       "      <td>0.7119</td>\n",
       "      <td>0.2654</td>\n",
       "      <td>0.4601</td>\n",
       "      <td>0.11890</td>\n",
       "    </tr>\n",
       "    <tr>\n",
       "      <th>1</th>\n",
       "      <td>20.57</td>\n",
       "      <td>17.77</td>\n",
       "      <td>132.90</td>\n",
       "      <td>1326.0</td>\n",
       "      <td>0.08474</td>\n",
       "      <td>0.07864</td>\n",
       "      <td>0.0869</td>\n",
       "      <td>0.07017</td>\n",
       "      <td>0.1812</td>\n",
       "      <td>0.05667</td>\n",
       "      <td>...</td>\n",
       "      <td>24.99</td>\n",
       "      <td>23.41</td>\n",
       "      <td>158.80</td>\n",
       "      <td>1956.0</td>\n",
       "      <td>0.1238</td>\n",
       "      <td>0.1866</td>\n",
       "      <td>0.2416</td>\n",
       "      <td>0.1860</td>\n",
       "      <td>0.2750</td>\n",
       "      <td>0.08902</td>\n",
       "    </tr>\n",
       "    <tr>\n",
       "      <th>2</th>\n",
       "      <td>19.69</td>\n",
       "      <td>21.25</td>\n",
       "      <td>130.00</td>\n",
       "      <td>1203.0</td>\n",
       "      <td>0.10960</td>\n",
       "      <td>0.15990</td>\n",
       "      <td>0.1974</td>\n",
       "      <td>0.12790</td>\n",
       "      <td>0.2069</td>\n",
       "      <td>0.05999</td>\n",
       "      <td>...</td>\n",
       "      <td>23.57</td>\n",
       "      <td>25.53</td>\n",
       "      <td>152.50</td>\n",
       "      <td>1709.0</td>\n",
       "      <td>0.1444</td>\n",
       "      <td>0.4245</td>\n",
       "      <td>0.4504</td>\n",
       "      <td>0.2430</td>\n",
       "      <td>0.3613</td>\n",
       "      <td>0.08758</td>\n",
       "    </tr>\n",
       "    <tr>\n",
       "      <th>3</th>\n",
       "      <td>11.42</td>\n",
       "      <td>20.38</td>\n",
       "      <td>77.58</td>\n",
       "      <td>386.1</td>\n",
       "      <td>0.14250</td>\n",
       "      <td>0.28390</td>\n",
       "      <td>0.2414</td>\n",
       "      <td>0.10520</td>\n",
       "      <td>0.2597</td>\n",
       "      <td>0.09744</td>\n",
       "      <td>...</td>\n",
       "      <td>14.91</td>\n",
       "      <td>26.50</td>\n",
       "      <td>98.87</td>\n",
       "      <td>567.7</td>\n",
       "      <td>0.2098</td>\n",
       "      <td>0.8663</td>\n",
       "      <td>0.6869</td>\n",
       "      <td>0.2575</td>\n",
       "      <td>0.6638</td>\n",
       "      <td>0.17300</td>\n",
       "    </tr>\n",
       "    <tr>\n",
       "      <th>4</th>\n",
       "      <td>20.29</td>\n",
       "      <td>14.34</td>\n",
       "      <td>135.10</td>\n",
       "      <td>1297.0</td>\n",
       "      <td>0.10030</td>\n",
       "      <td>0.13280</td>\n",
       "      <td>0.1980</td>\n",
       "      <td>0.10430</td>\n",
       "      <td>0.1809</td>\n",
       "      <td>0.05883</td>\n",
       "      <td>...</td>\n",
       "      <td>22.54</td>\n",
       "      <td>16.67</td>\n",
       "      <td>152.20</td>\n",
       "      <td>1575.0</td>\n",
       "      <td>0.1374</td>\n",
       "      <td>0.2050</td>\n",
       "      <td>0.4000</td>\n",
       "      <td>0.1625</td>\n",
       "      <td>0.2364</td>\n",
       "      <td>0.07678</td>\n",
       "    </tr>\n",
       "  </tbody>\n",
       "</table>\n",
       "<p>5 rows × 30 columns</p>\n",
       "</div>"
      ],
      "text/plain": [
       "   mean radius  mean texture  mean perimeter  mean area  mean smoothness  \\\n",
       "0        17.99         10.38          122.80     1001.0          0.11840   \n",
       "1        20.57         17.77          132.90     1326.0          0.08474   \n",
       "2        19.69         21.25          130.00     1203.0          0.10960   \n",
       "3        11.42         20.38           77.58      386.1          0.14250   \n",
       "4        20.29         14.34          135.10     1297.0          0.10030   \n",
       "\n",
       "   mean compactness  mean concavity  mean concave points  mean symmetry  \\\n",
       "0           0.27760          0.3001              0.14710         0.2419   \n",
       "1           0.07864          0.0869              0.07017         0.1812   \n",
       "2           0.15990          0.1974              0.12790         0.2069   \n",
       "3           0.28390          0.2414              0.10520         0.2597   \n",
       "4           0.13280          0.1980              0.10430         0.1809   \n",
       "\n",
       "   mean fractal dimension           ...             worst radius  \\\n",
       "0                 0.07871           ...                    25.38   \n",
       "1                 0.05667           ...                    24.99   \n",
       "2                 0.05999           ...                    23.57   \n",
       "3                 0.09744           ...                    14.91   \n",
       "4                 0.05883           ...                    22.54   \n",
       "\n",
       "   worst texture  worst perimeter  worst area  worst smoothness  \\\n",
       "0          17.33           184.60      2019.0            0.1622   \n",
       "1          23.41           158.80      1956.0            0.1238   \n",
       "2          25.53           152.50      1709.0            0.1444   \n",
       "3          26.50            98.87       567.7            0.2098   \n",
       "4          16.67           152.20      1575.0            0.1374   \n",
       "\n",
       "   worst compactness  worst concavity  worst concave points  worst symmetry  \\\n",
       "0             0.6656           0.7119                0.2654          0.4601   \n",
       "1             0.1866           0.2416                0.1860          0.2750   \n",
       "2             0.4245           0.4504                0.2430          0.3613   \n",
       "3             0.8663           0.6869                0.2575          0.6638   \n",
       "4             0.2050           0.4000                0.1625          0.2364   \n",
       "\n",
       "   worst fractal dimension  \n",
       "0                  0.11890  \n",
       "1                  0.08902  \n",
       "2                  0.08758  \n",
       "3                  0.17300  \n",
       "4                  0.07678  \n",
       "\n",
       "[5 rows x 30 columns]"
      ]
     },
     "execution_count": 7,
     "metadata": {},
     "output_type": "execute_result"
    }
   ],
   "source": [
    "#Starter code. Do not make changes to this code block.\n",
    "\n",
    "from sklearn.datasets import load_breast_cancer\n",
    "raw_data = load_breast_cancer()\n",
    "\n",
    "data = pd.DataFrame(raw_data[\"data\"], columns= raw_data[\"feature_names\"])\n",
    "labels = pd.DataFrame(raw_data[\"target\"], columns = [\"target\"])\n",
    "data.head()"
   ]
  },
  {
   "cell_type": "code",
   "execution_count": 16,
   "metadata": {
    "colab": {},
    "colab_type": "code",
    "id": "aI1QgmAx2man"
   },
   "outputs": [
    {
     "name": "stdout",
     "output_type": "stream",
     "text": [
      "51\n"
     ]
    }
   ],
   "source": [
    "# Code for Question 4.1\n",
    "from sklearn.datasets import load_breast_cancer\n",
    "raw_data = load_breast_cancer()\n",
    "\n",
    "data = pd.DataFrame(raw_data[\"data\"], columns= raw_data[\"feature_names\"])\n",
    "labels = pd.DataFrame(raw_data[\"target\"], columns = [\"target\"])\n",
    "d=data[data['mean perimeter']>130]\n",
    "print(len(d))\n",
    "\n"
   ]
  },
  {
   "cell_type": "code",
   "execution_count": 13,
   "metadata": {
    "colab": {},
    "colab_type": "code",
    "id": "lWAS-epe4DnR"
   },
   "outputs": [
    {
     "data": {
      "text/plain": [
       "level\n",
       "0    4254.0\n",
       "1    1210.0\n",
       "Name: worst area, dtype: float64"
      ]
     },
     "execution_count": 13,
     "metadata": {},
     "output_type": "execute_result"
    }
   ],
   "source": [
    "# Code for Question 4.2\n",
    "#Group the \"worst area\" column based on the \"labels\" and get the maximum \"worst area\" for each group.\n",
    "# #In this case, there will be 2 groups since we have only 2 labels.\n",
    "\n",
    "data['level'] = labels\n",
    "data.groupby(['level'])['worst area'].max()"
   ]
  },
  {
   "cell_type": "code",
   "execution_count": 17,
   "metadata": {
    "colab": {},
    "colab_type": "code",
    "id": "KggURDgi9vVl"
   },
   "outputs": [
    {
     "name": "stdout",
     "output_type": "stream",
     "text": [
      "0.0037949038664323383\n",
      "0      0.002398\n",
      "1     -0.000263\n",
      "2      0.000776\n",
      "3      0.005413\n",
      "4      0.001320\n",
      "5      0.001287\n",
      "6     -0.001616\n",
      "7      0.001617\n",
      "8     -0.000046\n",
      "9      0.006285\n",
      "10    -0.000753\n",
      "11     0.000349\n",
      "12     0.009045\n",
      "13    -0.000793\n",
      "14     0.004298\n",
      "15     0.001671\n",
      "16    -0.001710\n",
      "17     0.000347\n",
      "18    -0.001798\n",
      "19    -0.001495\n",
      "20    -0.001370\n",
      "21    -0.000827\n",
      "22     0.000599\n",
      "23    -0.001808\n",
      "24    -0.000994\n",
      "25     0.003649\n",
      "26    -0.000084\n",
      "27     0.000422\n",
      "28    -0.000828\n",
      "29    -0.000053\n",
      "         ...   \n",
      "539    0.003756\n",
      "540    0.001717\n",
      "541    0.002316\n",
      "542   -0.001169\n",
      "543   -0.002452\n",
      "544   -0.000196\n",
      "545   -0.001212\n",
      "546   -0.001189\n",
      "547    0.002095\n",
      "548    0.000359\n",
      "549   -0.000818\n",
      "550   -0.001567\n",
      "551    0.000928\n",
      "552   -0.002069\n",
      "553    0.000828\n",
      "554   -0.000994\n",
      "555    0.001143\n",
      "556   -0.001517\n",
      "557   -0.000471\n",
      "558    0.000611\n",
      "559    0.000943\n",
      "560    0.001509\n",
      "561   -0.002022\n",
      "562    0.002347\n",
      "563    0.002418\n",
      "564    0.000444\n",
      "565   -0.001297\n",
      "566    0.000097\n",
      "567    0.002390\n",
      "568   -0.001012\n",
      "Name: fractal dimension error, Length: 569, dtype: float64\n"
     ]
    }
   ],
   "source": [
    "# Code for Question 4.3\n",
    "d1=data.sum(axis=0).idxmin()\n",
    "d1\n",
    "min_col=data[\"fractal dimension error\"]\n",
    "mean=min_col.mean()\n",
    "print(mean)\n",
    "print (min_col-mean)\n"
   ]
  },
  {
   "cell_type": "markdown",
   "metadata": {
    "colab_type": "text",
    "id": "kiYPu2_sMrrh"
   },
   "source": [
    "## Question 5 (7 points)\n",
    "\n",
    "### Part A\n",
    "\n",
    "Write a function which takes three inputs and produces a plot using matplotlib. The first two inputs are lists. Each list contains a certain number of tuples. Each tuple in turn contains the $x$ and $y$ co-ordinates of a point. The third input is a stand-alone tuple containing the co-efficients $(a, b, c)$ of a line represented by $ax + by + c = 0$.\n",
    "\n",
    "The function should plot the first set of points with a red '+' and the second set of points with a blue 'o'. The function should also plot the line in green color. Give a suitable legend and name the axes. If the final tuple isn't provided, the function should gracefully avoid printing the line instead of throwing an error. Feel feel to modify the function definition accordingly.\n"
   ]
  },
  {
   "cell_type": "code",
   "execution_count": 283,
   "metadata": {
    "colab": {},
    "colab_type": "code",
    "id": "p_QBjYa-MrOq"
   },
   "outputs": [
    {
     "data": {
      "image/png": "[encoded data removed]",
      "text/plain": [
       "<Figure size 432x288 with 1 Axes>"
      ]
     },
     "metadata": {},
     "output_type": "display_data"
    }
   ],
   "source": [
    "def plotLineAndPoints(l1, l2,*c):\n",
    "  ### Your code goes here\n",
    "    \n",
    "    \n",
    "    x_points=[x for [x,y] in l1]\n",
    "    y_points=[y for [x,y] in l1]\n",
    "    plt.scatter(x_points,y_points, marker='+', color='r',label=\"points1\")\n",
    "    \n",
    "    \n",
    "    x_pt=[x for [x,y] in l2]\n",
    "    y_pt=[y for [x,y] in l2]\n",
    "    plt.scatter(x_pt, y_pt, marker='o', color='b',label=\"points2\")\n",
    "    \n",
    "    \n",
    "    plt.xlabel(\"x-axis\")\n",
    "    plt.ylabel(\"y-axis\")\n",
    "    \n",
    "        \n",
    "    if(c):\n",
    "        #for the line equation-\n",
    "        xpoints=(random.sample(range(0, 10),10))\n",
    "        #     print(xpoints)\n",
    "        ypoints=[]\n",
    "    \n",
    "        for each in xpoints:\n",
    "            y=-1*(c[0][0]*(each)+c[0][2])/c[0][1]\n",
    "            ypoints.append(y)\n",
    "            \n",
    "   \n",
    "        plt.plot(xpoints, ypoints,color=\"g\",label=\"line\")\n",
    "    plt.legend()\n",
    "    plt.show()\n",
    "    \n",
    "    \n",
    "\n",
    "## Sample Test Cases (We will have many more)\n",
    "plotLineAndPoints([(1, 2), (2, 3)], [(3, 4), (4, 5)],(1,2,2))"
   ]
  },
  {
   "cell_type": "markdown",
   "metadata": {
    "colab_type": "text",
    "id": "xI3oSb5LScm7"
   },
   "source": [
    "### Part B"
   ]
  },
  {
   "cell_type": "markdown",
   "metadata": {
    "colab_type": "text",
    "id": "61TPqs_JTL2-"
   },
   "source": [
    "Euclidean distance between two points is defined as by equation (1) on this [Wikipedia page](https://en.wikipedia.org/wiki/Euclidean_distance).\n",
    "\n",
    "  1. Your first task is to write down that code using Markdown math in this cell. It should contain both lines of equation (1)\n",
    "<!-- Write equation here -->\n",
    "\n",
    "  2. Given a point $(x_1,y_1)$ and a radius $r_1$, randomly generate 10 points which lie within the given radius of the given point. The radius is calculated using Euclidean distance. Store them in list $l_1$.\n",
    "  3. Generate another list $l_2$ for a new point $(x_2, y_2)$ and radius $r_2$\n",
    "  4. Use the function written in part A to plot the above sets of points."
   ]
  },
  {
   "cell_type": "markdown",
   "metadata": {},
   "source": [
    "$$\n",
    "d (\\mathbf{p},\\mathbf{q}) = d (\\mathbf{q},\\mathbf{p}) = \\sqrt{(q_1-p_1)^2 + (q_2-p_2)^2 + ... + (q_n-p_n)^2 }  \\\\\n",
    "=\\sqrt{\\sum_{i=1}^n (q_i-p_i)^2.}\n",
    "$$"
   ]
  },
  {
   "cell_type": "code",
   "execution_count": 285,
   "metadata": {
    "colab": {},
    "colab_type": "code",
    "id": "5bNLsyriTKQd"
   },
   "outputs": [
    {
     "data": {
      "image/png": "[encoded data removed]",
      "text/plain": [
       "<Figure size 432x288 with 1 Axes>"
      ]
     },
     "metadata": {},
     "output_type": "display_data"
    }
   ],
   "source": [
    "x1, y1 = 0, 0\n",
    "r1 = 10\n",
    "x2, y2 = 25, 25\n",
    "r2 = 15\n",
    "## YOUR CODE GOES HERE\n",
    "\n",
    "l1=[]\n",
    "l2=[]\n",
    "def generate_sample(): \n",
    "    x=np.random.randint(1,100)\n",
    "    y=np.random.randint(1,100)\n",
    "    return x,y\n",
    "\n",
    "def distance(x,y,r):\n",
    "    plots=[]\n",
    "    xpoints,ypoints=generate_sample()\n",
    "    if ((xpoints-x)**2 + (ypoints-y)**2<=r*r):\n",
    "        plots.append((xpoints,ypoints))\n",
    "        return xpoints,ypoints\n",
    "    else:\n",
    "        return None,None\n",
    "\n",
    "while len(l1)<=10:\n",
    "    a,b=distance(x1,y1,r1)\n",
    "    if a!= None and b!=None:\n",
    "        l1.append((a,b))\n",
    "\n",
    "while len(l2)<=10:\n",
    "        a,b=distance(x2,y2,r2)\n",
    "        if b!=None and b!=None:\n",
    "            l2.append((a,b))\n",
    "\n",
    "    \n",
    "plotLineAndPoints(l1, l2)\n",
    "\n",
    "    \n",
    "\n"
   ]
  },
  {
   "cell_type": "code",
   "execution_count": null,
   "metadata": {},
   "outputs": [],
   "source": []
  },
  {
   "cell_type": "code",
   "execution_count": 0,
   "metadata": {
    "colab": {},
    "colab_type": "code",
    "id": "Fb6XnZM4ulEN"
   },
   "outputs": [],
   "source": []
  }
 ],
 "metadata": {
  "colab": {
   "collapsed_sections": [],
   "name": "P556-Assignment0",
   "provenance": [],
   "version": "0.3.2"
  },
  "kernelspec": {
   "display_name": "Python 3",
   "language": "python",
   "name": "python3"
  },
  "language_info": {
   "codemirror_mode": {
    "name": "ipython",
    "version": 3
   },
   "file_extension": ".py",
   "mimetype": "text/x-python",
   "name": "python",
   "nbconvert_exporter": "python",
   "pygments_lexer": "ipython3",
   "version": "3.6.5"
  }
 },
 "nbformat": 4,
 "nbformat_minor": 1
}
