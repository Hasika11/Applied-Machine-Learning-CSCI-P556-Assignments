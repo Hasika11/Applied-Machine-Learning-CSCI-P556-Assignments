{
 "cells": [
  {
   "cell_type": "markdown",
   "metadata": {
    "colab_type": "text",
    "id": "R--G1S4LFVR9"
   },
   "source": [
    "<center>\n",
    "#CSCI-P556: Applied Machine Learning\n",
    "#Fall 2018\n",
    "#Assignment #2\n",
    "</center>\n",
    "---\n",
    "\n"
   ]
  },
  {
   "cell_type": "markdown",
   "metadata": {
    "colab_type": "text",
    "id": "Ooye3d-VGooZ"
   },
   "source": [
    "## Problem 1 (50 points)\n",
    "\n",
    "In this problem you will be working with Bank Marketing Dataset. We encourage your to look at the description and make yourself comfortable with it: https://archive.ics.uci.edu/ml/datasets/bank+marketing\n",
    "\n",
    "Two pairs of training and validation sets have been drawn from this dataset for you to work with, namely: \n",
    " -  `train_1.csv` and `valid_1.csv`\n",
    " -  `train_2.csv`and `valid_2.csv`\n",
    " \n",
    "Finally, we have also provided a `test.csv` which is common for both settings.\n",
    "\n",
    "### Task 0: (3 points)\n",
    "\n",
    "What is the difference between the two sets of train/validation sets? Write your answer here:\n",
    "\n",
    "### Ans: <!-- Your answers goes here -->\n",
    "The difference between the two sets of train/validation sets is that there is imbalanced data in the target variable y in train and valid data sets. There is variation in total number of \"yes\" and \"no\" in train and valid datasets.\n",
    "The dataset for train_2 is more than train_1\n"
   ]
  },
  {
   "cell_type": "markdown",
   "metadata": {
    "colab_type": "text",
    "id": "MFKZT4mhJlSK"
   },
   "source": [
    "### Task 1 (Data Preprocessing) (12 points)\n",
    "\n",
    "Before you can train a machine learning model using this dataset, you will have to run a number of preprocessing steps to transform the data into a form which will be acceptable to the model. In this task, you are supposed to carry out the follow steps:\n",
    "\n",
    "1.  Find all features that have continuous numeric values and normalize them in the same way as you did in Assignment 1. List those features here.\n",
    "2. Find all categorical features and process them as was discussed in class. List those features and explain what you did.\n",
    "3. Are there any features which have missing values? (Hint: Missing values aren't always nicely represented and can be misleading sometimes). Find those features and explain how you will handle them.\n",
    "\n"
   ]
  },
  {
   "cell_type": "markdown",
   "metadata": {
    "colab_type": "text",
    "id": "uLoZ67_hPo9I"
   },
   "source": [
    "Write your text-based answers here.\n",
    "\n",
    "\n",
    "1.All the features that have continuous numerica values can be calculated using d_type function that includes data type - \"number\" .Those features are listed in the cell below.\n",
    "Numerical - ['age', 'balance', 'day', 'duration', 'campaign', 'pdays', 'previous'].\n",
    "\n",
    "2.All the features that have continuous numerica values can be calculated using d_type function that excludes data type - \"number\" .Those features are listed in the cell below.\n",
    "['job', 'marital', 'education', 'default', 'housing', 'loan', 'contact','month', 'poutcome', 'y']\n",
    "\n",
    "3.The features that have missing values are - \n",
    "1.\"pdays\" - this feature has -1 values which is misleading and not correct as number of days cannot be negative. These have been handled by replacing -1 values by the mean of that column\n",
    "2.There are various features which have \"UNKNOWN\" values . These have been handled by treating them as a separate category which can be done by one hot encoding.\n",
    "\n"
   ]
  },
  {
   "cell_type": "markdown",
   "metadata": {},
   "source": [
    "Importing Libraries"
   ]
  },
  {
   "cell_type": "code",
   "execution_count": 409,
   "metadata": {},
   "outputs": [],
   "source": [
    "import sys\n",
    "import numpy as np\n",
    "import pandas as pd\n",
    "import matplotlib.pyplot as plt\n",
    "from IPython.display import display, Math, Latex\n",
    "import timeit\n",
    "import random\n",
    "from numpy.linalg import inv\n",
    "from sklearn.datasets import load_boston\n",
    "from statsmodels.regression.linear_model import OLS\n",
    "from sklearn.linear_model import LogisticRegression\n",
    "from sklearn.cross_validation import train_test_split\n",
    "from sklearn.linear_model import LogisticRegression"
   ]
  },
  {
   "cell_type": "code",
   "execution_count": 410,
   "metadata": {
    "colab": {},
    "colab_type": "code",
    "id": "-kxn7ZjCJpJ2"
   },
   "outputs": [
    {
     "name": "stdout",
     "output_type": "stream",
     "text": [
      "Numerical Features = Index(['age', 'balance', 'day', 'duration', 'campaign', 'pdays', 'previous'], dtype='object')\n",
      "Categorical Features = Index(['job', 'marital', 'education', 'default', 'housing', 'loan', 'contact',\n",
      "       'month', 'poutcome', 'y'],\n",
      "      dtype='object')\n"
     ]
    }
   ],
   "source": [
    "# PROBLEM 1, TASK 1 CODE GOES HERE\n",
    "train1 = pd.read_csv(\"train_1.csv\") \n",
    "train2 = pd.read_csv(\"train_2.csv\")\n",
    "valid1 = pd.read_csv(\"valid_1.csv\")\n",
    "valid2 = pd.read_csv(\"valid_2.csv\")\n",
    "test1=pd.read_csv(\"test.csv\")\n",
    "\n",
    "# print(train1.dtypes)\n",
    "#numeric columns\n",
    "\n",
    "# cols1 = train1.columns\n",
    "num_cols1 = train1.select_dtypes(include=['number'])\n",
    "num_cols2 = train2.select_dtypes(include=['number'])\n",
    "num_cols3 = valid1.select_dtypes(include=['number'])\n",
    "num_cols4 = valid2.select_dtypes(include=['number'])\n",
    "print(\"Numerical Features =\",num_cols1.columns)\n",
    "\n",
    "#categorical \n",
    "cat1=train1.select_dtypes(exclude=['int64']).columns\n",
    "cat2=train2.select_dtypes(exclude=['int64']).columns\n",
    "cat3=valid1.select_dtypes(exclude=['int64']).columns\n",
    "cat4=valid2.select_dtypes(exclude=['int64']).columns\n",
    "print(\"Categorical Features =\",cat1)\n",
    "# print(cat2)\n",
    "# print(cat3)\n",
    "# print(cat4)\n"
   ]
  },
  {
   "cell_type": "markdown",
   "metadata": {},
   "source": [
    "This function is used for feature normalization"
   ]
  },
  {
   "cell_type": "code",
   "execution_count": 380,
   "metadata": {},
   "outputs": [],
   "source": [
    "#Normalizing train1.csv numerical features\n",
    "def feature_normalization(X):\n",
    "    df=pd.DataFrame(data=X)\n",
    "    mu=df.mean()\n",
    "    sigma=df.std(axis=0)\n",
    "    X_norm = (df-mu)/sigma\n",
    "    return X_norm"
   ]
  },
  {
   "cell_type": "code",
   "execution_count": 381,
   "metadata": {},
   "outputs": [],
   "source": [
    "def get_data(data):\n",
    "    # Handling missing values - ( pdays has some -1 values)\n",
    "    findL = -1\n",
    "    replaceL = data[\"pdays\"].mean()\n",
    "    col = \"pdays\"\n",
    "    data[col] = data[col].replace(findL, replaceL)\n",
    "    t1=data.select_dtypes(include=['number'])\n",
    "#     print(t1)\n",
    "    for i in t1:\n",
    "        data[i]=feature_normalization(data[i])\n",
    "        \n",
    "    cat=[]\n",
    "    c1=data.select_dtypes(exclude=[\"number\"])\n",
    "    for i in c1:\n",
    "        cat.append(i)\n",
    "    data=pd.get_dummies(data,columns=cat)\n",
    "    data=data.drop([\"y_no\"],axis=1)\n",
    "    return(data)"
   ]
  },
  {
   "cell_type": "markdown",
   "metadata": {
    "colab_type": "text",
    "id": "5EaChdKLJjio"
   },
   "source": [
    "### Task 2 (Model $\\mathcal{A}$) (10 points)\n",
    "\n",
    "Train a logistic regression model with $L_2$ regularization on `train_1.csv` after applying the necessary preprocessing steps of Task 1. Use the validation set `valid_1.csv` to choose the best regularization coefficient $\\lambda$. Plot a curve with regularization coefficient in the X axis and the validation accuracy on the Y axis."
   ]
  },
  {
   "cell_type": "code",
   "execution_count": 382,
   "metadata": {},
   "outputs": [],
   "source": [
    "train1=get_data(train1) \n",
    "valid1=get_data(valid1)\n",
    "test1=get_data(test1)"
   ]
  },
  {
   "cell_type": "code",
   "execution_count": 383,
   "metadata": {},
   "outputs": [
    {
     "name": "stdout",
     "output_type": "stream",
     "text": [
      "maximum_accuracy_ModelA 0.7611412141988279\n"
     ]
    },
    {
     "data": {
      "image/png": "[encoded data removed]",
      "text/plain": [
       "<Figure size 432x288 with 1 Axes>"
      ]
     },
     "metadata": {},
     "output_type": "display_data"
    }
   ],
   "source": [
    "# X=train1.drop\n",
    "X = train1.drop([\"y_yes\"],axis=1)\n",
    "y = train1[\"y_yes\"]\n",
    "\n",
    "X1 = valid1.drop([\"y_yes\"],axis=1)\n",
    "y1 = valid1[\"y_yes\"]\n",
    "\n",
    "X_test1= test1.drop([\"y_yes\"],axis=1)\n",
    "y_test1= test1[\"y_yes\"]\n",
    "\n",
    "lambdas=[]\n",
    "scores=[]\n",
    "scores_test1=[]\n",
    "c=0.01\n",
    "for i in range(50):\n",
    "    lambdas.append(1/c)\n",
    "    logisticRegr = LogisticRegression(C=c)\n",
    "    logisticRegr.fit(X,y)\n",
    "    scores.append(logisticRegr.score(X1,y1))\n",
    "    scores_test1.append(logisticRegr.score(X_test1,y_test1))\n",
    "    c=c+0.07\n",
    "# print(scores)\n",
    " \n",
    "plt.figure()\n",
    "plt.plot(lambdas,scores)\n",
    "plt.xlabel('Regularization Coefficient')\n",
    "plt.ylabel('Validation Accuracy')\n",
    "plt.title(\"MODEL A\")\n",
    "\n",
    "print(\"maximum_accuracy_ModelA\",max(scores_test1))\n",
    "# print(valid1.shape)\n",
    "# print(train1.shape)\n",
    "#max(score)\n",
    "#max(regularization coeff)"
   ]
  },
  {
   "cell_type": "markdown",
   "metadata": {
    "colab_type": "text",
    "id": "c0UEYv92KnvQ"
   },
   "source": [
    "### Task 3 (Model $\\mathcal{B}$) (5 points)\n",
    "Train a logistic regression model with $L_2$ regularization on `train_2.csv` after applying the necessary preprocessing steps of Task 1. Use the validation set `valid_2.csv` to choose the best regularization coefficient $\\lambda$. Plot a curve with regularization coefficient in the X axis and the validation accuracy on the Y axis."
   ]
  },
  {
   "cell_type": "code",
   "execution_count": 384,
   "metadata": {
    "colab": {},
    "colab_type": "code",
    "id": "izeiBcCTLcM4"
   },
   "outputs": [
    {
     "name": "stdout",
     "output_type": "stream",
     "text": [
      "maximum_accuracy_ModelB 0.9018024991706293\n"
     ]
    },
    {
     "data": {
      "text/plain": [
       "Text(0.5,1,'MODEL B')"
      ]
     },
     "execution_count": 384,
     "metadata": {},
     "output_type": "execute_result"
    },
    {
     "data": {
      "image/png": "[encoded data removed]",
      "text/plain": [
       "<Figure size 432x288 with 1 Axes>"
      ]
     },
     "metadata": {},
     "output_type": "display_data"
    }
   ],
   "source": [
    "# PROBLEM 1, TASK 3 CODE GOES HERE\n",
    "train2=get_data(train2) \n",
    "valid2=get_data(valid2)\n",
    "\n",
    "X = train2.drop([\"y_yes\"],axis=1)\n",
    "y = train2[\"y_yes\"]\n",
    "\n",
    "X1 = valid2.drop([\"y_yes\"],axis=1)\n",
    "y1 = valid2[\"y_yes\"]\n",
    "\n",
    "\n",
    "# X_test2= test1.drop([\"y_yes\"],axis=1)\n",
    "# y_test2= test1[\"y_yes\"]\n",
    "\n",
    "# train2\n",
    "lambdas=[]\n",
    "scores=[]\n",
    "scores_test2=[]\n",
    "c=0.01\n",
    "for i in range(50):\n",
    "    lambdas.append(1/c)\n",
    "    logisticRegr = LogisticRegression(C=c)\n",
    "    logisticRegr.fit(X,y)\n",
    "    scores.append(logisticRegr.score(X1,y1))\n",
    "    scores_test2.append(logisticRegr.score(X_test1,y_test1))\n",
    "    c=c+0.07\n",
    "# print(scores)\n",
    "\n",
    "print(\"maximum_accuracy_ModelB\",max(scores_test2))\n",
    "plt.figure()\n",
    "plt.plot(lambdas,scores)\n",
    "plt.xlabel('Regularization Coefficient')\n",
    "plt.ylabel('Validation Accuracy')\n",
    "plt.title(\"MODEL B\")\n"
   ]
  },
  {
   "cell_type": "markdown",
   "metadata": {
    "colab_type": "text",
    "id": "8KzsVhHPLd3P"
   },
   "source": [
    "### Task 4 (Model $\\mathcal{C}$) (10 points)\n",
    "\n",
    "As you have seen in class, due to the specific (and smart) choice of the loss function, a logistic regression classifier happens to predict the posterioir probability $p(y|\\mathbf{x})$ for any given sample. It then classifies the samples with $p(y|\\mathbf{x}) > 0.5$ as belonging to class $1$ and the rest as belonging to class $0$. Instead, for a fixed threshold of $0.5$, let us consider a dynamic threshold of $\\theta$ which can be chosen after a model has been trained.\n",
    "\n",
    "$$\n",
    "\\ y=\n",
    "\\begin{cases}\n",
    "1 \\text{ if } p(y|\\mathbf{x}) \\geq \\theta \\\\\n",
    "\\\\\n",
    "0 \\text{ if } p(y|\\mathbf{x}) < \\theta \\\\\n",
    "\\end{cases}\n",
    "$$\n",
    "\n",
    "for $0 \\leq \\theta \\leq 1$.\n",
    "\n",
    "Train a logistic regression model with $L_2$ regularization on `train_2.csv` after applying the necessary preprocessing steps of Task 1. Use the validation set `valid_2.csv` to choose the best combination of regularization coefficient $\\lambda$ and the threshold $\\theta$. The best coefficients has to be selected by you after trying out at least five, non-consecutive values. Visualize all these runs.\n",
    "\n",
    "**Hint**: Look at the documentation of Logistic Regression in sci-kit learn to come up with a plan to implement this."
   ]
  },
  {
   "cell_type": "code",
   "execution_count": 402,
   "metadata": {
    "colab": {},
    "colab_type": "code",
    "id": "zJRVTjjrSTRm"
   },
   "outputs": [
    {
     "name": "stdout",
     "output_type": "stream",
     "text": [
      "ModelC_Maximum_Accuracy: 0.9018024991706293\n",
      "ModelC_Maximum_Accuracy: 0.9018024991706293\n",
      "ModelC_Maximum_Accuracy: 0.9018024991706293\n",
      "ModelC_Maximum_Accuracy: 0.9018024991706293\n",
      "ModelC_Maximum_Accuracy: 0.9018024991706293\n",
      "ModelC_Maximum_Accuracy: 0.9018024991706293\n"
     ]
    },
    {
     "data": {
      "text/html": [
       "<div>\n",
       "<style scoped>\n",
       "    .dataframe tbody tr th:only-of-type {\n",
       "        vertical-align: middle;\n",
       "    }\n",
       "\n",
       "    .dataframe tbody tr th {\n",
       "        vertical-align: top;\n",
       "    }\n",
       "\n",
       "    .dataframe thead th {\n",
       "        text-align: right;\n",
       "    }\n",
       "</style>\n",
       "<table border=\"1\" class=\"dataframe\">\n",
       "  <thead>\n",
       "    <tr style=\"text-align: right;\">\n",
       "      <th></th>\n",
       "      <th>lambdas</th>\n",
       "      <th>thetas</th>\n",
       "      <th>accuracy</th>\n",
       "    </tr>\n",
       "  </thead>\n",
       "  <tbody>\n",
       "    <tr>\n",
       "      <th>0</th>\n",
       "      <td>0.2849</td>\n",
       "      <td>0.02</td>\n",
       "      <td>[0.8871993364666851, 0.8871993364666851, 0.887...</td>\n",
       "    </tr>\n",
       "    <tr>\n",
       "      <th>1</th>\n",
       "      <td>0.2849</td>\n",
       "      <td>0.50</td>\n",
       "      <td>[0.8871993364666851, 0.8871993364666851, 0.887...</td>\n",
       "    </tr>\n",
       "    <tr>\n",
       "      <th>2</th>\n",
       "      <td>0.2849</td>\n",
       "      <td>0.70</td>\n",
       "      <td>[0.8871993364666851, 0.8871993364666851, 0.887...</td>\n",
       "    </tr>\n",
       "    <tr>\n",
       "      <th>3</th>\n",
       "      <td>0.2849</td>\n",
       "      <td>2.00</td>\n",
       "      <td>[0.8871993364666851, 0.8871993364666851, 0.887...</td>\n",
       "    </tr>\n",
       "    <tr>\n",
       "      <th>4</th>\n",
       "      <td>0.2849</td>\n",
       "      <td>0.90</td>\n",
       "      <td>[0.8871993364666851, 0.8871993364666851, 0.887...</td>\n",
       "    </tr>\n",
       "    <tr>\n",
       "      <th>5</th>\n",
       "      <td>0.2849</td>\n",
       "      <td>0.02</td>\n",
       "      <td>[0.8871993364666851, 0.8871993364666851, 0.887...</td>\n",
       "    </tr>\n",
       "    <tr>\n",
       "      <th>6</th>\n",
       "      <td>0.2849</td>\n",
       "      <td>0.50</td>\n",
       "      <td>[0.8871993364666851, 0.8871993364666851, 0.887...</td>\n",
       "    </tr>\n",
       "    <tr>\n",
       "      <th>7</th>\n",
       "      <td>0.2849</td>\n",
       "      <td>0.70</td>\n",
       "      <td>[0.8871993364666851, 0.8871993364666851, 0.887...</td>\n",
       "    </tr>\n",
       "    <tr>\n",
       "      <th>8</th>\n",
       "      <td>0.2849</td>\n",
       "      <td>2.00</td>\n",
       "      <td>[0.8871993364666851, 0.8871993364666851, 0.887...</td>\n",
       "    </tr>\n",
       "    <tr>\n",
       "      <th>9</th>\n",
       "      <td>0.2849</td>\n",
       "      <td>0.90</td>\n",
       "      <td>[0.8871993364666851, 0.8871993364666851, 0.887...</td>\n",
       "    </tr>\n",
       "    <tr>\n",
       "      <th>10</th>\n",
       "      <td>0.2849</td>\n",
       "      <td>0.02</td>\n",
       "      <td>[0.8871993364666851, 0.8871993364666851, 0.887...</td>\n",
       "    </tr>\n",
       "    <tr>\n",
       "      <th>11</th>\n",
       "      <td>0.2849</td>\n",
       "      <td>0.50</td>\n",
       "      <td>[0.8871993364666851, 0.8871993364666851, 0.887...</td>\n",
       "    </tr>\n",
       "    <tr>\n",
       "      <th>12</th>\n",
       "      <td>0.2849</td>\n",
       "      <td>0.70</td>\n",
       "      <td>[0.8871993364666851, 0.8871993364666851, 0.887...</td>\n",
       "    </tr>\n",
       "    <tr>\n",
       "      <th>13</th>\n",
       "      <td>0.2849</td>\n",
       "      <td>2.00</td>\n",
       "      <td>[0.8871993364666851, 0.8871993364666851, 0.887...</td>\n",
       "    </tr>\n",
       "    <tr>\n",
       "      <th>14</th>\n",
       "      <td>0.2849</td>\n",
       "      <td>0.90</td>\n",
       "      <td>[0.8871993364666851, 0.8871993364666851, 0.887...</td>\n",
       "    </tr>\n",
       "    <tr>\n",
       "      <th>15</th>\n",
       "      <td>0.2849</td>\n",
       "      <td>0.02</td>\n",
       "      <td>[0.8871993364666851, 0.8871993364666851, 0.887...</td>\n",
       "    </tr>\n",
       "    <tr>\n",
       "      <th>16</th>\n",
       "      <td>0.2849</td>\n",
       "      <td>0.50</td>\n",
       "      <td>[0.8871993364666851, 0.8871993364666851, 0.887...</td>\n",
       "    </tr>\n",
       "    <tr>\n",
       "      <th>17</th>\n",
       "      <td>0.2849</td>\n",
       "      <td>0.70</td>\n",
       "      <td>[0.8871993364666851, 0.8871993364666851, 0.887...</td>\n",
       "    </tr>\n",
       "    <tr>\n",
       "      <th>18</th>\n",
       "      <td>0.2849</td>\n",
       "      <td>2.00</td>\n",
       "      <td>[0.8871993364666851, 0.8871993364666851, 0.887...</td>\n",
       "    </tr>\n",
       "    <tr>\n",
       "      <th>19</th>\n",
       "      <td>0.2849</td>\n",
       "      <td>0.90</td>\n",
       "      <td>[0.8871993364666851, 0.8871993364666851, 0.887...</td>\n",
       "    </tr>\n",
       "    <tr>\n",
       "      <th>20</th>\n",
       "      <td>0.2849</td>\n",
       "      <td>0.02</td>\n",
       "      <td>[0.8871993364666851, 0.8871993364666851, 0.887...</td>\n",
       "    </tr>\n",
       "    <tr>\n",
       "      <th>21</th>\n",
       "      <td>0.2849</td>\n",
       "      <td>0.50</td>\n",
       "      <td>[0.8871993364666851, 0.8871993364666851, 0.887...</td>\n",
       "    </tr>\n",
       "    <tr>\n",
       "      <th>22</th>\n",
       "      <td>0.2849</td>\n",
       "      <td>0.70</td>\n",
       "      <td>[0.8871993364666851, 0.8871993364666851, 0.887...</td>\n",
       "    </tr>\n",
       "    <tr>\n",
       "      <th>23</th>\n",
       "      <td>0.2849</td>\n",
       "      <td>2.00</td>\n",
       "      <td>[0.8871993364666851, 0.8871993364666851, 0.887...</td>\n",
       "    </tr>\n",
       "    <tr>\n",
       "      <th>24</th>\n",
       "      <td>0.2849</td>\n",
       "      <td>0.90</td>\n",
       "      <td>[0.8871993364666851, 0.8871993364666851, 0.887...</td>\n",
       "    </tr>\n",
       "    <tr>\n",
       "      <th>25</th>\n",
       "      <td>0.2849</td>\n",
       "      <td>0.02</td>\n",
       "      <td>[0.8871993364666851, 0.8871993364666851, 0.887...</td>\n",
       "    </tr>\n",
       "    <tr>\n",
       "      <th>26</th>\n",
       "      <td>0.2849</td>\n",
       "      <td>0.50</td>\n",
       "      <td>[0.8871993364666851, 0.8871993364666851, 0.887...</td>\n",
       "    </tr>\n",
       "    <tr>\n",
       "      <th>27</th>\n",
       "      <td>0.2849</td>\n",
       "      <td>0.70</td>\n",
       "      <td>[0.8871993364666851, 0.8871993364666851, 0.887...</td>\n",
       "    </tr>\n",
       "    <tr>\n",
       "      <th>28</th>\n",
       "      <td>0.2849</td>\n",
       "      <td>2.00</td>\n",
       "      <td>[0.8871993364666851, 0.8871993364666851, 0.887...</td>\n",
       "    </tr>\n",
       "    <tr>\n",
       "      <th>29</th>\n",
       "      <td>0.2849</td>\n",
       "      <td>0.90</td>\n",
       "      <td>[0.8871993364666851, 0.8871993364666851, 0.887...</td>\n",
       "    </tr>\n",
       "  </tbody>\n",
       "</table>\n",
       "</div>"
      ],
      "text/plain": [
       "    lambdas  thetas                                           accuracy\n",
       "0    0.2849    0.02  [0.8871993364666851, 0.8871993364666851, 0.887...\n",
       "1    0.2849    0.50  [0.8871993364666851, 0.8871993364666851, 0.887...\n",
       "2    0.2849    0.70  [0.8871993364666851, 0.8871993364666851, 0.887...\n",
       "3    0.2849    2.00  [0.8871993364666851, 0.8871993364666851, 0.887...\n",
       "4    0.2849    0.90  [0.8871993364666851, 0.8871993364666851, 0.887...\n",
       "5    0.2849    0.02  [0.8871993364666851, 0.8871993364666851, 0.887...\n",
       "6    0.2849    0.50  [0.8871993364666851, 0.8871993364666851, 0.887...\n",
       "7    0.2849    0.70  [0.8871993364666851, 0.8871993364666851, 0.887...\n",
       "8    0.2849    2.00  [0.8871993364666851, 0.8871993364666851, 0.887...\n",
       "9    0.2849    0.90  [0.8871993364666851, 0.8871993364666851, 0.887...\n",
       "10   0.2849    0.02  [0.8871993364666851, 0.8871993364666851, 0.887...\n",
       "11   0.2849    0.50  [0.8871993364666851, 0.8871993364666851, 0.887...\n",
       "12   0.2849    0.70  [0.8871993364666851, 0.8871993364666851, 0.887...\n",
       "13   0.2849    2.00  [0.8871993364666851, 0.8871993364666851, 0.887...\n",
       "14   0.2849    0.90  [0.8871993364666851, 0.8871993364666851, 0.887...\n",
       "15   0.2849    0.02  [0.8871993364666851, 0.8871993364666851, 0.887...\n",
       "16   0.2849    0.50  [0.8871993364666851, 0.8871993364666851, 0.887...\n",
       "17   0.2849    0.70  [0.8871993364666851, 0.8871993364666851, 0.887...\n",
       "18   0.2849    2.00  [0.8871993364666851, 0.8871993364666851, 0.887...\n",
       "19   0.2849    0.90  [0.8871993364666851, 0.8871993364666851, 0.887...\n",
       "20   0.2849    0.02  [0.8871993364666851, 0.8871993364666851, 0.887...\n",
       "21   0.2849    0.50  [0.8871993364666851, 0.8871993364666851, 0.887...\n",
       "22   0.2849    0.70  [0.8871993364666851, 0.8871993364666851, 0.887...\n",
       "23   0.2849    2.00  [0.8871993364666851, 0.8871993364666851, 0.887...\n",
       "24   0.2849    0.90  [0.8871993364666851, 0.8871993364666851, 0.887...\n",
       "25   0.2849    0.02  [0.8871993364666851, 0.8871993364666851, 0.887...\n",
       "26   0.2849    0.50  [0.8871993364666851, 0.8871993364666851, 0.887...\n",
       "27   0.2849    0.70  [0.8871993364666851, 0.8871993364666851, 0.887...\n",
       "28   0.2849    2.00  [0.8871993364666851, 0.8871993364666851, 0.887...\n",
       "29   0.2849    0.90  [0.8871993364666851, 0.8871993364666851, 0.887..."
      ]
     },
     "execution_count": 402,
     "metadata": {},
     "output_type": "execute_result"
    }
   ],
   "source": [
    "# PROBLEM 1, TASK 4 CODE GOES HERE\n",
    "#both training and validation\n",
    "#point at which validation acc becomes maximum\n",
    "import sklearn.linear_model\n",
    "from sklearn.metrics import accuracy_score\n",
    "\n",
    "X = train2.drop([\"y_yes\"],axis=1)\n",
    "y = train2[\"y_yes\"]\n",
    "X1 = valid2.drop([\"y_yes\"],axis=1)\n",
    "y1 = valid2[\"y_yes\"]\n",
    "\n",
    "lambdas=[1/0.1,1/0.2,1/0.3,1/0.4,1/0.5,1/0.6]\n",
    "thetas=[0.02,0.5,0.7,2,0.9]\n",
    "\n",
    "\n",
    "result = {\"lambdas\":[],\"thetas\":[],\"accuracy\":[]}\n",
    "accuracy={}\n",
    "# test_accuracy={}\n",
    "for i in lambdas:\n",
    "    modelC = LogisticRegression(C = i)\n",
    "    modelC.fit(X,y)\n",
    "    scores=modelC.score(X1,y1)\n",
    "    test_score=modelC.score(X_test1,y_test1)\n",
    "#     test_score= np.arange(4).reshape((2,2))\n",
    "#     print(test_score)\n",
    "    test_score1=np.max(test_score)\n",
    "    ModelC_test=np.asarray(test_score1)\n",
    "    print(\"ModelC_Maximum_Accuracy:\",np.ndarray.max(ModelC_test))\n",
    "    \n",
    "          \n",
    "    \n",
    "    for each in thetas:\n",
    "        y_predict = np.where(modelC.predict_proba(X1)[:,1]>= each, 1, 0)\n",
    "#         accuracy[(i,each)] = accuracy_score(y1,y_predict)\n",
    "\n",
    "    for each in thetas: \n",
    "        if each not in accuracy:\n",
    "            accuracy[each]=[]\n",
    "        accuracy[each].append(accuracy_score(y1,y_predict))\n",
    "#         if each not in test_accuracy:\n",
    "#             test_accuracy[each]=[]\n",
    "#         test_accuracy[each].append(accuracy_score(y_test1,y_predict))\n",
    "#     print(\"Accuracy\",accuracy)\n",
    "            \n",
    "    for each in accuracy:\n",
    "        if accuracy[each] == max(accuracy.values()):\n",
    "            result[\"lambdas\"].append(1/c)\n",
    "            result[\"thetas\"].append(each)\n",
    "            result[\"accuracy\"].append(max(accuracy.values()))\n",
    "#             result[\"test_accuracy\"].append(max(test_accuracy.values()))\n",
    "            \n",
    "    \n",
    "# print(\"maximum_accuracy_ModelC\",max(test_score))\n",
    "result = pd.DataFrame(result)\n",
    "result\n",
    "    "
   ]
  },
  {
   "cell_type": "markdown",
   "metadata": {
    "colab_type": "text",
    "id": "cTa2tMCPQmCV"
   },
   "source": [
    "### Task 5 (Report and Conclusion) (10 points)\n",
    "\n",
    "1.  Give a detailed report on the performance (that is, accuracy) of Models $\\mathcal{A}$, $\\mathcal{B}$ and $\\mathcal{C}$ on the respective training sets, the validation sets and finally the test. Explain any intuition you might have on what might be happening in each of the cases. Please avoid writing unnecessary details which are not pertinent.\n",
    "2.  Do you think accuracy, the metric which you have used to find the best hyperparameter in all the above tasks, a good metric in this scenario? Explain your choice.\n",
    "\n"
   ]
  },
  {
   "cell_type": "markdown",
   "metadata": {},
   "source": [
    "1.Since, the test data is more than the train data, it takes more time to calculate accuracy for test data set.\n",
    "The data for model A calculated above (76%) is less than the accuracy of B(90%) and C (90%). The data for model B and C is large and hence , we get more accuracy for them because Model B and C is able to correctly label due to this reason, as compared to model A. \n",
    "\n",
    "2.Accuracy is a good metric to find the hyperparameters is good , as we are able to identify which model is able to lable the data and how much of the data is being labeled correctly"
   ]
  },
  {
   "cell_type": "markdown",
   "metadata": {
    "colab_type": "text",
    "id": "3b62zDpk-O8v"
   },
   "source": [
    "## Problem 2 (50 points)\n",
    "\n",
    "Consider a regression problem in which the input variable $x$ has only one feature and the target variable $y$ is generated from the input variable $x$ by a polynomial $f(x)$. The function $f$ is such that $$f(x) = \\sum_{i=0}^d w_ix^i$$ Please note that a given polynomial function can be completely described by the vector of coefficients $\\mathbf{w}$.\n",
    "\n",
    "### Task 1 (5 points)\n",
    "\n",
    "Write a function in python which can take the degree of polynomial function as input. The code to generate vector coefficeints $\\mathbf{w}$ using this input is already provided. Plot the resulting function for $x \\in (-low, high)$. The function should be plot "
   ]
  },
  {
   "cell_type": "code",
   "execution_count": 414,
   "metadata": {
    "colab": {},
    "colab_type": "code",
    "id": "ivzCo28P_SFW"
   },
   "outputs": [
    {
     "data": {
      "image/png": "[encoded data removed]",
      "text/plain": [
       "<Figure size 432x288 with 1 Axes>"
      ]
     },
     "metadata": {},
     "output_type": "display_data"
    },
    {
     "data": {
      "image/png": "[encoded data removed]",
      "text/plain": [
       "<Figure size 432x288 with 1 Axes>"
      ]
     },
     "metadata": {},
     "output_type": "display_data"
    },
    {
     "data": {
      "image/png": "[encoded data removed]",
      "text/plain": [
       "<Figure size 432x288 with 1 Axes>"
      ]
     },
     "metadata": {},
     "output_type": "display_data"
    }
   ],
   "source": [
    "import numpy as np\n",
    "from scipy.special import legendre\n",
    "\n",
    "def get_coefficients(degree):\n",
    "    \"\"\"\n",
    "    The coefficients returned are in the order w_0, w_1, ... , w_{degree}\n",
    "    \"\"\"\n",
    "    return legendre(degree).coefficients[::-1]\n",
    "\n",
    "def visualize_function(degree, low, high):\n",
    "    w = get_coefficients(degree)\n",
    "    x = np.linspace(low,high,100) \n",
    "    y=[]     \n",
    "    for i in x:\n",
    "        vect=[]\n",
    "        for j in range(degree+1):\n",
    "            vect.append(i**j)\n",
    "        y.append(np.dot(w,np.transpose(vect)))\n",
    "    plt.figure()\n",
    "    plt.plot(x,y)\n",
    "    plt.xlabel('training points x')\n",
    "    plt.ylabel('resultant points y')\n",
    "\n",
    "## TEST CASES (The following lines should plot a function)\n",
    "visualize_function(3, -1, 1)\n",
    "visualize_function(4, -1, 1)\n",
    "visualize_function(6, -1, 1)\n",
    "\n",
    "\n"
   ]
  },
  {
   "cell_type": "markdown",
   "metadata": {
    "colab_type": "text",
    "id": "z8Mm1YGNBH5u"
   },
   "source": [
    "### Task 2 (5 points)\n",
    "\n",
    "Write a function in python that randomly generates a dataset (training data + test data). The function should take the degree of target polynomial as input along with the number of points that should be generated for both the training and the test sets. The polynomial will be represented by the vector of coefficients. The code to calculate these coefficients has been provided. The function should also add random normal noise to the target -- i.e. the noise should be drawn from a normal distribution with mean $\\mu=0$ and standard deviation = $\\sigma^2$. Thus: \n",
    "$$y=\\sum_{i=0}^d w_ix^i + \\mathcal{N}(0, \\sigma^2)$$\n",
    "\n"
   ]
  },
  {
   "cell_type": "code",
   "execution_count": 415,
   "metadata": {
    "colab": {},
    "colab_type": "code",
    "id": "ZZ1zxLPvCyDt"
   },
   "outputs": [],
   "source": [
    "def generate_dataset(degree, n_train, n_test, sigma):\n",
    "    \"\"\"\n",
    "    - n_train - Number of training samples - x  values\n",
    "    - n_test - Number of test samples - x values\n",
    "    - X_train is an array of size (n_train $\\times$ 1)\n",
    "    - y_train is an array of size (n_train $\\times$ 1)\n",
    "    - X_test is an array of size (n_test $\\times$ 1)\n",
    "    - y_test is an array of size (n_test $\\times$ 1)\n",
    "   \"\"\"\n",
    "    w = get_coefficients(degree)\n",
    "    X_train=np.linspace(-1,1,n_train)\n",
    "    X_test=np.linspace(-1,1,n_test)\n",
    "    y_train=[]\n",
    "    y_test=[]\n",
    "    w = get_coefficients(degree) \n",
    "    noise = np.random.normal(0,sigma)\n",
    "    for i in X_train:\n",
    "        vect=[]\n",
    "        for j in range(degree+1):\n",
    "            vect.append(i**j)\n",
    "        y_train.append(np.dot(w,np.transpose(vect))+np.random.normal(0,sigma))\n",
    "        \n",
    "    for i in X_test:\n",
    "        vect=[]\n",
    "        for j in range(degree+1):\n",
    "            vect.append(i**j)\n",
    "        y_test.append(np.dot(w,np.transpose(vect))+np.random.normal(0,sigma))\n",
    "    \n",
    "  \n",
    "    return X_train, y_train, X_test, y_test\n"
   ]
  },
  {
   "cell_type": "markdown",
   "metadata": {
    "colab_type": "text",
    "id": "et9gTUzy_Sn9"
   },
   "source": [
    "### Task 3 (20 points)\n",
    "\n",
    "1.   Use the function written in Task 2 to generate a dataset of degree $10$, with $20$ samples each in the training and test sets. The standard deviation of the noise should be $0.2$.\n",
    "2.   Plot the generated points of the train set over the function. Make use the function you wrote in Task 1 to do so. The resultant plot should not only contain the function in blue color but also the generated points in the train set in red color.\n",
    "3.   Fit two linear regressions models: $\\mathcal{A}$ and $\\mathcal{B}$ on the given training data. Model $\\mathcal{A}$ should be quadratic and Model $\\mathcal{B}$ should be of degree $10$. How would you create such models?\n",
    "4. Calculate the training error and testing error on both these models and report them nicely in a table.\n",
    "5. Explain the results:\n",
    " - Are the results as expected or surprising? Explain your stance.\n",
    " - Give a detailed explanation of why this happens.\n",
    " \n",
    " **Hint**: You are free (in fact encouraged) to design new experiments under the same paradigm to understand what is happening. You can buttress your explanation with any plots which you might generate from such new experiments.\n",
    "\n",
    " \n",
    "Note: _There is no preference over the size of the answer but please note that you shouldn't write anything that is not pertinent. While being terse, your answer should clearly convey the intuition. Also, use logical number code/text cells---i.e. every subquestion in a given task which can be considered a logical unit should be present in one cell. Do not make one cell unnecessarily long by putting multiple answers in it or split a given answer over multiple cells. Use your best judgement."
   ]
  },
  {
   "cell_type": "markdown",
   "metadata": {},
   "source": [
    "Importing Libraries"
   ]
  },
  {
   "cell_type": "code",
   "execution_count": 416,
   "metadata": {
    "scrolled": true
   },
   "outputs": [],
   "source": [
    "from sklearn.preprocessing import PolynomialFeatures\n",
    "from sklearn import linear_model\n",
    "from sklearn import metrics"
   ]
  },
  {
   "cell_type": "markdown",
   "metadata": {},
   "source": [
    "Step 1 - Generating Dataset"
   ]
  },
  {
   "cell_type": "code",
   "execution_count": 417,
   "metadata": {},
   "outputs": [],
   "source": [
    "X_train, y_train, X_test, y_test = generate_dataset(10, 20, 20, 0.2)\n",
    "dataset=generate_dataset(10, 20, 20, 0.2)\n",
    "y_train=np.asarray(y_train)\n",
    "y_test=np.asarray(y_test)"
   ]
  },
  {
   "cell_type": "markdown",
   "metadata": {},
   "source": [
    "Step 2 - Plotting the generated points by calling visualize function"
   ]
  },
  {
   "cell_type": "code",
   "execution_count": 418,
   "metadata": {},
   "outputs": [
    {
     "data": {
      "text/plain": [
       "Text(0.5,1,'Plot with 10 degree polynomial')"
      ]
     },
     "execution_count": 418,
     "metadata": {},
     "output_type": "execute_result"
    },
    {
     "data": {
      "image/png": "[encoded data removed]",
      "text/plain": [
       "<Figure size 432x288 with 1 Axes>"
      ]
     },
     "metadata": {},
     "output_type": "display_data"
    }
   ],
   "source": [
    "visualize_function(10,-1,1)\n",
    "plt.plot(X_train,y_train,\"ro\")\n",
    "plt.title(\"Plot with 10 degree polynomial\")"
   ]
  },
  {
   "cell_type": "markdown",
   "metadata": {},
   "source": [
    "Step 3 -  \n",
    "Building the model A with degree 2 and Model B with degree 10"
   ]
  },
  {
   "cell_type": "code",
   "execution_count": 419,
   "metadata": {},
   "outputs": [],
   "source": [
    "#Model A with Quadratic degree \n",
    "modelA=PolynomialFeatures(degree=2) \n",
    "linear_modelA= linear_model.LinearRegression()\n",
    "\n",
    "X_points=modelA.fit_transform(X_train.reshape(-1,1))\n",
    "\n",
    "linear_modelA.fit(X_points,y_train)\n",
    "\n",
    "X_pred=modelA.fit_transform(X_train.reshape(-1,1))\n",
    "y_pred_train=linear_modelA.predict(X_pred)\n",
    "\n",
    "\n",
    "Y_points=modelA.fit_transform(X_test.reshape(-1,1))\n",
    "\n",
    "linear_modelA.fit(Y_points,y_test)\n",
    "\n",
    "z_pred=modelA.fit_transform(X_test.reshape(-1,1))\n",
    "y_pred_test=linear_modelA.predict(z_pred)\n",
    "\n",
    "#Model B with Quadratic degree \n",
    "\n",
    "modelB=PolynomialFeatures(degree=10) \n",
    "linear_modelB= linear_model.LinearRegression()\n",
    "\n",
    "X_points1=modelB.fit_transform(X_train.reshape(-1,1))\n",
    "\n",
    "linear_modelB.fit(X_points1,y_train)\n",
    "\n",
    "X_pred1=modelB.fit_transform(X_train.reshape(-1,1))\n",
    "y_pred_train1=linear_modelB.predict(X_pred1)\n",
    "\n",
    "\n",
    "Y_points1=modelB.fit_transform(X_test.reshape(-1,1))\n",
    "\n",
    "linear_modelB.fit(Y_points1,y_test)\n",
    "\n",
    "z_pred1=modelB.fit_transform(X_test.reshape(-1,1))\n",
    "y_pred_test1=linear_modelB.predict(z_pred1)"
   ]
  },
  {
   "cell_type": "markdown",
   "metadata": {},
   "source": [
    "Step 4 - \n",
    "Calculating Training and test accuracies and representing it in the form of table below."
   ]
  },
  {
   "cell_type": "code",
   "execution_count": 425,
   "metadata": {},
   "outputs": [
    {
     "ename": "KeyError",
     "evalue": "'Model'",
     "output_type": "error",
     "traceback": [
      "\u001b[1;31m---------------------------------------------------------------------------\u001b[0m",
      "\u001b[1;31mKeyError\u001b[0m                                  Traceback (most recent call last)",
      "\u001b[1;32m~\\Anaconda3\\lib\\site-packages\\pandas\\core\\indexes\\base.py\u001b[0m in \u001b[0;36mget_loc\u001b[1;34m(self, key, method, tolerance)\u001b[0m\n\u001b[0;32m   3062\u001b[0m             \u001b[1;32mtry\u001b[0m\u001b[1;33m:\u001b[0m\u001b[1;33m\u001b[0m\u001b[0m\n\u001b[1;32m-> 3063\u001b[1;33m                 \u001b[1;32mreturn\u001b[0m \u001b[0mself\u001b[0m\u001b[1;33m.\u001b[0m\u001b[0m_engine\u001b[0m\u001b[1;33m.\u001b[0m\u001b[0mget_loc\u001b[0m\u001b[1;33m(\u001b[0m\u001b[0mkey\u001b[0m\u001b[1;33m)\u001b[0m\u001b[1;33m\u001b[0m\u001b[0m\n\u001b[0m\u001b[0;32m   3064\u001b[0m             \u001b[1;32mexcept\u001b[0m \u001b[0mKeyError\u001b[0m\u001b[1;33m:\u001b[0m\u001b[1;33m\u001b[0m\u001b[0m\n",
      "\u001b[1;32mpandas\\_libs\\index.pyx\u001b[0m in \u001b[0;36mpandas._libs.index.IndexEngine.get_loc\u001b[1;34m()\u001b[0m\n",
      "\u001b[1;32mpandas\\_libs\\index.pyx\u001b[0m in \u001b[0;36mpandas._libs.index.IndexEngine.get_loc\u001b[1;34m()\u001b[0m\n",
      "\u001b[1;32mpandas\\_libs\\hashtable_class_helper.pxi\u001b[0m in \u001b[0;36mpandas._libs.hashtable.PyObjectHashTable.get_item\u001b[1;34m()\u001b[0m\n",
      "\u001b[1;32mpandas\\_libs\\hashtable_class_helper.pxi\u001b[0m in \u001b[0;36mpandas._libs.hashtable.PyObjectHashTable.get_item\u001b[1;34m()\u001b[0m\n",
      "\u001b[1;31mKeyError\u001b[0m: 'Model'",
      "\nDuring handling of the above exception, another exception occurred:\n",
      "\u001b[1;31mKeyError\u001b[0m                                  Traceback (most recent call last)",
      "\u001b[1;32m<ipython-input-425-61ab1752eacc>\u001b[0m in \u001b[0;36m<module>\u001b[1;34m()\u001b[0m\n\u001b[0;32m     11\u001b[0m \u001b[0mTable\u001b[0m\u001b[1;33m=\u001b[0m\u001b[1;33m{\u001b[0m\u001b[1;34m\"Training\"\u001b[0m\u001b[1;33m:\u001b[0m\u001b[1;33m[\u001b[0m\u001b[0mA_Train\u001b[0m\u001b[1;33m,\u001b[0m\u001b[0mB_Train\u001b[0m\u001b[1;33m]\u001b[0m\u001b[1;33m,\u001b[0m\u001b[1;34m\"Test\"\u001b[0m\u001b[1;33m:\u001b[0m\u001b[1;33m[\u001b[0m\u001b[0mA_Test\u001b[0m\u001b[1;33m,\u001b[0m\u001b[0mB_Test\u001b[0m\u001b[1;33m]\u001b[0m\u001b[1;33m}\u001b[0m\u001b[1;33m\u001b[0m\u001b[0m\n\u001b[0;32m     12\u001b[0m \u001b[0mTable_df\u001b[0m \u001b[1;33m=\u001b[0m \u001b[0mpd\u001b[0m\u001b[1;33m.\u001b[0m\u001b[0mDataFrame\u001b[0m\u001b[1;33m(\u001b[0m\u001b[0mTable\u001b[0m\u001b[1;33m)\u001b[0m\u001b[1;33m\u001b[0m\u001b[0m\n\u001b[1;32m---> 13\u001b[1;33m \u001b[0mTable_df\u001b[0m\u001b[1;33m.\u001b[0m\u001b[0mset_index\u001b[0m\u001b[1;33m(\u001b[0m\u001b[1;33m[\u001b[0m\u001b[1;33m[\u001b[0m\u001b[1;34m'ModelA'\u001b[0m\u001b[1;33m,\u001b[0m\u001b[1;34m'ModelB'\u001b[0m\u001b[1;33m]\u001b[0m\u001b[1;33m,\u001b[0m \u001b[1;34m'Model'\u001b[0m\u001b[1;33m]\u001b[0m\u001b[1;33m)\u001b[0m\u001b[1;33m\u001b[0m\u001b[0m\n\u001b[0m\u001b[0;32m     14\u001b[0m \u001b[0mprint\u001b[0m\u001b[1;33m(\u001b[0m\u001b[0mTable_df\u001b[0m\u001b[1;33m)\u001b[0m\u001b[1;33m\u001b[0m\u001b[0m\n",
      "\u001b[1;32m~\\Anaconda3\\lib\\site-packages\\pandas\\core\\frame.py\u001b[0m in \u001b[0;36mset_index\u001b[1;34m(self, keys, drop, append, inplace, verify_integrity)\u001b[0m\n\u001b[0;32m   3904\u001b[0m                 \u001b[0mnames\u001b[0m\u001b[1;33m.\u001b[0m\u001b[0mappend\u001b[0m\u001b[1;33m(\u001b[0m\u001b[1;32mNone\u001b[0m\u001b[1;33m)\u001b[0m\u001b[1;33m\u001b[0m\u001b[0m\n\u001b[0;32m   3905\u001b[0m             \u001b[1;32melse\u001b[0m\u001b[1;33m:\u001b[0m\u001b[1;33m\u001b[0m\u001b[0m\n\u001b[1;32m-> 3906\u001b[1;33m                 \u001b[0mlevel\u001b[0m \u001b[1;33m=\u001b[0m \u001b[0mframe\u001b[0m\u001b[1;33m[\u001b[0m\u001b[0mcol\u001b[0m\u001b[1;33m]\u001b[0m\u001b[1;33m.\u001b[0m\u001b[0m_values\u001b[0m\u001b[1;33m\u001b[0m\u001b[0m\n\u001b[0m\u001b[0;32m   3907\u001b[0m                 \u001b[0mnames\u001b[0m\u001b[1;33m.\u001b[0m\u001b[0mappend\u001b[0m\u001b[1;33m(\u001b[0m\u001b[0mcol\u001b[0m\u001b[1;33m)\u001b[0m\u001b[1;33m\u001b[0m\u001b[0m\n\u001b[0;32m   3908\u001b[0m                 \u001b[1;32mif\u001b[0m \u001b[0mdrop\u001b[0m\u001b[1;33m:\u001b[0m\u001b[1;33m\u001b[0m\u001b[0m\n",
      "\u001b[1;32m~\\Anaconda3\\lib\\site-packages\\pandas\\core\\frame.py\u001b[0m in \u001b[0;36m__getitem__\u001b[1;34m(self, key)\u001b[0m\n\u001b[0;32m   2683\u001b[0m             \u001b[1;32mreturn\u001b[0m \u001b[0mself\u001b[0m\u001b[1;33m.\u001b[0m\u001b[0m_getitem_multilevel\u001b[0m\u001b[1;33m(\u001b[0m\u001b[0mkey\u001b[0m\u001b[1;33m)\u001b[0m\u001b[1;33m\u001b[0m\u001b[0m\n\u001b[0;32m   2684\u001b[0m         \u001b[1;32melse\u001b[0m\u001b[1;33m:\u001b[0m\u001b[1;33m\u001b[0m\u001b[0m\n\u001b[1;32m-> 2685\u001b[1;33m             \u001b[1;32mreturn\u001b[0m \u001b[0mself\u001b[0m\u001b[1;33m.\u001b[0m\u001b[0m_getitem_column\u001b[0m\u001b[1;33m(\u001b[0m\u001b[0mkey\u001b[0m\u001b[1;33m)\u001b[0m\u001b[1;33m\u001b[0m\u001b[0m\n\u001b[0m\u001b[0;32m   2686\u001b[0m \u001b[1;33m\u001b[0m\u001b[0m\n\u001b[0;32m   2687\u001b[0m     \u001b[1;32mdef\u001b[0m \u001b[0m_getitem_column\u001b[0m\u001b[1;33m(\u001b[0m\u001b[0mself\u001b[0m\u001b[1;33m,\u001b[0m \u001b[0mkey\u001b[0m\u001b[1;33m)\u001b[0m\u001b[1;33m:\u001b[0m\u001b[1;33m\u001b[0m\u001b[0m\n",
      "\u001b[1;32m~\\Anaconda3\\lib\\site-packages\\pandas\\core\\frame.py\u001b[0m in \u001b[0;36m_getitem_column\u001b[1;34m(self, key)\u001b[0m\n\u001b[0;32m   2690\u001b[0m         \u001b[1;31m# get column\u001b[0m\u001b[1;33m\u001b[0m\u001b[1;33m\u001b[0m\u001b[0m\n\u001b[0;32m   2691\u001b[0m         \u001b[1;32mif\u001b[0m \u001b[0mself\u001b[0m\u001b[1;33m.\u001b[0m\u001b[0mcolumns\u001b[0m\u001b[1;33m.\u001b[0m\u001b[0mis_unique\u001b[0m\u001b[1;33m:\u001b[0m\u001b[1;33m\u001b[0m\u001b[0m\n\u001b[1;32m-> 2692\u001b[1;33m             \u001b[1;32mreturn\u001b[0m \u001b[0mself\u001b[0m\u001b[1;33m.\u001b[0m\u001b[0m_get_item_cache\u001b[0m\u001b[1;33m(\u001b[0m\u001b[0mkey\u001b[0m\u001b[1;33m)\u001b[0m\u001b[1;33m\u001b[0m\u001b[0m\n\u001b[0m\u001b[0;32m   2693\u001b[0m \u001b[1;33m\u001b[0m\u001b[0m\n\u001b[0;32m   2694\u001b[0m         \u001b[1;31m# duplicate columns & possible reduce dimensionality\u001b[0m\u001b[1;33m\u001b[0m\u001b[1;33m\u001b[0m\u001b[0m\n",
      "\u001b[1;32m~\\Anaconda3\\lib\\site-packages\\pandas\\core\\generic.py\u001b[0m in \u001b[0;36m_get_item_cache\u001b[1;34m(self, item)\u001b[0m\n\u001b[0;32m   2484\u001b[0m         \u001b[0mres\u001b[0m \u001b[1;33m=\u001b[0m \u001b[0mcache\u001b[0m\u001b[1;33m.\u001b[0m\u001b[0mget\u001b[0m\u001b[1;33m(\u001b[0m\u001b[0mitem\u001b[0m\u001b[1;33m)\u001b[0m\u001b[1;33m\u001b[0m\u001b[0m\n\u001b[0;32m   2485\u001b[0m         \u001b[1;32mif\u001b[0m \u001b[0mres\u001b[0m \u001b[1;32mis\u001b[0m \u001b[1;32mNone\u001b[0m\u001b[1;33m:\u001b[0m\u001b[1;33m\u001b[0m\u001b[0m\n\u001b[1;32m-> 2486\u001b[1;33m             \u001b[0mvalues\u001b[0m \u001b[1;33m=\u001b[0m \u001b[0mself\u001b[0m\u001b[1;33m.\u001b[0m\u001b[0m_data\u001b[0m\u001b[1;33m.\u001b[0m\u001b[0mget\u001b[0m\u001b[1;33m(\u001b[0m\u001b[0mitem\u001b[0m\u001b[1;33m)\u001b[0m\u001b[1;33m\u001b[0m\u001b[0m\n\u001b[0m\u001b[0;32m   2487\u001b[0m             \u001b[0mres\u001b[0m \u001b[1;33m=\u001b[0m \u001b[0mself\u001b[0m\u001b[1;33m.\u001b[0m\u001b[0m_box_item_values\u001b[0m\u001b[1;33m(\u001b[0m\u001b[0mitem\u001b[0m\u001b[1;33m,\u001b[0m \u001b[0mvalues\u001b[0m\u001b[1;33m)\u001b[0m\u001b[1;33m\u001b[0m\u001b[0m\n\u001b[0;32m   2488\u001b[0m             \u001b[0mcache\u001b[0m\u001b[1;33m[\u001b[0m\u001b[0mitem\u001b[0m\u001b[1;33m]\u001b[0m \u001b[1;33m=\u001b[0m \u001b[0mres\u001b[0m\u001b[1;33m\u001b[0m\u001b[0m\n",
      "\u001b[1;32m~\\Anaconda3\\lib\\site-packages\\pandas\\core\\internals.py\u001b[0m in \u001b[0;36mget\u001b[1;34m(self, item, fastpath)\u001b[0m\n\u001b[0;32m   4113\u001b[0m \u001b[1;33m\u001b[0m\u001b[0m\n\u001b[0;32m   4114\u001b[0m             \u001b[1;32mif\u001b[0m \u001b[1;32mnot\u001b[0m \u001b[0misna\u001b[0m\u001b[1;33m(\u001b[0m\u001b[0mitem\u001b[0m\u001b[1;33m)\u001b[0m\u001b[1;33m:\u001b[0m\u001b[1;33m\u001b[0m\u001b[0m\n\u001b[1;32m-> 4115\u001b[1;33m                 \u001b[0mloc\u001b[0m \u001b[1;33m=\u001b[0m \u001b[0mself\u001b[0m\u001b[1;33m.\u001b[0m\u001b[0mitems\u001b[0m\u001b[1;33m.\u001b[0m\u001b[0mget_loc\u001b[0m\u001b[1;33m(\u001b[0m\u001b[0mitem\u001b[0m\u001b[1;33m)\u001b[0m\u001b[1;33m\u001b[0m\u001b[0m\n\u001b[0m\u001b[0;32m   4116\u001b[0m             \u001b[1;32melse\u001b[0m\u001b[1;33m:\u001b[0m\u001b[1;33m\u001b[0m\u001b[0m\n\u001b[0;32m   4117\u001b[0m                 \u001b[0mindexer\u001b[0m \u001b[1;33m=\u001b[0m \u001b[0mnp\u001b[0m\u001b[1;33m.\u001b[0m\u001b[0marange\u001b[0m\u001b[1;33m(\u001b[0m\u001b[0mlen\u001b[0m\u001b[1;33m(\u001b[0m\u001b[0mself\u001b[0m\u001b[1;33m.\u001b[0m\u001b[0mitems\u001b[0m\u001b[1;33m)\u001b[0m\u001b[1;33m)\u001b[0m\u001b[1;33m[\u001b[0m\u001b[0misna\u001b[0m\u001b[1;33m(\u001b[0m\u001b[0mself\u001b[0m\u001b[1;33m.\u001b[0m\u001b[0mitems\u001b[0m\u001b[1;33m)\u001b[0m\u001b[1;33m]\u001b[0m\u001b[1;33m\u001b[0m\u001b[0m\n",
      "\u001b[1;32m~\\Anaconda3\\lib\\site-packages\\pandas\\core\\indexes\\base.py\u001b[0m in \u001b[0;36mget_loc\u001b[1;34m(self, key, method, tolerance)\u001b[0m\n\u001b[0;32m   3063\u001b[0m                 \u001b[1;32mreturn\u001b[0m \u001b[0mself\u001b[0m\u001b[1;33m.\u001b[0m\u001b[0m_engine\u001b[0m\u001b[1;33m.\u001b[0m\u001b[0mget_loc\u001b[0m\u001b[1;33m(\u001b[0m\u001b[0mkey\u001b[0m\u001b[1;33m)\u001b[0m\u001b[1;33m\u001b[0m\u001b[0m\n\u001b[0;32m   3064\u001b[0m             \u001b[1;32mexcept\u001b[0m \u001b[0mKeyError\u001b[0m\u001b[1;33m:\u001b[0m\u001b[1;33m\u001b[0m\u001b[0m\n\u001b[1;32m-> 3065\u001b[1;33m                 \u001b[1;32mreturn\u001b[0m \u001b[0mself\u001b[0m\u001b[1;33m.\u001b[0m\u001b[0m_engine\u001b[0m\u001b[1;33m.\u001b[0m\u001b[0mget_loc\u001b[0m\u001b[1;33m(\u001b[0m\u001b[0mself\u001b[0m\u001b[1;33m.\u001b[0m\u001b[0m_maybe_cast_indexer\u001b[0m\u001b[1;33m(\u001b[0m\u001b[0mkey\u001b[0m\u001b[1;33m)\u001b[0m\u001b[1;33m)\u001b[0m\u001b[1;33m\u001b[0m\u001b[0m\n\u001b[0m\u001b[0;32m   3066\u001b[0m \u001b[1;33m\u001b[0m\u001b[0m\n\u001b[0;32m   3067\u001b[0m         \u001b[0mindexer\u001b[0m \u001b[1;33m=\u001b[0m \u001b[0mself\u001b[0m\u001b[1;33m.\u001b[0m\u001b[0mget_indexer\u001b[0m\u001b[1;33m(\u001b[0m\u001b[1;33m[\u001b[0m\u001b[0mkey\u001b[0m\u001b[1;33m]\u001b[0m\u001b[1;33m,\u001b[0m \u001b[0mmethod\u001b[0m\u001b[1;33m=\u001b[0m\u001b[0mmethod\u001b[0m\u001b[1;33m,\u001b[0m \u001b[0mtolerance\u001b[0m\u001b[1;33m=\u001b[0m\u001b[0mtolerance\u001b[0m\u001b[1;33m)\u001b[0m\u001b[1;33m\u001b[0m\u001b[0m\n",
      "\u001b[1;32mpandas\\_libs\\index.pyx\u001b[0m in \u001b[0;36mpandas._libs.index.IndexEngine.get_loc\u001b[1;34m()\u001b[0m\n",
      "\u001b[1;32mpandas\\_libs\\index.pyx\u001b[0m in \u001b[0;36mpandas._libs.index.IndexEngine.get_loc\u001b[1;34m()\u001b[0m\n",
      "\u001b[1;32mpandas\\_libs\\hashtable_class_helper.pxi\u001b[0m in \u001b[0;36mpandas._libs.hashtable.PyObjectHashTable.get_item\u001b[1;34m()\u001b[0m\n",
      "\u001b[1;32mpandas\\_libs\\hashtable_class_helper.pxi\u001b[0m in \u001b[0;36mpandas._libs.hashtable.PyObjectHashTable.get_item\u001b[1;34m()\u001b[0m\n",
      "\u001b[1;31mKeyError\u001b[0m: 'Model'"
     ]
    }
   ],
   "source": [
    "# print(\"Mean Squared Error:\", metrics.mean_squared_error(y_test.reshape(-1,1),model(2).reshape(-1,1)))\n",
    "\n",
    "A_Train=(metrics.mean_squared_error(y_train.reshape(-1,1),y_pred_train.reshape(-1,1)))\n",
    "A_Test=(metrics.mean_squared_error(y_test.reshape(-1,1),y_pred_test.reshape(-1,1)))\n",
    "\n",
    "# print(A_Train)\n",
    "# print(A_Test)\n",
    "B_Train=(metrics.mean_squared_error(y_train.reshape(-1,1),y_pred_train1.reshape(-1,1)))\n",
    "B_Test=(metrics.mean_squared_error(y_test.reshape(-1,1),y_pred_test1.reshape(-1,1)))\n",
    "\n",
    "Table={\"Training\":[A_Train,B_Train],\"Test\":[A_Test,B_Test]}\n",
    "Table_df = pd.DataFrame(Table)\n",
    "Table_df.set_index([['ModelA','ModelB'], 'Model'])\n",
    "print(Table_df)"
   ]
  },
  {
   "cell_type": "code",
   "execution_count": 269,
   "metadata": {},
   "outputs": [
    {
     "data": {
      "image/png": "[encoded data removed]",
      "text/plain": [
       "<Figure size 432x288 with 1 Axes>"
      ]
     },
     "metadata": {},
     "output_type": "display_data"
    },
    {
     "data": {
      "image/png": "[encoded data removed]",
      "text/plain": [
       "<Figure size 432x288 with 1 Axes>"
      ]
     },
     "metadata": {},
     "output_type": "display_data"
    }
   ],
   "source": [
    "visualize_function(2,-1,1)\n",
    "plt.plot(X_train,y_train,\"ro\")\n",
    "plt.title(\"Plot with 2 degree polynomial - MODEL A\")\n",
    "\n",
    "visualize_function(10,-1,1)\n",
    "plt.plot(X_train,y_train,\"ro\")\n",
    "plt.title(\"Plot with 10 degree polynomial - MODEL B\")\n",
    "plt.show()\n"
   ]
  },
  {
   "cell_type": "markdown",
   "metadata": {},
   "source": [
    "Step - 5 -\n",
    "The results are expected here as we can see in the two graphs ploted above for degree 2 and degree 10.\n",
    "The plot with 2 degree polynomial is not able to fit better because we can see that the points are more far away from the fitting curve as compared to the plot 1 with 10 degree polynomial which is able to fit better , the points are also mostly closer to the fitting curve. \n",
    "This is the reason why training error and Test error of Model  (2 Degree)  is more than the corresponding errors of model B(10 Degree)\n"
   ]
  },
  {
   "cell_type": "markdown",
   "metadata": {
    "colab_type": "text",
    "id": "APUqEUWUGmXo"
   },
   "source": [
    "### Task 4 (20 points)\n",
    "\n",
    "1.  Use the function written in Task 2 to generate a dataset of degree 45, with 20 samples each in the training and test sets. There should be no noise in the samples.\n",
    "2.  Repeat steps 2 to 4 from Task 3 for this dataset.\n",
    "3.  This target doesn't have noise like the previous one. Does this make the result surprising? Explain your stance. Also give a detailed explanation of why this happens.\n",
    "\n",
    "**Hint**: You are free (in fact encouraged) to design new experiements under the same paradigm to understand what is happening. You can buttress your explanation with any plots which you might generate from such new experiments."
   ]
  },
  {
   "cell_type": "markdown",
   "metadata": {},
   "source": [
    "Step 1 - Generating Dataset without noise"
   ]
  },
  {
   "cell_type": "code",
   "execution_count": 218,
   "metadata": {},
   "outputs": [],
   "source": [
    "dataset=generate_dataset(45, 20, 20, 0)\n",
    "X_train=dataset[0]\n",
    "y_train=dataset[1]\n",
    "X_test=dataset[2]\n",
    "y_test = dataset[3]\n",
    "\n",
    "y_train=np.asarray(y_train)\n",
    "y_test=np.asarray(y_test)\n"
   ]
  },
  {
   "cell_type": "markdown",
   "metadata": {},
   "source": [
    "Step - 2\n",
    "Calling visualize function to plot the graph"
   ]
  },
  {
   "cell_type": "code",
   "execution_count": 257,
   "metadata": {},
   "outputs": [
    {
     "data": {
      "text/plain": [
       "[<matplotlib.lines.Line2D at 0x23c0154b080>]"
      ]
     },
     "execution_count": 257,
     "metadata": {},
     "output_type": "execute_result"
    },
    {
     "data": {
      "image/png": "[encoded data removed]",
      "text/plain": [
       "<Figure size 432x288 with 1 Axes>"
      ]
     },
     "metadata": {},
     "output_type": "display_data"
    }
   ],
   "source": [
    "visualize_function(45,-1, 1)\n",
    "plt.plot(X_train,y_train,\"ro\")"
   ]
  },
  {
   "cell_type": "markdown",
   "metadata": {},
   "source": [
    "Step - 3 \n",
    "Created a function for creating two models which can be easily called while calculating the Training and test errors.\n",
    "This function returns predicted y values for the model."
   ]
  },
  {
   "cell_type": "code",
   "execution_count": 220,
   "metadata": {},
   "outputs": [],
   "source": [
    "def model(deg):\n",
    "    modelA=PolynomialFeatures(degree=deg) #test fit\n",
    "    linear_modelA= linear_model.LinearRegression()\n",
    "\n",
    "    X_points=modelA.fit_transform(X_train.reshape(-1,1))\n",
    "\n",
    "    linear_modelA.fit(X_points,y_train)\n",
    "\n",
    "    X_pred=modelA.fit_transform(X_train.reshape(-1,1))\n",
    "    y_pred=linear_modelA.predict(X_pred)\n",
    "\n",
    "    return y_pred"
   ]
  },
  {
   "cell_type": "markdown",
   "metadata": {},
   "source": [
    "Step - 4 \n",
    "Calculating Training and test accuracies and representing it in the form of table below."
   ]
  },
  {
   "cell_type": "code",
   "execution_count": 349,
   "metadata": {},
   "outputs": [
    {
     "name": "stdout",
     "output_type": "stream",
     "text": [
      "   Training      Test\n",
      "0  0.176347  0.127928\n",
      "1  0.033019  0.060056\n"
     ]
    }
   ],
   "source": [
    "A_Train=(metrics.mean_squared_error(y_train.reshape(-1,1),model(2).reshape(-1,1)))\n",
    "A_Test=(metrics.mean_squared_error(y_test.reshape(-1,1),model(2).reshape(-1,1)))\n",
    "\n",
    "B_Train=(metrics.mean_squared_error(y_train.reshape(-1,1),model(10).reshape(-1,1)))\n",
    "B_Test=(metrics.mean_squared_error(y_test.reshape(-1,1),model(10).reshape(-1,1)))\n",
    "\n",
    "Table={\"Training\":[A_Train,B_Train],\"Test\":[A_Test,B_Test]}\n",
    "Table_df = pd.DataFrame(Table)\n",
    "print(Table_df)\n"
   ]
  },
  {
   "cell_type": "markdown",
   "metadata": {},
   "source": [
    "Since there is zero noise , that is there is no uncertainity surrounding the data points and the regression curve, all the predicted values lie on the regression curve(Blue line). There are no outliers here. And this indicates that overfitting occurs here."
   ]
  }
 ],
 "metadata": {
  "colab": {
   "collapsed_sections": [],
   "name": "Assignment2.ipynb",
   "provenance": [],
   "version": "0.3.2"
  },
  "kernelspec": {
   "display_name": "Python 3",
   "language": "python",
   "name": "python3"
  },
  "language_info": {
   "codemirror_mode": {
    "name": "ipython",
    "version": 3
   },
   "file_extension": ".py",
   "mimetype": "text/x-python",
   "name": "python",
   "nbconvert_exporter": "python",
   "pygments_lexer": "ipython3",
   "version": "3.6.5"
  }
 },
 "nbformat": 4,
 "nbformat_minor": 1
}
